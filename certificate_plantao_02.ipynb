{
 "cells": [
  {
   "cell_type": "markdown",
   "id": "8b2805f1",
   "metadata": {},
   "source": [
    "# Plantão de Dúvidas "
   ]
  },
  {
   "cell_type": "markdown",
   "id": "b88b3d8a",
   "metadata": {},
   "source": [
    "Crie uma lista qualquer e faça um programa que imprima cada elemento da lista usando o for.\n",
    "\n"
   ]
  },
  {
   "cell_type": "code",
   "execution_count": 4,
   "id": "f2e7300b",
   "metadata": {},
   "outputs": [
    {
     "name": "stdout",
     "output_type": "stream",
     "text": [
      "['rychard', 27, 'lets code', 75]\n",
      "rychard\n",
      "27\n",
      "lets code\n",
      "75\n"
     ]
    }
   ],
   "source": [
    "lista = ['rychard', 27, 'lets code', 75]\n",
    "\n",
    "print(lista)\n",
    "print(lista[0])\n",
    "print(lista[1])\n",
    "print(lista[2])\n",
    "print(lista[3])"
   ]
  },
  {
   "cell_type": "code",
   "execution_count": 17,
   "id": "a730f9a4",
   "metadata": {},
   "outputs": [
    {
     "name": "stdout",
     "output_type": "stream",
     "text": [
      "rychard\n",
      "27\n",
      "lets code\n",
      "75\n",
      "89\n"
     ]
    }
   ],
   "source": [
    "lista = ['rychard', 27, 'lets code', 75, 89]\n",
    "\n",
    "for e in lista:\n",
    "    print(e)"
   ]
  },
  {
   "cell_type": "markdown",
   "id": "08e92afc",
   "metadata": {},
   "source": [
    "Faça um programa que imprima todos os itens de uma lista usando while e compare com o exercício 1."
   ]
  },
  {
   "cell_type": "code",
   "execution_count": 25,
   "id": "8f81cf72",
   "metadata": {},
   "outputs": [
    {
     "name": "stdout",
     "output_type": "stream",
     "text": [
      "rychard\n",
      "27\n",
      "lets code\n",
      "75\n",
      "89\n",
      "123\n",
      "abc\n"
     ]
    }
   ],
   "source": [
    "lista = ['rychard', 27, 'lets code', 75, 89, 123, 'abc']\n",
    "\n",
    "cont = 0\n",
    "\n",
    "while cont < len(lista):\n",
    "    print(lista[cont])\n",
    "    cont = cont + 1"
   ]
  },
  {
   "cell_type": "markdown",
   "id": "9eb5a56b",
   "metadata": {},
   "source": [
    "Faça uma função que recebe um número x e uma lista numérica e retorna uma lista cujos elementos são os itens da lista de entrada multiplicado por x.\n",
    "\n",
    "Exemplo: Se a função receber o número 5 e a lista [3,5,1], então a função deve retornar [5x3, 5x5, 5x1] = [15, 25, 5]."
   ]
  },
  {
   "cell_type": "code",
   "execution_count": 26,
   "id": "b1c45911",
   "metadata": {},
   "outputs": [
    {
     "name": "stdout",
     "output_type": "stream",
     "text": [
      "[15, 25, 5]\n"
     ]
    }
   ],
   "source": [
    "lista = [3, 5, 1]\n",
    "numero = 5\n",
    "\n",
    "lista_nova = []\n",
    "\n",
    "for e in lista:\n",
    "    resultado = e*numero\n",
    "    lista_nova.append(resultado)\n",
    "    \n",
    "print(lista_nova)"
   ]
  },
  {
   "cell_type": "code",
   "execution_count": 27,
   "id": "c4ba2db5",
   "metadata": {},
   "outputs": [],
   "source": [
    "def vetor_x_escalar(lista, numero):\n",
    "    \n",
    "    lista_nova = []\n",
    "\n",
    "    for e in lista:\n",
    "        resultado = e*numero\n",
    "        lista_nova.append(resultado)\n",
    "        \n",
    "    return lista_nova"
   ]
  },
  {
   "cell_type": "code",
   "execution_count": 29,
   "id": "88c8a49d",
   "metadata": {},
   "outputs": [
    {
     "name": "stdout",
     "output_type": "stream",
     "text": [
      "[15, 25, 5]\n",
      "[10, 6, 8, 16]\n"
     ]
    }
   ],
   "source": [
    "print(vetor_x_escalar([3, 5, 1], 5))\n",
    "print(vetor_x_escalar([5, 3, 4, 8], 2))"
   ]
  },
  {
   "cell_type": "markdown",
   "id": "dd89e3b4",
   "metadata": {},
   "source": [
    "Gostaria de saber se poderia explicar o Desafio 3 da aula 4, porque ao testar o código, as condições \"Fibonacci(1) = 1 e Fibonacci(2) = 2\" não são possíveis de reproduzir, além do fato de poder existir Fibonacci(0) = 0. Grato, desde já. "
   ]
  },
  {
   "cell_type": "raw",
   "id": "fc1f05a4",
   "metadata": {},
   "source": [
    "Aconteceu um typo na criação da questão. Onde tinha \n",
    "Fibonacci(2) = 2;\n",
    "deveria ser \n",
    "Fibonacci(2) = 1;"
   ]
  },
  {
   "cell_type": "markdown",
   "id": "aa45f4b5",
   "metadata": {},
   "source": [
    "Fazendo o Fibonacci recursivo:"
   ]
  },
  {
   "cell_type": "markdown",
   "id": "dc45e356",
   "metadata": {},
   "source": [
    "1. É uma função que precisa chamar ela própria;\n",
    "2. Precisa ter uma condição de parada;\n",
    "3. Função recursiva precisa caminhar em direção da condição de parada."
   ]
  },
  {
   "cell_type": "code",
   "execution_count": 40,
   "id": "9062555b",
   "metadata": {},
   "outputs": [],
   "source": [
    "def fib(n):\n",
    "    \n",
    "    if n < 1:\n",
    "        print('Erro!')\n",
    "        return -1\n",
    "    \n",
    "    if n == 1 or n == 2:\n",
    "        return 1\n",
    "    \n",
    "    return fib(n - 1) + fib(n - 2)"
   ]
  },
  {
   "cell_type": "raw",
   "id": "2ca054c3",
   "metadata": {},
   "source": [
    "def fib(5):\n",
    "    if n == 1 or n == 2:\n",
    "        return 1\n",
    "    return 5\n",
    "\n",
    "def fib(4):\n",
    "    if n == 1 or n == 2:\n",
    "        return 1\n",
    "    return 3\n",
    "\n",
    "def fib(3):\n",
    "    if n == 1 or n == 2:\n",
    "        return 1\n",
    "    return 2\n",
    "\n",
    "def fib(2):\n",
    "    if n == 1 or n == 2:\n",
    "        return 1\n",
    "\n",
    "def fib(1):\n",
    "    if n == 1 or n == 2:\n",
    "        return 1"
   ]
  },
  {
   "cell_type": "code",
   "execution_count": 41,
   "id": "003d0bef",
   "metadata": {},
   "outputs": [
    {
     "name": "stdout",
     "output_type": "stream",
     "text": [
      "Erro!\n",
      "0 -1\n",
      "1 1\n",
      "2 1\n",
      "3 2\n",
      "4 3\n",
      "5 5\n",
      "6 8\n",
      "7 13\n"
     ]
    }
   ],
   "source": [
    "for i in range(8):\n",
    "    print(i, fib(i))"
   ]
  },
  {
   "cell_type": "markdown",
   "id": "f5844911",
   "metadata": {},
   "source": [
    "Neste exercício você deve criar um novo arquivo chamado \"alunos_media.csv\". Esse novo arquivo é uma cópia de \"alunos.csv\" porém com uma coluna a mais chamada \"Média\" que vai abrigar os valores das médias das provas de cada aluno da lista.\n",
    "\n"
   ]
  },
  {
   "cell_type": "code",
   "execution_count": 71,
   "id": "723a150e",
   "metadata": {},
   "outputs": [
    {
     "name": "stdout",
     "output_type": "stream",
     "text": [
      "final do programa, médias calculadas\n"
     ]
    }
   ],
   "source": [
    "with open('alunos.csv') as f:\n",
    "    cabecalho = f.readline()\n",
    "    conteudo = f.read()\n",
    "    \n",
    "with open('alunos_media.csv', 'w') as f:\n",
    "    \n",
    "    f.write(cabecalho.rstrip('\\n') + ',Media\\n')\n",
    "    \n",
    "    for linha in conteudo.split('\\n'):\n",
    "        \n",
    "        if linha != '':\n",
    "        \n",
    "            lista = linha.split(',')\n",
    "\n",
    "            soma = float(lista[3]) + float(lista[4]) + float(lista[5]) + float(lista[6])\n",
    "            media = soma/4\n",
    "\n",
    "            f.write(linha + ',' + str(media) + '\\n')\n",
    "        \n",
    "print('final do programa, médias calculadas')"
   ]
  },
  {
   "cell_type": "markdown",
   "id": "4979b41f",
   "metadata": {},
   "source": [
    "Datetime e Random"
   ]
  },
  {
   "cell_type": "code",
   "execution_count": 73,
   "id": "43923303",
   "metadata": {},
   "outputs": [],
   "source": [
    "import datetime"
   ]
  },
  {
   "cell_type": "code",
   "execution_count": 80,
   "id": "a37d5c62",
   "metadata": {},
   "outputs": [
    {
     "data": {
      "text/plain": [
       "20"
      ]
     },
     "execution_count": 80,
     "metadata": {},
     "output_type": "execute_result"
    }
   ],
   "source": [
    "data = datetime.datetime.now()\n",
    "data.hour"
   ]
  },
  {
   "cell_type": "code",
   "execution_count": 118,
   "id": "c4163027",
   "metadata": {},
   "outputs": [
    {
     "name": "stdout",
     "output_type": "stream",
     "text": [
      "20\n"
     ]
    }
   ],
   "source": [
    "import random\n",
    "\n",
    "print(random.randint(0, 20))"
   ]
  },
  {
   "cell_type": "markdown",
   "id": "6c9b61b5",
   "metadata": {},
   "source": [
    "Faça uma função que receba uma string e uma letra e:\n",
    "\n",
    "- imprima quantas vezes a letra aparece na string;\n",
    "- imprima todas as posições em que a letra aparece na string;\n",
    "- retorne a distância entre a primeira e a última aparição dessa letra na string."
   ]
  },
  {
   "cell_type": "code",
   "execution_count": null,
   "id": "a55f4a7e",
   "metadata": {},
   "outputs": [],
   "source": []
  },
  {
   "cell_type": "markdown",
   "id": "95cc8aa2",
   "metadata": {},
   "source": [
    "Faça um programa que, dadas duas listas de mesmo tamanho, crie uma nova lista com cada elemento igual a soma dos elementos da lista 1 com a lista 2, na mesma posição."
   ]
  },
  {
   "cell_type": "code",
   "execution_count": null,
   "id": "c2643353",
   "metadata": {},
   "outputs": [],
   "source": []
  },
  {
   "cell_type": "markdown",
   "id": "432c687e",
   "metadata": {},
   "source": [
    "Uma empresa de 500 funcionários está tendo problemas de espaço em disco no seu servidor de arquivos. Para tentar resolver este problema, o Administrador de Rede precisa saber qual o espaço ocupado pelos usuários, e identificar os usuários com maior espaço ocupado. Através de um programa, baixado da Internet, ele conseguiu gerar o seguinte arquivo, chamado \"usuarios.txt\":\n",
    "\n",
    "```\n",
    "alexandre      456123789\n",
    "anderson       1245698456\n",
    "antonio        123456456\n",
    "carlos         91257581\n",
    "cesar          987458\n",
    "rosemary       789456125\n",
    "```\n",
    "\n",
    "Neste arquivo, o nome do usuário possui 15 caracteres. A partir deste arquivo, você deve criar um programa que gere um relatório, chamado \"relatório.txt\", no seguinte formato:\n",
    "\n",
    "\n",
    "```\n",
    "Uso do espaço em disco pelos usuários\n",
    "-------------------------------------------------\n",
    "Nr.  Usuário        Espaço utilizado    % do uso\n",
    "\n",
    "1    alexandre      434,99 MB           16,85%\n",
    "2    anderson       1187,99 MB          46,02%\n",
    "3    antonio        117,73 MB           4,56%\n",
    "4    carlos         87,03 MB            3,37%\n",
    "5    cesar          0,94 MB             0,04%\n",
    "6    rosemary       752,88 MB           29,16%\n",
    "\n",
    "Espaço total ocupado: 2581,57 MB\n",
    "Espaço médio ocupado: 430,26 MB\n",
    "```\n",
    "\n",
    "O arquivo de entrada deve ser lido uma única vez, e os dados armazenados em memória, caso sejam necessários, de forma a agilizar a execução do programa. A conversão da espaço ocupado em disco, de bytes para megabytes deverá ser feita através de uma função separada, que será chamada pelo programa principal. O cálculo do percentual de uso também deverá ser feito através de uma função, que será chamada pelo programa principal."
   ]
  },
  {
   "cell_type": "code",
   "execution_count": null,
   "id": "8d77cb52",
   "metadata": {},
   "outputs": [],
   "source": []
  },
  {
   "cell_type": "markdown",
   "id": "9cc37ad1",
   "metadata": {},
   "source": [
    "Faça um programa que leia um arquivo texto contendo uma lista de endereços IP e gere um outro arquivo, contendo um relatório dos endereços IP válidos e inválidos.\n",
    "O arquivo de entrada possui o seguinte formato:\n",
    "\n",
    "```\n",
    "200.135.80.9\n",
    "192.168.1.1\n",
    "8.35.67.74\n",
    "257.32.4.5\n",
    "85.345.1.2\n",
    "1.2.3.4\n",
    "9.8.234.5\n",
    "192.168.0.256\n",
    "```\n",
    "\n",
    "O arquivo de saída possui o seguinte formato:\n",
    "\n",
    "```\n",
    "[Endereços válidos:]\n",
    "200.135.80.9\n",
    "192.168.1.1\n",
    "8.35.67.74\n",
    "9.8.234.5\n",
    "1.2.3.4\n",
    "\n",
    "[Endereços inválidos:]\n",
    "257.32.4.5\n",
    "85.345.1.2\n",
    "192.168.0.256\n",
    "```"
   ]
  },
  {
   "cell_type": "code",
   "execution_count": null,
   "id": "7999f5b5",
   "metadata": {},
   "outputs": [],
   "source": []
  }
 ],
 "metadata": {
  "kernelspec": {
   "display_name": "Python 3",
   "language": "python",
   "name": "python3"
  },
  "language_info": {
   "codemirror_mode": {
    "name": "ipython",
    "version": 3
   },
   "file_extension": ".py",
   "mimetype": "text/x-python",
   "name": "python",
   "nbconvert_exporter": "python",
   "pygments_lexer": "ipython3",
   "version": "3.9.5"
  }
 },
 "nbformat": 4,
 "nbformat_minor": 5
}
