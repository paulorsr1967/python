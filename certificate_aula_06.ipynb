{
 "cells": [
  {
   "cell_type": "markdown",
   "id": "b55bea63",
   "metadata": {},
   "source": [
    "# Na aula passada..."
   ]
  },
  {
   "cell_type": "markdown",
   "id": "bad48619",
   "metadata": {},
   "source": [
    "Crie uma função que recebe uma quantidade indefinida de parâmetros e cria um arquivo chamado cadastro_xx.txt, onde xx é o próximo número da sequência de arquivos já existente (se não existir nenhum arquivo, cria o cadastro_00.txt; se já existir o cadastro_00.txt, cria o cadastro_01.txt; e assim por diante). Nesse arquivo deverá ser armazenado um parâmetro por linha, chave e valor, separados por vírgula."
   ]
  },
  {
   "cell_type": "code",
   "execution_count": 72,
   "id": "690c3ee1",
   "metadata": {},
   "outputs": [],
   "source": [
    "import os\n",
    "\n",
    "def cadastro(**kwargs):\n",
    "    \n",
    "    lista_interesse = []\n",
    "    lista_numeros = []\n",
    "\n",
    "    for arq in os.listdir():\n",
    "        if 'cadastro_' in arq:\n",
    "            lista_interesse.append(arq)\n",
    "            \n",
    "    if len(lista_interesse) == 0:\n",
    "        numero_arq = 0\n",
    "    else:\n",
    "        for arq in lista_interesse:\n",
    "            numero_arq = arq.replace('cadastro_', '').replace('.txt', '')\n",
    "            numero_arq = int(numero_arq)\n",
    "            lista_numeros.append(numero_arq)\n",
    "        numero_arq = max(lista_numeros) + 1\n",
    "    \n",
    "    with open(f'cadastro_{numero_arq}.txt', 'w') as f:\n",
    "    \n",
    "        for chave, valor in kwargs.items():\n",
    "            string_saida = f'{chave},{valor}\\n'\n",
    "            f.write(string_saida)"
   ]
  },
  {
   "cell_type": "code",
   "execution_count": 70,
   "id": "e7f822ec",
   "metadata": {},
   "outputs": [],
   "source": [
    "cadastro(nome = 'joao', idade = 35, sexo = 'm')"
   ]
  },
  {
   "cell_type": "code",
   "execution_count": 71,
   "id": "e0e5303a",
   "metadata": {},
   "outputs": [],
   "source": [
    "cadastro(nome = 'maria', idade = 40, sexo = 'f')"
   ]
  },
  {
   "cell_type": "code",
   "execution_count": 73,
   "id": "07e47930",
   "metadata": {},
   "outputs": [],
   "source": [
    "cadastro(nome = 'andré', idade = 29, sexo = 'm')"
   ]
  },
  {
   "cell_type": "markdown",
   "id": "9354fa8f",
   "metadata": {},
   "source": [
    "# Hoje!"
   ]
  },
  {
   "cell_type": "markdown",
   "id": "9820eb18",
   "metadata": {},
   "source": [
    "O que podemos fazer para representar um funcionário de uma empresa?"
   ]
  },
  {
   "cell_type": "code",
   "execution_count": 74,
   "id": "9aa4c274",
   "metadata": {},
   "outputs": [],
   "source": [
    "nome = 'rychard'\n",
    "matricula = 123\n",
    "idade = 27\n",
    "data_admissao = '01/01/2021'\n",
    "salario_hora = 10\n",
    "horas_trabalhadas_mes = 20"
   ]
  },
  {
   "cell_type": "code",
   "execution_count": null,
   "id": "4b38a07b",
   "metadata": {},
   "outputs": [],
   "source": [
    "nome_2 = 'joao'\n",
    "matricula_2 = 456\n",
    "idade_2\n",
    "data_admissao_2"
   ]
  },
  {
   "cell_type": "markdown",
   "id": "683921e8",
   "metadata": {},
   "source": [
    "Será que existe uma forma de criar uma variável única que represente um funcionário?"
   ]
  },
  {
   "cell_type": "code",
   "execution_count": 75,
   "id": "876d3754",
   "metadata": {},
   "outputs": [],
   "source": [
    "funcionario_1 = ['rychard', 123, 27, '01/01/2021', 10, 20]\n",
    "funcionario_2 = ['joao', 456, 30, '01/01/2019', 10, 20]"
   ]
  },
  {
   "cell_type": "markdown",
   "id": "6c667874",
   "metadata": {},
   "source": [
    "Como calcular o salário mensal?"
   ]
  },
  {
   "cell_type": "code",
   "execution_count": 76,
   "id": "df9533d9",
   "metadata": {},
   "outputs": [
    {
     "data": {
      "text/plain": [
       "200"
      ]
     },
     "execution_count": 76,
     "metadata": {},
     "output_type": "execute_result"
    }
   ],
   "source": [
    "funcionario_1[4] * funcionario_1[5]"
   ]
  },
  {
   "cell_type": "markdown",
   "id": "d7b4e0b3",
   "metadata": {},
   "source": [
    "Podemos usar programação orientada a objetos para nos auxiliar nesse processo!"
   ]
  },
  {
   "cell_type": "code",
   "execution_count": 84,
   "id": "691f9332",
   "metadata": {},
   "outputs": [
    {
     "name": "stdout",
     "output_type": "stream",
     "text": [
      "abc\n",
      "xyz\n",
      "ABC\n",
      "xyz\n"
     ]
    }
   ],
   "source": [
    "x = 'abc'\n",
    "y = 'xyz'\n",
    "\n",
    "print(x)\n",
    "print(y)\n",
    "\n",
    "x = x.upper()\n",
    "\n",
    "print(x)\n",
    "print(y)"
   ]
  },
  {
   "cell_type": "code",
   "execution_count": 97,
   "id": "66b22a8c",
   "metadata": {},
   "outputs": [],
   "source": [
    "class Funcionario:\n",
    "    \n",
    "    nome = 'rychard'\n",
    "    matricula = 123\n",
    "    idade = 27\n",
    "    data_admissao = '01/01/2021'\n",
    "    salario_hora = 10\n",
    "    horas_trabalhadas_mes = 20\n",
    "    "
   ]
  },
  {
   "cell_type": "code",
   "execution_count": 98,
   "id": "576810ab",
   "metadata": {},
   "outputs": [],
   "source": [
    "f1 = Funcionario()\n",
    "f2 = Funcionario()"
   ]
  },
  {
   "cell_type": "code",
   "execution_count": 99,
   "id": "ad91c5e3",
   "metadata": {},
   "outputs": [
    {
     "name": "stdout",
     "output_type": "stream",
     "text": [
      "rychard\n",
      "10\n",
      "27\n",
      "rychard\n",
      "10\n",
      "27\n"
     ]
    }
   ],
   "source": [
    "print(f1.nome)\n",
    "print(f1.salario_hora)\n",
    "print(f1.idade)\n",
    "\n",
    "print(f2.nome)\n",
    "print(f2.salario_hora)\n",
    "print(f2.idade)"
   ]
  },
  {
   "cell_type": "code",
   "execution_count": 100,
   "id": "82e4d666",
   "metadata": {},
   "outputs": [],
   "source": [
    "f2.nome = 'joao'"
   ]
  },
  {
   "cell_type": "code",
   "execution_count": 101,
   "id": "37043022",
   "metadata": {},
   "outputs": [
    {
     "name": "stdout",
     "output_type": "stream",
     "text": [
      "rychard\n",
      "10\n",
      "27\n",
      "joao\n",
      "10\n",
      "27\n"
     ]
    }
   ],
   "source": [
    "print(f1.nome)\n",
    "print(f1.salario_hora)\n",
    "print(f1.idade)\n",
    "\n",
    "print(f2.nome)\n",
    "print(f2.salario_hora)\n",
    "print(f2.idade)"
   ]
  },
  {
   "cell_type": "markdown",
   "id": "eae444c5",
   "metadata": {},
   "source": [
    "Passando atributos na construção de um objeto usando o `__init__()`"
   ]
  },
  {
   "cell_type": "code",
   "execution_count": null,
   "id": "94880275",
   "metadata": {},
   "outputs": [],
   "source": [
    "nome = 'rychard'\n",
    "matricula = 123\n",
    "idade = 27\n",
    "data_admissao = '01/01/2021'\n",
    "salario_hora = 10\n",
    "horas_trabalhadas_mes = 20"
   ]
  },
  {
   "cell_type": "code",
   "execution_count": 112,
   "id": "46b0bf71",
   "metadata": {},
   "outputs": [],
   "source": [
    "class Funcionario:\n",
    "    \n",
    "    def __init__(self, nome, matricula, idade, da, sh, htm):\n",
    "        self.nome = nome\n",
    "        self.matricula = matricula\n",
    "        self.idade = idade\n",
    "        self.data_admissao = da\n",
    "        self.salario_hora = sh\n",
    "        self.horas_trabalhadas_mes = htm"
   ]
  },
  {
   "cell_type": "code",
   "execution_count": 111,
   "id": "359ab6b8",
   "metadata": {},
   "outputs": [],
   "source": [
    "f1 = Funcionario('rychard', 123, 27, '01/01/2021', 10, 20)\n",
    "f2 = Funcionario('joao', 456, 30, '01/01/2019', 10, 20)"
   ]
  },
  {
   "cell_type": "code",
   "execution_count": 107,
   "id": "8d20fce2",
   "metadata": {},
   "outputs": [
    {
     "name": "stdout",
     "output_type": "stream",
     "text": [
      "rychard\n",
      "10\n",
      "27\n",
      "joao\n",
      "10\n",
      "30\n"
     ]
    }
   ],
   "source": [
    "print(f1.nome)\n",
    "print(f1.salario_hora)\n",
    "print(f1.idade)\n",
    "\n",
    "print(f2.nome)\n",
    "print(f2.salario_hora)\n",
    "print(f2.idade)"
   ]
  },
  {
   "cell_type": "markdown",
   "id": "02941f51",
   "metadata": {},
   "source": [
    "**Para exercitar**: Crie uma classe Retângulo cujos atributos são lado_a e lado_b. Em seguinda, crie um objeto dessa classe e mostre na tela o lado_a e lado_b."
   ]
  },
  {
   "cell_type": "code",
   "execution_count": 108,
   "id": "7de66fdf",
   "metadata": {},
   "outputs": [],
   "source": [
    "class Retangulo:\n",
    "    \n",
    "    def __init__(self, lado_a, lado_b):\n",
    "        self.lado_a = lado_a\n",
    "        self.lado_b = lado_b"
   ]
  },
  {
   "cell_type": "code",
   "execution_count": 109,
   "id": "d4921328",
   "metadata": {},
   "outputs": [
    {
     "name": "stdout",
     "output_type": "stream",
     "text": [
      "2\n",
      "9\n"
     ]
    }
   ],
   "source": [
    "r1 = Retangulo(2, 9)\n",
    "print(r1.lado_a)\n",
    "print(r1.lado_b)"
   ]
  },
  {
   "cell_type": "markdown",
   "id": "ad36a1b6",
   "metadata": {},
   "source": [
    "Quando alteramos os atributos de um objeto, estamos alterando apenas do objeto! Para exemplificar, podemos criar um atributo chamado `reuniao`. Caso verdadeiro, significa que a pessoa está em reunião, e que não está em reunião caso seja falso."
   ]
  },
  {
   "cell_type": "code",
   "execution_count": 130,
   "id": "54a7105f",
   "metadata": {},
   "outputs": [],
   "source": [
    "class Funcionario:\n",
    "    \n",
    "    def __init__(self, nome, matricula, idade, da, sh, htm):\n",
    "        self.nome = nome\n",
    "        self.matricula = matricula\n",
    "        self.idade = idade\n",
    "        self.data_admissao = da\n",
    "        self.salario_hora = sh\n",
    "        self.horas_trabalhadas_mes = htm"
   ]
  },
  {
   "cell_type": "code",
   "execution_count": 131,
   "id": "e85eb271",
   "metadata": {},
   "outputs": [],
   "source": [
    "f1 = Funcionario('rychard', 123, 27, '01/01/2021', 10, 20)\n",
    "f2 = Funcionario('joao', 456, 30, '01/01/2019', 10, 20)"
   ]
  },
  {
   "cell_type": "code",
   "execution_count": 132,
   "id": "69c2ece7",
   "metadata": {},
   "outputs": [
    {
     "name": "stdout",
     "output_type": "stream",
     "text": [
      "rychard\n",
      "10\n",
      "27\n",
      "joao\n",
      "10\n",
      "30\n"
     ]
    }
   ],
   "source": [
    "print(f1.nome)\n",
    "print(f1.salario_hora)\n",
    "print(f1.idade)\n",
    "\n",
    "print(f2.nome)\n",
    "print(f2.salario_hora)\n",
    "print(f2.idade)"
   ]
  },
  {
   "cell_type": "markdown",
   "id": "42b3e8f5",
   "metadata": {},
   "source": [
    "Cada objeto dessa classe terá funções (métodos) que são aplicados aos próprios objetos, tomando os atributos do objeto como referência. \n",
    "\n",
    "Por exemplo, podemos criar um método chamado `auxilio`. Caso seja solicitado auxílio a um determinado funcionário, ele deverá responder \"pois não?\" caso esteja disponível. Caso contrário, deverá responder com \"desculpe, agora não posso\"."
   ]
  },
  {
   "cell_type": "code",
   "execution_count": 135,
   "id": "41c1661e",
   "metadata": {},
   "outputs": [],
   "source": [
    "class Funcionario:\n",
    "    \n",
    "    def __init__(self, nome, matricula, idade, da, sh, htm):\n",
    "        self.nome = nome\n",
    "        self.matricula = matricula\n",
    "        self.idade = idade\n",
    "        self.data_admissao = da\n",
    "        self.salario_hora = sh\n",
    "        self.horas_trabalhadas_mes = htm\n",
    "        self.reuniao = False\n",
    "        \n",
    "    def ajuda(self):\n",
    "        if self.reuniao == True:\n",
    "            print('desculpa, estou em reunião, não posso ajudar')\n",
    "        else:\n",
    "            print('oi, estou disponível, em que posso ajudar?')"
   ]
  },
  {
   "cell_type": "code",
   "execution_count": 136,
   "id": "f42fb769",
   "metadata": {},
   "outputs": [],
   "source": [
    "f1 = Funcionario('rychard', 123, 27, '01/01/2021', 10, 20)\n",
    "f2 = Funcionario('joao', 456, 30, '01/01/2019', 10, 20)"
   ]
  },
  {
   "cell_type": "code",
   "execution_count": 137,
   "id": "8925c412",
   "metadata": {},
   "outputs": [
    {
     "name": "stdout",
     "output_type": "stream",
     "text": [
      "rychard\n",
      "10\n",
      "27\n",
      "False\n",
      "joao\n",
      "10\n",
      "30\n",
      "False\n"
     ]
    }
   ],
   "source": [
    "print(f1.nome)\n",
    "print(f1.salario_hora)\n",
    "print(f1.idade)\n",
    "print(f1.reuniao)\n",
    "\n",
    "print(f2.nome)\n",
    "print(f2.salario_hora)\n",
    "print(f2.idade)\n",
    "print(f2.reuniao)"
   ]
  },
  {
   "cell_type": "code",
   "execution_count": 140,
   "id": "645ccd96",
   "metadata": {},
   "outputs": [],
   "source": [
    "f1.reuniao = True"
   ]
  },
  {
   "cell_type": "code",
   "execution_count": 141,
   "id": "81a10e15",
   "metadata": {},
   "outputs": [
    {
     "name": "stdout",
     "output_type": "stream",
     "text": [
      "rychard\n",
      "10\n",
      "27\n",
      "True\n",
      "joao\n",
      "10\n",
      "30\n",
      "False\n"
     ]
    }
   ],
   "source": [
    "print(f1.nome)\n",
    "print(f1.salario_hora)\n",
    "print(f1.idade)\n",
    "print(f1.reuniao)\n",
    "\n",
    "print(f2.nome)\n",
    "print(f2.salario_hora)\n",
    "print(f2.idade)\n",
    "print(f2.reuniao)"
   ]
  },
  {
   "cell_type": "code",
   "execution_count": 142,
   "id": "ae95e1ca",
   "metadata": {},
   "outputs": [
    {
     "name": "stdout",
     "output_type": "stream",
     "text": [
      "desculpa, estou em reunião, não posso ajudar\n"
     ]
    }
   ],
   "source": [
    "f1.ajuda()"
   ]
  },
  {
   "cell_type": "code",
   "execution_count": 143,
   "id": "15fcbc33",
   "metadata": {},
   "outputs": [
    {
     "name": "stdout",
     "output_type": "stream",
     "text": [
      "oi, estou disponível, em que posso ajudar?\n"
     ]
    }
   ],
   "source": [
    "f2.ajuda()"
   ]
  },
  {
   "cell_type": "markdown",
   "id": "d93320a2",
   "metadata": {},
   "source": [
    "**Para exercitar**: Na classe Retângulo, crie um método para calcular a área desse retângulo. Em seguinda, crie um objeto dessa classe e calcule a área e a imprima em seguida."
   ]
  },
  {
   "cell_type": "code",
   "execution_count": 150,
   "id": "9afa80a2",
   "metadata": {},
   "outputs": [],
   "source": [
    "class Retangulo:\n",
    "    \n",
    "    def __init__(self, lado_a, lado_b):\n",
    "        self.lado_a = lado_a\n",
    "        self.lado_b = lado_b\n",
    "        \n",
    "    def calcula_area(self):\n",
    "        area = self.lado_a * self.lado_b\n",
    "        return area\n",
    "\n",
    "    def compara(self, outro):\n",
    "        if self.calcula_area() > outro.calcula_area():\n",
    "            print('o próprio é maior')\n",
    "        elif self.calcula_area() < outro.calcula_area():\n",
    "            print('o próprio é menor')\n",
    "        else:\n",
    "            print('ambos possuem áreas iguais')\n",
    "    "
   ]
  },
  {
   "cell_type": "code",
   "execution_count": 151,
   "id": "f67a1a21",
   "metadata": {},
   "outputs": [
    {
     "name": "stdout",
     "output_type": "stream",
     "text": [
      "2\n",
      "9\n",
      "18\n"
     ]
    }
   ],
   "source": [
    "r1 = Retangulo(2, 9)\n",
    "print(r1.lado_a)\n",
    "print(r1.lado_b)\n",
    "print(r1.calcula_area())"
   ]
  },
  {
   "cell_type": "code",
   "execution_count": 152,
   "id": "2e31118b",
   "metadata": {},
   "outputs": [
    {
     "name": "stdout",
     "output_type": "stream",
     "text": [
      "4\n",
      "3\n",
      "12\n"
     ]
    }
   ],
   "source": [
    "r2 = Retangulo(4, 3)\n",
    "print(r2.lado_a)\n",
    "print(r2.lado_b)\n",
    "print(r2.calcula_area())"
   ]
  },
  {
   "cell_type": "code",
   "execution_count": 153,
   "id": "78c65156",
   "metadata": {},
   "outputs": [
    {
     "name": "stdout",
     "output_type": "stream",
     "text": [
      "o próprio é maior\n"
     ]
    }
   ],
   "source": [
    "r1.compara(r2)"
   ]
  },
  {
   "cell_type": "code",
   "execution_count": 154,
   "id": "583ab7f5",
   "metadata": {},
   "outputs": [
    {
     "name": "stdout",
     "output_type": "stream",
     "text": [
      "o próprio é menor\n"
     ]
    }
   ],
   "source": [
    "r2.compara(r1)"
   ]
  },
  {
   "cell_type": "markdown",
   "id": "4415d626",
   "metadata": {},
   "source": [
    "**Para exercitar**: Crie uma classe Cliente cujos atributos são nome, idade, e-mail e início de relacionamento (data que virou cliente). Construa um método que imprima as informações."
   ]
  },
  {
   "cell_type": "code",
   "execution_count": 157,
   "id": "13bd20ba",
   "metadata": {},
   "outputs": [
    {
     "name": "stdout",
     "output_type": "stream",
     "text": [
      "rychard\n",
      "27\n",
      "rychard.guedes@letscode\n",
      "01/01/2021\n"
     ]
    }
   ],
   "source": [
    "class Cliente:\n",
    "    \n",
    "    def __init__(self, nome, idade, email, inicio_relacionamento):\n",
    "        \n",
    "        self.nome = nome\n",
    "        self.idade = idade\n",
    "        self.email = email\n",
    "        self.inicio_relacionamento = inicio_relacionamento\n",
    "        \n",
    "    def visualizar_informacoes(self):\n",
    "        print(self.nome)\n",
    "        print(self.idade)\n",
    "        print(self.email)\n",
    "        print(self.inicio_relacionamento)\n",
    "        \n",
    "c1 = Cliente('rychard', 27, 'rychard.guedes@letscode', '01/01/2021')\n",
    "c1.visualizar_informacoes()\n",
    "        "
   ]
  },
  {
   "cell_type": "code",
   "execution_count": 163,
   "id": "48618134",
   "metadata": {},
   "outputs": [],
   "source": [
    "import datetime\n",
    "\n",
    "data_1 = datetime.datetime.now()"
   ]
  },
  {
   "cell_type": "code",
   "execution_count": 164,
   "id": "2d72a0ca",
   "metadata": {},
   "outputs": [
    {
     "name": "stdout",
     "output_type": "stream",
     "text": [
      "2021-07-07 18:31:06.232001\n"
     ]
    }
   ],
   "source": [
    "print(data_1)"
   ]
  },
  {
   "cell_type": "code",
   "execution_count": 165,
   "id": "eaa3f142",
   "metadata": {},
   "outputs": [
    {
     "name": "stdout",
     "output_type": "stream",
     "text": [
      "2021-07-07 18:31:20.171896\n"
     ]
    }
   ],
   "source": [
    "data_2 = datetime.datetime.now()\n",
    "print(data_2)"
   ]
  },
  {
   "cell_type": "code",
   "execution_count": 167,
   "id": "9af9ab66",
   "metadata": {},
   "outputs": [
    {
     "data": {
      "text/plain": [
       "True"
      ]
     },
     "execution_count": 167,
     "metadata": {},
     "output_type": "execute_result"
    }
   ],
   "source": [
    "data_1 < data_2"
   ]
  },
  {
   "cell_type": "code",
   "execution_count": 170,
   "id": "5070a7b1",
   "metadata": {},
   "outputs": [
    {
     "name": "stdout",
     "output_type": "stream",
     "text": [
      "nome: rychard\n",
      "idade: 27\n",
      "email: rychard.guedes@letscode\n",
      "inicio de relacionamento: 2021-07-07 18:33:00.264461\n"
     ]
    }
   ],
   "source": [
    "class Cliente:\n",
    "    \n",
    "    def __init__(self, nome, idade, email):\n",
    "        self.nome = nome\n",
    "        self.idade = idade\n",
    "        self.email = email\n",
    "        self.inicio_relacionamento = datetime.datetime.now()\n",
    "        \n",
    "    def visualizar_informacoes(self):\n",
    "        print('nome:', self.nome)\n",
    "        print('idade:', self.idade)\n",
    "        print('email:', self.email)\n",
    "        print('inicio de relacionamento:', self.inicio_relacionamento)\n",
    "        \n",
    "c1 = Cliente('rychard', 27, 'rychard.guedes@letscode')\n",
    "c1.visualizar_informacoes()\n",
    "        "
   ]
  },
  {
   "cell_type": "markdown",
   "id": "7544dea1",
   "metadata": {},
   "source": [
    "**Para exercitar**: Na classe cliente, crie um método que recebe um outro cliente y e retorna True case o próprio tenha relacionamento mais antigo, e False caso y tenha relacionamento mais antigo."
   ]
  },
  {
   "cell_type": "code",
   "execution_count": 175,
   "id": "8478fa14",
   "metadata": {},
   "outputs": [],
   "source": [
    "class Cliente:\n",
    "    \n",
    "    def __init__(self, nome, idade, email):\n",
    "        self.nome = nome\n",
    "        self.idade = idade\n",
    "        self.email = email\n",
    "        self.inicio_relacionamento = datetime.datetime.now()\n",
    "        \n",
    "    def visualizar_informacoes(self):\n",
    "        print('nome:', self.nome)\n",
    "        print('idade:', self.idade)\n",
    "        print('email:', self.email)\n",
    "        print('inicio de relacionamento:', self.inicio_relacionamento)\n",
    "        \n",
    "    def mais_antigo(self, y):\n",
    "        if self.inicio_relacionamento < y.inicio_relacionamento:\n",
    "            return True\n",
    "        else:\n",
    "            return False"
   ]
  },
  {
   "cell_type": "code",
   "execution_count": 177,
   "id": "f5b15274",
   "metadata": {},
   "outputs": [
    {
     "data": {
      "text/plain": [
       "False"
      ]
     },
     "execution_count": 177,
     "metadata": {},
     "output_type": "execute_result"
    }
   ],
   "source": [
    "c2 = Cliente('maria', 40, 'maria@letscode')\n",
    "c1 = Cliente('rychard', 27, 'rychard.guedes@letscode')\n",
    "\n",
    "c1.mais_antigo(c2)"
   ]
  },
  {
   "cell_type": "code",
   "execution_count": 178,
   "id": "ffeab69b",
   "metadata": {},
   "outputs": [
    {
     "name": "stdout",
     "output_type": "stream",
     "text": [
      "nome: rychard\n",
      "idade: 27\n",
      "email: rychard.guedes@letscode\n",
      "inicio de relacionamento: 2021-07-07 18:36:21.299404\n"
     ]
    }
   ],
   "source": [
    "c1.visualizar_informacoes()"
   ]
  },
  {
   "cell_type": "code",
   "execution_count": 179,
   "id": "0dc6f46a",
   "metadata": {},
   "outputs": [
    {
     "name": "stdout",
     "output_type": "stream",
     "text": [
      "nome: maria\n",
      "idade: 40\n",
      "email: maria@letscode\n",
      "inicio de relacionamento: 2021-07-07 18:36:21.299334\n"
     ]
    }
   ],
   "source": [
    "c2.visualizar_informacoes()"
   ]
  },
  {
   "cell_type": "markdown",
   "id": "8566377c",
   "metadata": {},
   "source": [
    "**Para exercitar**: Crie uma classe ContaCorrente com os atributos cliente (que deve ser um objeto da classe Cliente) e saldo, que sempre inicia zerado (0)."
   ]
  },
  {
   "cell_type": "code",
   "execution_count": 181,
   "id": "aaaa6c74",
   "metadata": {},
   "outputs": [
    {
     "name": "stdout",
     "output_type": "stream",
     "text": [
      "0\n",
      "0\n"
     ]
    }
   ],
   "source": [
    "class ContaCorrente:\n",
    "    \n",
    "    def __init__(self, cliente):\n",
    "        self.cliente = cliente\n",
    "        self.saldo = 0\n",
    "        \n",
    "cc_1 = ContaCorrente(c1)\n",
    "print(cc_1.saldo)\n",
    "\n",
    "cc_2 = ContaCorrente(c2)\n",
    "print(cc_2.saldo)"
   ]
  },
  {
   "cell_type": "markdown",
   "id": "7f3fcebc",
   "metadata": {},
   "source": [
    "**Para exercitar**: Na classe ContaCorrente, crie métodos para depósito, saque e transferência. Os métodos de saque e transferência devem verificar se é possível realizar a transação.\n",
    "\n",
    "1. ~depósito~\n",
    "2. ~saque~\n",
    "3. transferência"
   ]
  },
  {
   "cell_type": "code",
   "execution_count": 248,
   "id": "015daefc",
   "metadata": {},
   "outputs": [
    {
     "name": "stdout",
     "output_type": "stream",
     "text": [
      "0\n",
      "0\n"
     ]
    }
   ],
   "source": [
    "class ContaCorrente:\n",
    "    \n",
    "    def __init__(self, cliente):\n",
    "        self.cliente = cliente\n",
    "        self.saldo = 0\n",
    "        \n",
    "    def deposito(self, valor):\n",
    "        if valor < 0:\n",
    "            print('impossível fazer depósitos com valores negativos')\n",
    "            return False\n",
    "        else:\n",
    "            self.saldo += valor\n",
    "            return True\n",
    "            \n",
    "    def saque(self, valor):\n",
    "        if valor < 0:\n",
    "            print('impossível fazer saques com valores negativos')\n",
    "            return False\n",
    "        elif self.saldo < valor:\n",
    "            print('saldo insuficiente, operacao não realizada')\n",
    "            return False\n",
    "        else:\n",
    "            self.saldo -= valor\n",
    "            return True\n",
    "            \n",
    "    def transferencia(self, conta_destino, valor): \n",
    "        \n",
    "        realizada = self.saque(valor)\n",
    "        \n",
    "        if realizada == True:\n",
    "            conta_destino.deposito(valor)\n",
    "            return True\n",
    "        \n",
    "        else:\n",
    "            print('operacao não realizada')\n",
    "            return False\n",
    "        \n",
    "        \n",
    "cc_1 = ContaCorrente(c1)\n",
    "print(cc_1.saldo)\n",
    "\n",
    "cc_2 = ContaCorrente(c2)\n",
    "print(cc_2.saldo)"
   ]
  },
  {
   "cell_type": "code",
   "execution_count": 249,
   "id": "a3124bc8",
   "metadata": {},
   "outputs": [
    {
     "data": {
      "text/plain": [
       "True"
      ]
     },
     "execution_count": 249,
     "metadata": {},
     "output_type": "execute_result"
    }
   ],
   "source": [
    "cc_1.deposito(100)"
   ]
  },
  {
   "cell_type": "code",
   "execution_count": 250,
   "id": "25f667a2",
   "metadata": {},
   "outputs": [
    {
     "name": "stdout",
     "output_type": "stream",
     "text": [
      "rychard 100\n",
      "maria 0\n"
     ]
    }
   ],
   "source": [
    "print(cc_1.cliente.nome, cc_1.saldo)\n",
    "print(cc_2.cliente.nome, cc_2.saldo)"
   ]
  },
  {
   "cell_type": "code",
   "execution_count": 251,
   "id": "91afdab0",
   "metadata": {},
   "outputs": [
    {
     "data": {
      "text/plain": [
       "True"
      ]
     },
     "execution_count": 251,
     "metadata": {},
     "output_type": "execute_result"
    }
   ],
   "source": [
    "cc_2.deposito(2000)"
   ]
  },
  {
   "cell_type": "code",
   "execution_count": 252,
   "id": "d42fef0a",
   "metadata": {},
   "outputs": [
    {
     "name": "stdout",
     "output_type": "stream",
     "text": [
      "rychard 100\n",
      "maria 2000\n"
     ]
    }
   ],
   "source": [
    "print(cc_1.cliente.nome, cc_1.saldo)\n",
    "print(cc_2.cliente.nome, cc_2.saldo)"
   ]
  },
  {
   "cell_type": "code",
   "execution_count": 253,
   "id": "cc7cfc2a",
   "metadata": {},
   "outputs": [
    {
     "name": "stdout",
     "output_type": "stream",
     "text": [
      "impossível fazer depósitos com valores negativos\n"
     ]
    },
    {
     "data": {
      "text/plain": [
       "False"
      ]
     },
     "execution_count": 253,
     "metadata": {},
     "output_type": "execute_result"
    }
   ],
   "source": [
    "cc_1.deposito(-50)"
   ]
  },
  {
   "cell_type": "code",
   "execution_count": 254,
   "id": "35470a32",
   "metadata": {},
   "outputs": [
    {
     "name": "stdout",
     "output_type": "stream",
     "text": [
      "rychard 100\n",
      "maria 2000\n"
     ]
    }
   ],
   "source": [
    "print(cc_1.cliente.nome, cc_1.saldo)\n",
    "print(cc_2.cliente.nome, cc_2.saldo)"
   ]
  },
  {
   "cell_type": "code",
   "execution_count": 255,
   "id": "559079b7",
   "metadata": {},
   "outputs": [
    {
     "data": {
      "text/plain": [
       "True"
      ]
     },
     "execution_count": 255,
     "metadata": {},
     "output_type": "execute_result"
    }
   ],
   "source": [
    "cc_1.saque(50)"
   ]
  },
  {
   "cell_type": "code",
   "execution_count": 256,
   "id": "6e50ed6a",
   "metadata": {},
   "outputs": [
    {
     "name": "stdout",
     "output_type": "stream",
     "text": [
      "rychard 50\n",
      "maria 2000\n"
     ]
    }
   ],
   "source": [
    "print(cc_1.cliente.nome, cc_1.saldo)\n",
    "print(cc_2.cliente.nome, cc_2.saldo)"
   ]
  },
  {
   "cell_type": "code",
   "execution_count": 257,
   "id": "1bb71278",
   "metadata": {},
   "outputs": [
    {
     "name": "stdout",
     "output_type": "stream",
     "text": [
      "saldo insuficiente, operacao não realizada\n"
     ]
    },
    {
     "data": {
      "text/plain": [
       "False"
      ]
     },
     "execution_count": 257,
     "metadata": {},
     "output_type": "execute_result"
    }
   ],
   "source": [
    "cc_1.saque(1500)"
   ]
  },
  {
   "cell_type": "code",
   "execution_count": 258,
   "id": "a89d3fe9",
   "metadata": {},
   "outputs": [
    {
     "name": "stdout",
     "output_type": "stream",
     "text": [
      "rychard 50\n",
      "maria 2000\n"
     ]
    }
   ],
   "source": [
    "print(cc_1.cliente.nome, cc_1.saldo)\n",
    "print(cc_2.cliente.nome, cc_2.saldo)"
   ]
  },
  {
   "cell_type": "code",
   "execution_count": 259,
   "id": "358b08b0",
   "metadata": {},
   "outputs": [
    {
     "data": {
      "text/plain": [
       "True"
      ]
     },
     "execution_count": 259,
     "metadata": {},
     "output_type": "execute_result"
    }
   ],
   "source": [
    "cc_2.saque(1500)"
   ]
  },
  {
   "cell_type": "code",
   "execution_count": 260,
   "id": "8465bd86",
   "metadata": {},
   "outputs": [
    {
     "name": "stdout",
     "output_type": "stream",
     "text": [
      "rychard 50\n",
      "maria 500\n"
     ]
    }
   ],
   "source": [
    "print(cc_1.cliente.nome, cc_1.saldo)\n",
    "print(cc_2.cliente.nome, cc_2.saldo)"
   ]
  },
  {
   "cell_type": "code",
   "execution_count": 261,
   "id": "5b812fef",
   "metadata": {},
   "outputs": [
    {
     "data": {
      "text/plain": [
       "True"
      ]
     },
     "execution_count": 261,
     "metadata": {},
     "output_type": "execute_result"
    }
   ],
   "source": [
    "cc_1.transferencia(cc_2, 20)"
   ]
  },
  {
   "cell_type": "code",
   "execution_count": 262,
   "id": "a0975ddf",
   "metadata": {},
   "outputs": [
    {
     "name": "stdout",
     "output_type": "stream",
     "text": [
      "rychard 30\n",
      "maria 520\n"
     ]
    }
   ],
   "source": [
    "print(cc_1.cliente.nome, cc_1.saldo)\n",
    "print(cc_2.cliente.nome, cc_2.saldo)"
   ]
  },
  {
   "cell_type": "code",
   "execution_count": 263,
   "id": "6b504e84",
   "metadata": {},
   "outputs": [
    {
     "name": "stdout",
     "output_type": "stream",
     "text": [
      "saldo insuficiente, operacao não realizada\n",
      "operacao não realizada\n"
     ]
    },
    {
     "data": {
      "text/plain": [
       "False"
      ]
     },
     "execution_count": 263,
     "metadata": {},
     "output_type": "execute_result"
    }
   ],
   "source": [
    "cc_1.transferencia(cc_2, 100)"
   ]
  },
  {
   "cell_type": "code",
   "execution_count": 264,
   "id": "8d44755a",
   "metadata": {},
   "outputs": [
    {
     "name": "stdout",
     "output_type": "stream",
     "text": [
      "rychard 30\n",
      "maria 520\n"
     ]
    }
   ],
   "source": [
    "print(cc_1.cliente.nome, cc_1.saldo)\n",
    "print(cc_2.cliente.nome, cc_2.saldo)"
   ]
  },
  {
   "cell_type": "code",
   "execution_count": null,
   "id": "22c90b22",
   "metadata": {},
   "outputs": [],
   "source": []
  }
 ],
 "metadata": {
  "kernelspec": {
   "display_name": "Python 3",
   "language": "python",
   "name": "python3"
  },
  "language_info": {
   "codemirror_mode": {
    "name": "ipython",
    "version": 3
   },
   "file_extension": ".py",
   "mimetype": "text/x-python",
   "name": "python",
   "nbconvert_exporter": "python",
   "pygments_lexer": "ipython3",
   "version": "3.9.5"
  }
 },
 "nbformat": 4,
 "nbformat_minor": 5
}
