{
 "cells": [
  {
   "cell_type": "markdown",
   "id": "5feed2e8",
   "metadata": {},
   "source": [
    "# Na aula anterior..."
   ]
  },
  {
   "cell_type": "markdown",
   "id": "c093ea5b",
   "metadata": {},
   "source": [
    "#### Entrada e Saída"
   ]
  },
  {
   "cell_type": "code",
   "execution_count": 3,
   "id": "f2d42332",
   "metadata": {},
   "outputs": [
    {
     "name": "stdout",
     "output_type": "stream",
     "text": [
      "Digite algo: alguma coisa\n",
      "alguma coisa\n"
     ]
    }
   ],
   "source": [
    "variavel = input('Digite algo: ')\n",
    "print(variavel)"
   ]
  },
  {
   "cell_type": "markdown",
   "id": "85576a9f",
   "metadata": {},
   "source": [
    "#### Tipos de variáveis"
   ]
  },
  {
   "cell_type": "raw",
   "id": "defa7d78",
   "metadata": {},
   "source": [
    "str - texto\n",
    "int - números inteiros\n",
    "float - números reais\n",
    "bool - booleanos (verdadeiro ou falso)"
   ]
  },
  {
   "cell_type": "code",
   "execution_count": 4,
   "id": "4bf96385",
   "metadata": {},
   "outputs": [],
   "source": [
    "nome = 'rychard'\n",
    "idade = 27\n",
    "salario = 1500.67 \n",
    "ensolarado = False"
   ]
  },
  {
   "cell_type": "code",
   "execution_count": 5,
   "id": "120f9242",
   "metadata": {},
   "outputs": [
    {
     "name": "stdout",
     "output_type": "stream",
     "text": [
      "<class 'str'>\n"
     ]
    }
   ],
   "source": [
    "print(type(nome))"
   ]
  },
  {
   "cell_type": "code",
   "execution_count": 6,
   "id": "dec559fc",
   "metadata": {},
   "outputs": [
    {
     "name": "stdout",
     "output_type": "stream",
     "text": [
      "<class 'int'>\n"
     ]
    }
   ],
   "source": [
    "print(type(idade))"
   ]
  },
  {
   "cell_type": "code",
   "execution_count": 7,
   "id": "c861ac57",
   "metadata": {},
   "outputs": [
    {
     "name": "stdout",
     "output_type": "stream",
     "text": [
      "<class 'float'>\n"
     ]
    }
   ],
   "source": [
    "print(type(salario))"
   ]
  },
  {
   "cell_type": "code",
   "execution_count": 9,
   "id": "00788dec",
   "metadata": {},
   "outputs": [
    {
     "name": "stdout",
     "output_type": "stream",
     "text": [
      "<class 'bool'>\n"
     ]
    }
   ],
   "source": [
    "print(type(ensolarado))"
   ]
  },
  {
   "cell_type": "markdown",
   "id": "33b63fef",
   "metadata": {},
   "source": [
    "Cuidado com o tipo do `input`!"
   ]
  },
  {
   "cell_type": "code",
   "execution_count": 22,
   "id": "c301fa4f",
   "metadata": {},
   "outputs": [
    {
     "name": "stdout",
     "output_type": "stream",
     "text": [
      "Digite algo: 89.0\n",
      "89.0\n",
      "<class 'str'>\n",
      "<class 'float'>\n",
      "90.0\n"
     ]
    }
   ],
   "source": [
    "variavel = input('Digite algo: ')\n",
    "print(variavel)\n",
    "print(type(variavel))\n",
    "\n",
    "variavel = float(variavel)\n",
    "\n",
    "print(type(variavel))\n",
    "\n",
    "print(variavel + 1)"
   ]
  },
  {
   "cell_type": "markdown",
   "id": "26dfbebb",
   "metadata": {},
   "source": [
    "#### Operadores"
   ]
  },
  {
   "cell_type": "raw",
   "id": "8e03d4df",
   "metadata": {},
   "source": [
    "+, -, *, /, //, %, **"
   ]
  },
  {
   "cell_type": "code",
   "execution_count": 24,
   "id": "d9584292",
   "metadata": {},
   "outputs": [
    {
     "name": "stdout",
     "output_type": "stream",
     "text": [
      "soma: 11\n",
      "subtração: 7\n",
      "multiplicação: 18\n",
      "divisão: 4.5\n",
      "divisão inteira: 4\n",
      "divisão resto: 1\n",
      "potenciação: 81\n"
     ]
    }
   ],
   "source": [
    "var_a = 9\n",
    "var_b = 2\n",
    "\n",
    "print('soma:', var_a + var_b)\n",
    "print('subtração:', var_a - var_b)\n",
    "print('multiplicação:', var_a * var_b)\n",
    "print('divisão:', var_a / var_b)\n",
    "print('divisão inteira:', var_a // var_b)\n",
    "print('divisão resto:', var_a % var_b)\n",
    "print('potenciação:', var_a ** var_b)"
   ]
  },
  {
   "cell_type": "markdown",
   "id": "8080b149",
   "metadata": {},
   "source": [
    "Dada a seguinte fórmula de juros compostos, calcule quanto uma pessoa terá de retorno caso realize um investimento  de R$ 15 000.00 com rentabilidade de 0.5% ao mês e mantenha o investimento por 12 meses.\n",
    "\n",
    "$$F = I (1 + j)^t$$\n",
    "\n",
    "- F = Montante final;\n",
    "- I = Montante inicial (depositado);\n",
    "- j = Taxa de juros;\n",
    "- t = É o tempo do investimento."
   ]
  },
  {
   "cell_type": "code",
   "execution_count": 3,
   "id": "7e2661d3",
   "metadata": {},
   "outputs": [
    {
     "name": "stdout",
     "output_type": "stream",
     "text": [
      "15925.167177967474\n"
     ]
    }
   ],
   "source": [
    "i = 15000\n",
    "j = 0.005\n",
    "t = 12\n",
    "\n",
    "f = i*(1 + j)**t\n",
    "\n",
    "print(f)"
   ]
  },
  {
   "cell_type": "markdown",
   "id": "75861048",
   "metadata": {},
   "source": [
    "#### Estrutura Condicional - if\n",
    "\n",
    "```\n",
    "se condicao-verdadeira:\n",
    "    executar esse\n",
    "    bloco de código\n",
    "    que está identado\n",
    "    \n",
    "esse bloco logo\n",
    "após vai ser executado\n",
    "independente do condição\n",
    "ser verdadeira\n",
    "```\n",
    "\n",
    "Faça um programa que peça um número e mostre se ele é positivo."
   ]
  },
  {
   "cell_type": "code",
   "execution_count": 7,
   "id": "f4757796",
   "metadata": {},
   "outputs": [
    {
     "name": "stdout",
     "output_type": "stream",
     "text": [
      "Digite um número: -9\n",
      "final do programa\n"
     ]
    }
   ],
   "source": [
    "numero = float(input('Digite um número: '))\n",
    "\n",
    "if numero > 0:\n",
    "    print('número positivo')\n",
    "    \n",
    "print('final do programa')"
   ]
  },
  {
   "cell_type": "markdown",
   "id": "c7ce1683",
   "metadata": {},
   "source": [
    "#### Estrutura Condicional - else\n",
    "\n",
    "```\n",
    "se condicao-verdadeira:\n",
    "    executar esse\n",
    "    bloco de código\n",
    "    que está identado\n",
    "senão:\n",
    "    executar esse\n",
    "    outro bloco de código\n",
    "    que também está identado\n",
    "\n",
    "esse bloco logo\n",
    "após vai ser executado\n",
    "independente do condição\n",
    "ser verdadeira\n",
    "```\n",
    "Faça um programa que peça um número e mostre se ele é positivo ou negativo."
   ]
  },
  {
   "cell_type": "code",
   "execution_count": 10,
   "id": "93b31173",
   "metadata": {},
   "outputs": [
    {
     "name": "stdout",
     "output_type": "stream",
     "text": [
      "Digite um número: 0\n",
      "número negativo\n",
      "final do programa\n"
     ]
    }
   ],
   "source": [
    "numero = float(input('Digite um número: '))\n",
    "\n",
    "if numero > 0:\n",
    "    print('número positivo')\n",
    "else:\n",
    "    print('número negativo')\n",
    "    \n",
    "print('final do programa')"
   ]
  },
  {
   "cell_type": "markdown",
   "id": "e8017cf5",
   "metadata": {},
   "source": [
    "#### Estrutura Condicional - elif\n",
    "\n",
    "```\n",
    "se condicao-verdadeira:\n",
    "    executar esse\n",
    "    bloco de código\n",
    "    que está identado\n",
    "senão-se condicao-verdadeira:  \n",
    "    executar esse\n",
    "    outro bloco de código\n",
    "    que também está identado\n",
    "    apenas se as anteriores forem falsas\n",
    "    e a condicao daqui for verdadeira\n",
    "senão-se condicao-verdadeira:  \n",
    "    executar esse\n",
    "    outro bloco de código\n",
    "    que também está identado\n",
    "    apenas se as anteriores forem falsas\n",
    "    e a condicao daqui for verdadeira\n",
    "senão:\n",
    "    executar esse\n",
    "    outro bloco de código\n",
    "    que também está identado\n",
    "    se todas as anteriores forem falsas\n",
    "\n",
    "esse bloco logo\n",
    "após vai ser executado\n",
    "independente do condição\n",
    "ser verdadeira\n",
    "```\n",
    "\n",
    "Faça um programa que peça um número e mostre se ele é positivo, negativo ou neutro."
   ]
  },
  {
   "cell_type": "raw",
   "id": "9311ee11",
   "metadata": {},
   "source": [
    "senão-se: elif"
   ]
  },
  {
   "cell_type": "code",
   "execution_count": 13,
   "id": "1e42337e",
   "metadata": {},
   "outputs": [
    {
     "name": "stdout",
     "output_type": "stream",
     "text": [
      "Digite um número: 0\n",
      "número neutro\n",
      "final do programa\n"
     ]
    }
   ],
   "source": [
    "numero = float(input('Digite um número: '))\n",
    "\n",
    "if numero > 0:\n",
    "    print('número positivo')\n",
    "elif numero == 0:\n",
    "    print('número neutro')\n",
    "else:\n",
    "    print('número negativo')\n",
    "    \n",
    "print('final do programa')"
   ]
  },
  {
   "cell_type": "markdown",
   "id": "66e54f40",
   "metadata": {},
   "source": [
    "Faça um programa que peça dois números e mostre o maior deles, deixando explícito caso eles sejam iguais."
   ]
  },
  {
   "cell_type": "code",
   "execution_count": 17,
   "id": "68e79ba3",
   "metadata": {},
   "outputs": [
    {
     "name": "stdout",
     "output_type": "stream",
     "text": [
      "digite número: 8\n",
      "digite número: 8\n",
      "os números são iguais\n"
     ]
    }
   ],
   "source": [
    "num_a = float(input('digite número: '))\n",
    "num_b = float(input('digite número: '))\n",
    "\n",
    "if num_a > num_b:\n",
    "    print('o primeiro número digitado é o maior')\n",
    "elif num_a < num_b:\n",
    "    print('o segundo número digitado é o maior')\n",
    "else:\n",
    "    print('os números são iguais')"
   ]
  },
  {
   "cell_type": "markdown",
   "id": "e8f889e4",
   "metadata": {},
   "source": [
    "#### Operadores Lógicos\n",
    "\n",
    "```\n",
    "AND : multiplicação\n",
    "OR  : soma\n",
    "NOT : inverte\n",
    "```\n",
    "\n",
    "Uma empresa irá aplicar um reajuste nos salários de seus funcionários de acordo com a seguinte regra:\n",
    "\n",
    "- Salário até 1500,00 reais (incluindo): aumento de 20;\n",
    "\n",
    "- Salários entre 1500,00 reais e 7000,00 reais (incluindo): aumento de 15%;\n",
    "\n",
    "- Salários entre 7000,00 reais e 15000,00 reais (incluindo): aumento de 10%;\n",
    "\n",
    "- Salários de 15000,00 reais em diante: aumento de 5%.\n",
    "\n",
    "Dado o salário de um funcionário, informe:\n",
    "- O salário antes do reajuste;\n",
    "- O percentual de aumento aplicado;\n",
    "- O valor do aumento;\n",
    "- O novo salário.\n",
    "\n",
    "Dica: faça as coisas aos poucos e vá validando os resultados."
   ]
  },
  {
   "cell_type": "code",
   "execution_count": 14,
   "id": "28d35d42",
   "metadata": {},
   "outputs": [
    {
     "name": "stdout",
     "output_type": "stream",
     "text": [
      "digite o salário do funcionário: 50000\n",
      "50000.0\n",
      "0.05\n",
      "2500.0\n",
      "52500.0\n"
     ]
    }
   ],
   "source": [
    "salario_original = float(input('digite o salário do funcionário: '))\n",
    "\n",
    "if salario_original <= 1500:\n",
    "    reajuste = 0.2\n",
    "elif salario_original > 1500 and salario_original <= 7000:\n",
    "    reajuste = 0.15\n",
    "elif salario_original > 7000 and salario_original <= 15000:\n",
    "    reajuste = 0.10\n",
    "else:\n",
    "    reajuste = 0.05\n",
    "\n",
    "aumento = salario_original*reajuste    \n",
    "novo_salario = salario_original + aumento\n",
    "\n",
    "print(salario_original)\n",
    "print(reajuste)\n",
    "print(aumento)\n",
    "print(novo_salario)"
   ]
  },
  {
   "cell_type": "markdown",
   "id": "7ef93e02",
   "metadata": {},
   "source": [
    "# Lembretes\n",
    "\n",
    "- Plantão de dúvidas\n",
    "- Bebam água!"
   ]
  },
  {
   "cell_type": "markdown",
   "id": "d8fec995",
   "metadata": {},
   "source": [
    "# Hoje!\n",
    "\n",
    "## Cronograma\n",
    "\n",
    "1. Comentários no Python\n",
    "2. `if` dentro de `if`\n",
    "1. Estruturas de repetição não controladas (`while`)\n",
    "2. Estruturas de repetição controladas (`for`)\n",
    "3. Listas"
   ]
  },
  {
   "cell_type": "markdown",
   "id": "faebc828",
   "metadata": {},
   "source": [
    "## Comentários no Python"
   ]
  },
  {
   "cell_type": "code",
   "execution_count": 16,
   "id": "9b7bed34",
   "metadata": {},
   "outputs": [
    {
     "name": "stdout",
     "output_type": "stream",
     "text": [
      "segunda linha\n"
     ]
    }
   ],
   "source": [
    "# print('primeira linha')\n",
    "print('segunda linha')"
   ]
  },
  {
   "cell_type": "code",
   "execution_count": 18,
   "id": "bae2c3fd",
   "metadata": {},
   "outputs": [
    {
     "name": "stdout",
     "output_type": "stream",
     "text": [
      "9\n"
     ]
    }
   ],
   "source": [
    "# estrou atribuindo à variável var_x o valor 9\n",
    "var_x = 9\n",
    "print(var_x)"
   ]
  },
  {
   "cell_type": "markdown",
   "id": "3d55e536",
   "metadata": {},
   "source": [
    "## `if` dentro de `if`"
   ]
  },
  {
   "cell_type": "code",
   "execution_count": 21,
   "id": "ed8b93d7",
   "metadata": {},
   "outputs": [
    {
     "name": "stdout",
     "output_type": "stream",
     "text": [
      "variável positiva\n",
      "variável de valor grande\n"
     ]
    }
   ],
   "source": [
    "var_x = 150\n",
    "\n",
    "if var_x > 0:\n",
    "    print('variável positiva')\n",
    "    \n",
    "    if var_x > 100:\n",
    "        print('variável de valor grande')\n",
    "    else:\n",
    "        print('variável de valor pequeno')"
   ]
  },
  {
   "cell_type": "markdown",
   "id": "81be48bf",
   "metadata": {},
   "source": [
    "## Estrutura não controlada: `while`\n",
    "\n",
    "Pra contextualizar: crie um programa que pede informações sobre salário de um funcionário e valide-a de acordo com a seguinte regra:\n",
    "- Salário: maior que 0;"
   ]
  },
  {
   "cell_type": "code",
   "execution_count": 9,
   "id": "3d20fc64",
   "metadata": {},
   "outputs": [
    {
     "name": "stdout",
     "output_type": "stream",
     "text": [
      "Digite salário do funcionário: -1500\n",
      "salário inválido\n",
      "Digite salário do funcionário: -1500\n",
      "salário inválido\n"
     ]
    }
   ],
   "source": [
    "salario = float(input('Digite salário do funcionário: '))\n",
    "\n",
    "if salario > 0:\n",
    "    print('salário válido')\n",
    "else:\n",
    "    print('salário inválido')\n",
    "    \n",
    "    salario = float(input('Digite salário do funcionário: '))\n",
    "    \n",
    "    if salario > 0:\n",
    "        print('salário válido')\n",
    "    else:\n",
    "        print('salário inválido')"
   ]
  },
  {
   "cell_type": "code",
   "execution_count": 12,
   "id": "8b37cb17",
   "metadata": {},
   "outputs": [
    {
     "name": "stdout",
     "output_type": "stream",
     "text": [
      "Digite salário do funcionário: 900\n",
      "900.0\n",
      "salário válido\n"
     ]
    }
   ],
   "source": [
    "salario = float(input('Digite salário do funcionário: '))\n",
    "\n",
    "while not(salario > 0):\n",
    "    print('salário inválido')\n",
    "    salario = float(input('Digite salário do funcionário: '))\n",
    "    \n",
    "print(salario)\n",
    "print('salário válido')"
   ]
  },
  {
   "cell_type": "markdown",
   "id": "438e3e88",
   "metadata": {},
   "source": [
    "Cuidado com o laço infinito!"
   ]
  },
  {
   "cell_type": "code",
   "execution_count": null,
   "id": "325f907e",
   "metadata": {},
   "outputs": [],
   "source": [
    "salario = float(input('Digite salário do funcionário: '))\n",
    "\n",
    "while not(salario > 0):\n",
    "    print('salário inválido')\n",
    "    salario_corrigido = float(input('Digite salário do funcionário: '))\n",
    "    \n",
    "print(salario)\n",
    "print('salário válido')"
   ]
  },
  {
   "cell_type": "markdown",
   "id": "207692af",
   "metadata": {},
   "source": [
    "**Para exercitar:** Faça um programa que solicita as seguintes informações ao usuário até que ele digite de forma correta:\n",
    "- Anos de empresa: entre 0 e 10;\n",
    "- Sexo: M, F ou OUTRO;"
   ]
  },
  {
   "cell_type": "code",
   "execution_count": 17,
   "id": "82feda8a",
   "metadata": {},
   "outputs": [
    {
     "name": "stdout",
     "output_type": "stream",
     "text": [
      "Anos de empresa: -9\n",
      "Input inválido! Anos de empresa: 15\n",
      "Input inválido! Anos de empresa: 29\n",
      "Input inválido! Anos de empresa: -0.01\n",
      "Input inválido! Anos de empresa: 0.01\n",
      "anos válido\n"
     ]
    }
   ],
   "source": [
    "anos = float(input('Anos de empresa: '))\n",
    "\n",
    "while not(anos >= 0 and anos <= 10):\n",
    "    anos = float(input('Input inválido! Anos de empresa: '))\n",
    "\n",
    "print('anos válido')"
   ]
  },
  {
   "cell_type": "code",
   "execution_count": 24,
   "id": "e143ae45",
   "metadata": {},
   "outputs": [
    {
     "name": "stdout",
     "output_type": "stream",
     "text": [
      "Sexo: aiuwehiuae\n",
      "Input inválido! Sexo: m\n",
      "Input inválido! Sexo: M\n",
      "sexo válido\n"
     ]
    }
   ],
   "source": [
    "sexo = input('Sexo: ')\n",
    "\n",
    "while not(sexo == 'M' or sexo == 'F' or sexo == 'OUTRO'):\n",
    "    sexo = input('Input inválido! Sexo: ')\n",
    "\n",
    "print('sexo válido')"
   ]
  },
  {
   "cell_type": "markdown",
   "id": "9219eba2",
   "metadata": {},
   "source": [
    "Como fazer incremento em uma variável no Python?"
   ]
  },
  {
   "cell_type": "code",
   "execution_count": 28,
   "id": "d984a666",
   "metadata": {},
   "outputs": [
    {
     "name": "stdout",
     "output_type": "stream",
     "text": [
      "11\n",
      "14\n"
     ]
    }
   ],
   "source": [
    "var = 11\n",
    "\n",
    "print(var)\n",
    "\n",
    "var = var + 1\n",
    "var = var + 1\n",
    "var = var + 1\n",
    "\n",
    "print(var)"
   ]
  },
  {
   "cell_type": "code",
   "execution_count": 33,
   "id": "7afc8d14",
   "metadata": {},
   "outputs": [
    {
     "name": "stdout",
     "output_type": "stream",
     "text": [
      "11\n",
      "14\n"
     ]
    }
   ],
   "source": [
    "var = 11\n",
    "\n",
    "print(var)\n",
    "\n",
    "var += 1\n",
    "var += 1\n",
    "var += 1\n",
    "\n",
    "print(var)"
   ]
  },
  {
   "cell_type": "markdown",
   "id": "a4e54cd8",
   "metadata": {},
   "source": [
    "Como fazer decremento em uma variável no Python?"
   ]
  },
  {
   "cell_type": "code",
   "execution_count": 37,
   "id": "3c09f4a9",
   "metadata": {},
   "outputs": [
    {
     "name": "stdout",
     "output_type": "stream",
     "text": [
      "11\n",
      "5\n"
     ]
    }
   ],
   "source": [
    "var = 11\n",
    "\n",
    "print(var)\n",
    "\n",
    "var = var - 2\n",
    "var -= 2\n",
    "var -= 2\n",
    "\n",
    "print(var)"
   ]
  },
  {
   "cell_type": "markdown",
   "id": "2098e82b",
   "metadata": {},
   "source": [
    "Podemos fazer isso com outros operadores?"
   ]
  },
  {
   "cell_type": "code",
   "execution_count": 36,
   "id": "2a6c725a",
   "metadata": {},
   "outputs": [
    {
     "name": "stdout",
     "output_type": "stream",
     "text": [
      "11\n",
      "88\n"
     ]
    }
   ],
   "source": [
    "var = 11\n",
    "\n",
    "print(var)\n",
    "\n",
    "var = var * 2\n",
    "var *= 2\n",
    "var *= 2\n",
    "\n",
    "print(var)"
   ]
  },
  {
   "cell_type": "markdown",
   "id": "04289272",
   "metadata": {},
   "source": [
    "**Para exercitar:** Como cacular os juros compostos da situação do início da aula sem utilizar a fórmula? Ainda não é necessário utilizar `while`.\n",
    "\n",
    "Calcule quanto uma pessoa terá de retorno caso realize um investimento de R$ 15 000.00 com rentabilidade de 0.5% ao mês e mantenha o investimento por 12 meses."
   ]
  },
  {
   "cell_type": "code",
   "execution_count": 40,
   "id": "22363143",
   "metadata": {},
   "outputs": [
    {
     "name": "stdout",
     "output_type": "stream",
     "text": [
      "15925.167177967473\n"
     ]
    }
   ],
   "source": [
    "i = 15000\n",
    "\n",
    "i = i * 1.005\n",
    "i = i * 1.005\n",
    "i = i * 1.005\n",
    "i = i * 1.005\n",
    "i = i * 1.005\n",
    "i = i * 1.005\n",
    "i = i * 1.005\n",
    "i = i * 1.005\n",
    "i = i * 1.005\n",
    "i = i * 1.005\n",
    "i = i * 1.005\n",
    "i = i * 1.005\n",
    "\n",
    "print(i)"
   ]
  },
  {
   "cell_type": "markdown",
   "id": "4c3a6986",
   "metadata": {},
   "source": [
    "Podemos usar a mesma ideia para fazer contadores!"
   ]
  },
  {
   "cell_type": "code",
   "execution_count": 43,
   "id": "3e26c458",
   "metadata": {},
   "outputs": [
    {
     "name": "stdout",
     "output_type": "stream",
     "text": [
      "Anos de empresa: -9\n",
      "Input inválido! Anos de empresa: 15\n",
      "Input inválido! Anos de empresa: 5\n",
      "anos válido\n",
      "Quantidade de vezes que você digitou anos errado: 2\n"
     ]
    }
   ],
   "source": [
    "anos = float(input('Anos de empresa: '))\n",
    "\n",
    "cont = 0\n",
    "\n",
    "while not(anos >= 0 and anos <= 10):\n",
    "    \n",
    "    cont = cont + 1\n",
    "    \n",
    "    anos = float(input('Input inválido! Anos de empresa: '))\n",
    "\n",
    "print('anos válido')\n",
    "print('Quantidade de vezes que você digitou anos errado:', cont)"
   ]
  },
  {
   "cell_type": "code",
   "execution_count": 46,
   "id": "413ec0e8",
   "metadata": {},
   "outputs": [
    {
     "name": "stdout",
     "output_type": "stream",
     "text": [
      "penny!\n",
      "penny!\n",
      "penny!\n",
      "penny!\n",
      "penny!\n",
      "penny!\n",
      "penny!\n",
      "penny!\n",
      "penny!\n",
      "penny!\n"
     ]
    }
   ],
   "source": [
    "cont = 0\n",
    "\n",
    "while cont < 10:\n",
    "    \n",
    "    print('penny!')\n",
    "    \n",
    "    cont += 1"
   ]
  },
  {
   "cell_type": "markdown",
   "id": "1bf575a7",
   "metadata": {},
   "source": [
    "**Para exercitar:** Como cacular os juros compostos da situação do início da aula sem utilizar a fórmula?\n",
    "\n",
    "Calcule quanto uma pessoa terá de retorno caso realize um investimento de R$ 15 000.00 com rentabilidade de 0.5% ao mês e mantenha o investimento por 120 meses."
   ]
  },
  {
   "cell_type": "code",
   "execution_count": 52,
   "id": "bf963753",
   "metadata": {},
   "outputs": [
    {
     "name": "stdout",
     "output_type": "stream",
     "text": [
      "20232.752288239626\n"
     ]
    }
   ],
   "source": [
    "i = 15000\n",
    "t = 60\n",
    "\n",
    "cont = 0\n",
    "\n",
    "while cont < t:\n",
    "    \n",
    "    i *= 1.005\n",
    "    \n",
    "    cont += 1\n",
    "\n",
    "print(i)"
   ]
  },
  {
   "cell_type": "markdown",
   "id": "69ee54dd",
   "metadata": {},
   "source": [
    "**Para exercitar:** Como fazer um programa que recebe 50 números do usuário e indica quantos deles são maiores que 100?\n",
    "\n",
    "Dica: podemos usar `if` dentro de `while`!"
   ]
  },
  {
   "cell_type": "code",
   "execution_count": 57,
   "id": "0943161c",
   "metadata": {},
   "outputs": [
    {
     "name": "stdout",
     "output_type": "stream",
     "text": [
      "digite um número: -10\n",
      "digite um número: 50\n",
      "digite um número: 150\n",
      "digite um número: 240\n",
      "digite um número: 350\n",
      "3\n"
     ]
    }
   ],
   "source": [
    "cont = 0\n",
    "\n",
    "maiores_que_100 = 0\n",
    "\n",
    "while cont < 50:\n",
    "    \n",
    "    num = float(input('digite um número: '))\n",
    "    \n",
    "    if num > 100:\n",
    "        maiores_que_100 += 1\n",
    "    \n",
    "    cont += 1\n",
    "    \n",
    "print(maiores_que_100)"
   ]
  },
  {
   "cell_type": "markdown",
   "id": "f6e0d8ae",
   "metadata": {},
   "source": [
    "**Para exercitar:** Crie um programa em Python que recebe um número inteiro positivo do usuário e, em seguida, imprime na tela uma sequência numérica que inicia no 1 e termina no número informado.\n",
    "\n",
    "Dica: utilize contadores + while.\n",
    "\n",
    "**Exemplo de entrada**  \n",
    "```\n",
    "5\n",
    "```\n",
    "\n",
    "**Exemplo de saída**  \n",
    "```\n",
    "1  \n",
    "2  \n",
    "3  \n",
    "4  \n",
    "5  \n",
    "```"
   ]
  },
  {
   "cell_type": "code",
   "execution_count": 62,
   "id": "61196e5f",
   "metadata": {},
   "outputs": [
    {
     "name": "stdout",
     "output_type": "stream",
     "text": [
      "Digite um número: 5\n",
      "1\n",
      "2\n",
      "3\n",
      "4\n",
      "5\n"
     ]
    }
   ],
   "source": [
    "num = int(input('Digite um número: '))\n",
    "\n",
    "seq = 1\n",
    "\n",
    "while seq <= num:\n",
    "    print(seq)\n",
    "    seq += 1"
   ]
  },
  {
   "cell_type": "markdown",
   "id": "5de325a4",
   "metadata": {},
   "source": [
    "**Para exercitar:** Crie um script em Python que imprima a sequência abaixo:\n",
    "```\n",
    "1 1\n",
    "2 4\n",
    "3 9\n",
    "4 16\n",
    "5 25\n",
    "6 36\n",
    "7 49\n",
    "8 64\n",
    "9 81\n",
    "10 100\n",
    "```"
   ]
  },
  {
   "cell_type": "code",
   "execution_count": 63,
   "id": "e33f6945",
   "metadata": {},
   "outputs": [
    {
     "name": "stdout",
     "output_type": "stream",
     "text": [
      "1 1\n",
      "2 4\n",
      "3 9\n",
      "4 16\n",
      "5 25\n",
      "6 36\n",
      "7 49\n",
      "8 64\n",
      "9 81\n",
      "10 100\n"
     ]
    }
   ],
   "source": [
    "num = 10\n",
    "seq = 1\n",
    "\n",
    "while seq <= num:\n",
    "    print(seq, seq ** 2)\n",
    "    seq += 1"
   ]
  },
  {
   "cell_type": "markdown",
   "id": "b84969a8",
   "metadata": {},
   "source": [
    "**Para exercitar:** Uma série monotônica crescente é uma série que seus números possuem uma sequência crescente (ou equalitária). Por exemplo:\n",
    "- 1 2 2 2 3 4 4 5: monotônica crescente\n",
    "- 1 2 1 2 3 4 4 5: não monotônica crescente\n",
    "\n",
    "Uma sequência monotônica crescente no valor das ações que um determinado investidor possui é o seu sonho. Então, crie um programa que recebe 20 elementos e indica se essa sequência é monotônica crescente."
   ]
  },
  {
   "cell_type": "code",
   "execution_count": 75,
   "id": "77732677",
   "metadata": {},
   "outputs": [
    {
     "name": "stdout",
     "output_type": "stream",
     "text": [
      "Digite valor da ação: 21\n",
      "Digite valor da ação: 50\n",
      "Digite valor da ação: 34\n",
      "Digite valor da ação: 100\n",
      "Digite valor da ação: 150\n",
      "não é sequência dos sonhos\n"
     ]
    }
   ],
   "source": [
    "monotonica = True\n",
    "\n",
    "cont = 0\n",
    "\n",
    "valor_anterior = 0\n",
    "\n",
    "while cont < 5:\n",
    "    valor_novo = float(input('Digite valor da ação: '))\n",
    "    \n",
    "    if valor_novo < valor_anterior:\n",
    "        monotonica = False\n",
    "        \n",
    "    valor_anterior = valor_novo\n",
    "    \n",
    "    cont += 1\n",
    "\n",
    "if monotonica:\n",
    "    print('sequência dos sonhos')\n",
    "else:\n",
    "    print('não é sequência dos sonhos')"
   ]
  },
  {
   "cell_type": "markdown",
   "id": "60ef177a",
   "metadata": {},
   "source": [
    "**Para exercitar:** Crie um código em Python que recebe, continuamente, números inteiros positivos do usuário, até que ele informe o número zero. Em seguida, exiba a quantidade de números que o usuário informou."
   ]
  },
  {
   "cell_type": "code",
   "execution_count": 77,
   "id": "6618a7ba",
   "metadata": {},
   "outputs": [
    {
     "name": "stdout",
     "output_type": "stream",
     "text": [
      "Digite número:3\n",
      "Digite número:9\n",
      "Digite número:0\n",
      "2\n"
     ]
    }
   ],
   "source": [
    "cont = 0\n",
    "\n",
    "num = int(input('Digite número:'))\n",
    "\n",
    "while num != 0:\n",
    "    \n",
    "    cont += 1\n",
    "    \n",
    "    num = int(input('Digite número:'))\n",
    "    \n",
    "print(cont)"
   ]
  },
  {
   "cell_type": "markdown",
   "id": "4570c1a8",
   "metadata": {},
   "source": [
    "**Para exercitar:** Crie um código em Python que recebe, continuamente, números inteiros positivos do usuário, até que ele informe o número zero. Em seguida, exiba a quantidade *e a média desconsiderando o 0* dos números que o usuário informou."
   ]
  },
  {
   "cell_type": "code",
   "execution_count": 82,
   "id": "7fb980f5",
   "metadata": {},
   "outputs": [
    {
     "name": "stdout",
     "output_type": "stream",
     "text": [
      "Digite número:9\n",
      "Digite número:5\n",
      "Digite número:6\n",
      "Digite número:4\n",
      "Digite número:5\n",
      "Digite número:7\n",
      "Digite número:0\n",
      "6.0\n"
     ]
    }
   ],
   "source": [
    "cont = 0\n",
    "\n",
    "soma = 0\n",
    "\n",
    "num = int(input('Digite número:'))\n",
    "\n",
    "while num != 0:\n",
    "    \n",
    "    soma = soma + num\n",
    "    \n",
    "    cont += 1\n",
    "\n",
    "    num = int(input('Digite número:'))\n",
    "    \n",
    "media = soma/cont\n",
    "print(media)"
   ]
  },
  {
   "cell_type": "markdown",
   "id": "87b218ca",
   "metadata": {},
   "source": [
    "**Para exercitar:** Crie um código que recebe dois números inteiros (maiores do que 0) X e Y. O\n",
    "seu código deve imprimir todos os números ímpares entre X e Y (excluindo esses\n",
    "dois números).\n",
    "\n",
    "Obs: X sempre deve ser menor ou igual à Y."
   ]
  },
  {
   "cell_type": "code",
   "execution_count": 88,
   "id": "89289d17",
   "metadata": {},
   "outputs": [
    {
     "name": "stdout",
     "output_type": "stream",
     "text": [
      "Digite x:3\n",
      "Digite y:5\n"
     ]
    }
   ],
   "source": [
    "x = int(input('Digite x:'))\n",
    "y = int(input('Digite y:'))\n",
    "\n",
    "x += 1\n",
    "\n",
    "while x < y:\n",
    "    \n",
    "    if x % 2 == 1:\n",
    "        print(x)\n",
    "    \n",
    "    x += 1"
   ]
  },
  {
   "cell_type": "markdown",
   "id": "bbf8f172",
   "metadata": {},
   "source": [
    "## Estrutura controlada: `for`\n",
    "\n",
    "Pra contextualizar: calcule quanto uma pessoa terá de retorno caso realize um investimento de R$ 15 000.00 com rentabilidade de 0.5% ao mês e mantenha o investimento por 120 meses."
   ]
  },
  {
   "cell_type": "code",
   "execution_count": 89,
   "id": "f1943f17",
   "metadata": {},
   "outputs": [
    {
     "name": "stdout",
     "output_type": "stream",
     "text": [
      "27290.951010484376\n"
     ]
    }
   ],
   "source": [
    "i = 15000\n",
    "t = 120\n",
    "\n",
    "cont = 0\n",
    "\n",
    "while cont < t:\n",
    "    \n",
    "    i *= 1.005\n",
    "    \n",
    "    cont += 1\n",
    "\n",
    "print(i)"
   ]
  },
  {
   "cell_type": "markdown",
   "id": "dd9cc4ac",
   "metadata": {},
   "source": [
    "Existe uma forma mais enxuta?"
   ]
  },
  {
   "cell_type": "code",
   "execution_count": 94,
   "id": "b1728195",
   "metadata": {},
   "outputs": [
    {
     "name": "stdout",
     "output_type": "stream",
     "text": [
      "27290.951010484376\n"
     ]
    }
   ],
   "source": [
    "i = 15000\n",
    "t = 120\n",
    "\n",
    "for _ in range(t):\n",
    "    i *= 1.005\n",
    "\n",
    "print(i)"
   ]
  },
  {
   "cell_type": "markdown",
   "id": "37ecec76",
   "metadata": {},
   "source": [
    "Definindo apenas um parâmetro no `range`"
   ]
  },
  {
   "cell_type": "code",
   "execution_count": 99,
   "id": "74b43703",
   "metadata": {},
   "outputs": [
    {
     "name": "stdout",
     "output_type": "stream",
     "text": [
      "0\n",
      "1\n",
      "2\n",
      "3\n",
      "4\n"
     ]
    }
   ],
   "source": [
    "for var in range(5):\n",
    "    print(var)"
   ]
  },
  {
   "cell_type": "markdown",
   "id": "81188356",
   "metadata": {},
   "source": [
    "Definindo dois parâmetros no `range`"
   ]
  },
  {
   "cell_type": "code",
   "execution_count": 102,
   "id": "d4514fec",
   "metadata": {},
   "outputs": [
    {
     "name": "stdout",
     "output_type": "stream",
     "text": [
      "50\n",
      "51\n",
      "52\n",
      "53\n",
      "54\n",
      "55\n",
      "56\n",
      "57\n",
      "58\n",
      "59\n",
      "60\n"
     ]
    }
   ],
   "source": [
    "for var in range(50, 61):\n",
    "    print(var)"
   ]
  },
  {
   "cell_type": "markdown",
   "id": "4203823c",
   "metadata": {},
   "source": [
    "Definindo três parâmetro no `range`"
   ]
  },
  {
   "cell_type": "code",
   "execution_count": 104,
   "id": "b9e1e04a",
   "metadata": {},
   "outputs": [
    {
     "name": "stdout",
     "output_type": "stream",
     "text": [
      "50\n",
      "52\n",
      "54\n",
      "56\n",
      "58\n"
     ]
    }
   ],
   "source": [
    "for var in range(50, 60, 2):\n",
    "    print(var)"
   ]
  },
  {
   "cell_type": "markdown",
   "id": "889b68a6",
   "metadata": {},
   "source": [
    "**Para exercitar:** Crie um programa em Python que recebe um número inteiro positivo do usuário e, em seguida, imprime na tela uma sequência numérica que inicia no 1 e termina no número informado, usando `for`.\n",
    "\n",
    "**Exemplo de entrada**  \n",
    "```\n",
    "5\n",
    "```\n",
    "\n",
    "**Exemplo de saída**  \n",
    "```\n",
    "1  \n",
    "2  \n",
    "3  \n",
    "4  \n",
    "5  \n",
    "```"
   ]
  },
  {
   "cell_type": "code",
   "execution_count": 108,
   "id": "469014ce",
   "metadata": {},
   "outputs": [
    {
     "name": "stdout",
     "output_type": "stream",
     "text": [
      "digite número:5\n",
      "1\n",
      "2\n",
      "3\n",
      "4\n",
      "5\n"
     ]
    }
   ],
   "source": [
    "num = int(input('digite número:'))\n",
    "\n",
    "for var in range(0, num):\n",
    "    print(var + 1)"
   ]
  },
  {
   "cell_type": "markdown",
   "id": "eef21623",
   "metadata": {},
   "source": [
    "**Para exercitar:** Peça para o usuário digitar os 5 últimos valores de uma determinada ação e, ao final, mostre na tela a média dessas ações.\n",
    "\n",
    "**Exemplo de entrada**  \n",
    "```\n",
    "5\n",
    "6\n",
    "5\n",
    "7\n",
    "4\n",
    "```\n",
    "\n",
    "**Exemplo de saída**  \n",
    "```\n",
    "5.4\n",
    "```"
   ]
  },
  {
   "cell_type": "code",
   "execution_count": 112,
   "id": "c43dfe78",
   "metadata": {},
   "outputs": [
    {
     "name": "stdout",
     "output_type": "stream",
     "text": [
      "Digite número: 9\n",
      "Digite número: 14\n",
      "Digite número: 27\n",
      "16.666666666666668\n"
     ]
    }
   ],
   "source": [
    "soma = 0\n",
    "\n",
    "qtd_de_valores = 3\n",
    "\n",
    "for _ in range(qtd_de_valores):\n",
    "    valor_acao = int(input('Digite número: '))    \n",
    "    soma += valor_acao\n",
    "    \n",
    "media = soma/qtd_de_valores\n",
    "\n",
    "print(media)"
   ]
  },
  {
   "cell_type": "code",
   "execution_count": null,
   "id": "01540c4c",
   "metadata": {},
   "outputs": [],
   "source": []
  },
  {
   "cell_type": "code",
   "execution_count": null,
   "id": "2be2ac8d",
   "metadata": {},
   "outputs": [],
   "source": []
  },
  {
   "cell_type": "code",
   "execution_count": null,
   "id": "bb944735",
   "metadata": {},
   "outputs": [],
   "source": []
  },
  {
   "cell_type": "code",
   "execution_count": null,
   "id": "ffd1eb84",
   "metadata": {},
   "outputs": [],
   "source": []
  },
  {
   "cell_type": "code",
   "execution_count": null,
   "id": "e48169ec",
   "metadata": {},
   "outputs": [],
   "source": []
  },
  {
   "cell_type": "code",
   "execution_count": null,
   "id": "4206d778",
   "metadata": {},
   "outputs": [],
   "source": []
  },
  {
   "cell_type": "code",
   "execution_count": null,
   "id": "19ef218f",
   "metadata": {},
   "outputs": [],
   "source": []
  },
  {
   "cell_type": "code",
   "execution_count": null,
   "id": "fe74972c",
   "metadata": {},
   "outputs": [],
   "source": []
  },
  {
   "cell_type": "code",
   "execution_count": null,
   "id": "3228d290",
   "metadata": {},
   "outputs": [],
   "source": []
  },
  {
   "cell_type": "code",
   "execution_count": null,
   "id": "ad9ee4af",
   "metadata": {},
   "outputs": [],
   "source": []
  },
  {
   "cell_type": "code",
   "execution_count": null,
   "id": "625be459",
   "metadata": {},
   "outputs": [],
   "source": []
  },
  {
   "cell_type": "code",
   "execution_count": null,
   "id": "8a821e31",
   "metadata": {},
   "outputs": [],
   "source": []
  },
  {
   "cell_type": "code",
   "execution_count": null,
   "id": "dd2c0297",
   "metadata": {},
   "outputs": [],
   "source": []
  },
  {
   "cell_type": "code",
   "execution_count": null,
   "id": "ab31e7ae",
   "metadata": {},
   "outputs": [],
   "source": []
  },
  {
   "cell_type": "code",
   "execution_count": null,
   "id": "d152275d",
   "metadata": {},
   "outputs": [],
   "source": []
  },
  {
   "cell_type": "code",
   "execution_count": null,
   "id": "72e34484",
   "metadata": {},
   "outputs": [],
   "source": []
  },
  {
   "cell_type": "code",
   "execution_count": null,
   "id": "1e9ff027",
   "metadata": {},
   "outputs": [],
   "source": []
  },
  {
   "cell_type": "code",
   "execution_count": null,
   "id": "0c409e6f",
   "metadata": {},
   "outputs": [],
   "source": []
  },
  {
   "cell_type": "code",
   "execution_count": null,
   "id": "6cafff8a",
   "metadata": {},
   "outputs": [],
   "source": []
  },
  {
   "cell_type": "code",
   "execution_count": null,
   "id": "05ae5887",
   "metadata": {},
   "outputs": [],
   "source": []
  },
  {
   "cell_type": "code",
   "execution_count": null,
   "id": "b5fd5fd9",
   "metadata": {},
   "outputs": [],
   "source": []
  },
  {
   "cell_type": "code",
   "execution_count": null,
   "id": "6823e357",
   "metadata": {},
   "outputs": [],
   "source": []
  },
  {
   "cell_type": "code",
   "execution_count": null,
   "id": "b32c7209",
   "metadata": {},
   "outputs": [],
   "source": []
  },
  {
   "cell_type": "code",
   "execution_count": null,
   "id": "5a63de40",
   "metadata": {},
   "outputs": [],
   "source": []
  },
  {
   "cell_type": "code",
   "execution_count": null,
   "id": "5f9e2a12",
   "metadata": {},
   "outputs": [],
   "source": []
  },
  {
   "cell_type": "code",
   "execution_count": null,
   "id": "f4e6596b",
   "metadata": {},
   "outputs": [],
   "source": []
  },
  {
   "cell_type": "markdown",
   "id": "eae74450",
   "metadata": {},
   "source": [
    "## Listas"
   ]
  },
  {
   "cell_type": "markdown",
   "id": "2ec512b6",
   "metadata": {},
   "source": [
    "- Variável que armazena várias outras variáveis dentro dela;\n",
    "- Pode ser inicializada vazia (`list()` ou `[]`) ou já com elementos;\n",
    "- Pode conter os mais diversos tipos de variáveis dentro dela;\n",
    "- Podemos localizar os elementos na lista pela sua **posição**."
   ]
  },
  {
   "cell_type": "code",
   "execution_count": null,
   "id": "b3900ebf",
   "metadata": {},
   "outputs": [],
   "source": []
  },
  {
   "cell_type": "markdown",
   "id": "cb44167a",
   "metadata": {},
   "source": [
    "**Para exercitar:** preciso armazenar os valores de fechamento da ação PETR4 nos 5 primeiros dias de março. Como fazer de forma organizada?\n",
    "\n",
    "- Mar 05, 22.29\n",
    "- Mar 04, 21.12\n",
    "- Mar 03, 20.48\n",
    "- Mar 02, 20.67\n",
    "- Mar 01, 21.92"
   ]
  },
  {
   "cell_type": "code",
   "execution_count": null,
   "id": "4cb8e550",
   "metadata": {},
   "outputs": [],
   "source": []
  },
  {
   "cell_type": "markdown",
   "id": "64c60e58",
   "metadata": {},
   "source": [
    "- Não possui limite de tamanho (máximo ou mínimo) pré-determinado;\n",
    "- Inserção pode ser feita ao final (`.append(valor)`), início ou meio (`.insert(posicao, valor)`);\n",
    "- Podemos descobrir o tamanho atual de uma lista usando `len()`."
   ]
  },
  {
   "cell_type": "code",
   "execution_count": null,
   "id": "a1d95542",
   "metadata": {},
   "outputs": [],
   "source": []
  },
  {
   "cell_type": "markdown",
   "id": "029e8a43",
   "metadata": {},
   "source": [
    "**Parar exercitar:** Peça para o usuário digitar 5 valores de uma determinada ação e, ao final, mostre na tela a média dessas ações (use o `for` e armazene os elementos em uma lista)."
   ]
  },
  {
   "cell_type": "code",
   "execution_count": null,
   "id": "9df125f4",
   "metadata": {},
   "outputs": [],
   "source": []
  },
  {
   "cell_type": "markdown",
   "id": "437f1121",
   "metadata": {},
   "source": [
    "**Para exercitar:** Adicione mais dois elementos ao final da lista de valores de fechamento da PETR4 (-9, -88). No início, insira também 2 novos valores (500 e 762)."
   ]
  },
  {
   "cell_type": "code",
   "execution_count": null,
   "id": "e16923b0",
   "metadata": {},
   "outputs": [],
   "source": []
  },
  {
   "cell_type": "markdown",
   "id": "9887d4ac",
   "metadata": {},
   "source": [
    "- Podemos aplicar operações de slice para selecionar uma sublista:\n",
    "    - [início:fim]\n",
    "    - início está incluso, fim não está incluso\n",
    "    - posicionamento por negativo"
   ]
  },
  {
   "cell_type": "code",
   "execution_count": null,
   "id": "f864f203",
   "metadata": {},
   "outputs": [],
   "source": []
  },
  {
   "cell_type": "markdown",
   "id": "46fa171e",
   "metadata": {},
   "source": [
    "**Para exercitar:** Faça uma seleção da PETR4 excluindo os dois primeiros."
   ]
  },
  {
   "cell_type": "code",
   "execution_count": null,
   "id": "02ea4114",
   "metadata": {},
   "outputs": [],
   "source": []
  },
  {
   "cell_type": "markdown",
   "id": "425daf87",
   "metadata": {},
   "source": [
    "**Para exercitar:** Faça uma seleção da PETR4 excluindo os dois últimos elemento."
   ]
  },
  {
   "cell_type": "code",
   "execution_count": null,
   "id": "6a65d65f",
   "metadata": {},
   "outputs": [],
   "source": []
  },
  {
   "cell_type": "markdown",
   "id": "c8ea72f1",
   "metadata": {},
   "source": [
    "**Para exercitar:** Faça uma seleção da PETR4 excluindo os dois primeiros e os dois últimos elemento."
   ]
  },
  {
   "cell_type": "code",
   "execution_count": null,
   "id": "03ef1d77",
   "metadata": {},
   "outputs": [],
   "source": []
  },
  {
   "cell_type": "markdown",
   "id": "e864f2d3",
   "metadata": {},
   "source": [
    "- Elementos podem ser removidos:\n",
    "    - Por valor (`.remove()`);\n",
    "    - Por índice (`.pop()`);"
   ]
  },
  {
   "cell_type": "code",
   "execution_count": null,
   "id": "58c20911",
   "metadata": {},
   "outputs": [],
   "source": []
  },
  {
   "cell_type": "markdown",
   "id": "0344cd63",
   "metadata": {},
   "source": [
    "**Para codar:** Remova os valores inseridos anteriormente, por posição (dois últimos) e por valor (fictícios 500 e 762)."
   ]
  },
  {
   "cell_type": "code",
   "execution_count": null,
   "id": "00311c35",
   "metadata": {},
   "outputs": [],
   "source": []
  },
  {
   "cell_type": "markdown",
   "id": "bd660e85",
   "metadata": {},
   "source": [
    "- Operadores!\n",
    "    - `in`\n",
    "    - `+`\n",
    "    - `*`"
   ]
  },
  {
   "cell_type": "code",
   "execution_count": null,
   "id": "cd2d0e09",
   "metadata": {},
   "outputs": [],
   "source": []
  },
  {
   "cell_type": "markdown",
   "id": "bb8ac58e",
   "metadata": {},
   "source": [
    "**Para exercitar:** Crie uma segunda lista com mais 5 elementos da PETR4. Concatene essa lista com a primeira e mostre o resultado na tela.\n",
    "\n",
    "- Mar 12, 23.17\n",
    "- Mar 11, 23.29\n",
    "- Mar 10, 22.34\n",
    "- Mar 09, 21.59\n",
    "- Mar 08, 21.10"
   ]
  },
  {
   "cell_type": "code",
   "execution_count": null,
   "id": "b75adfeb",
   "metadata": {},
   "outputs": [],
   "source": []
  },
  {
   "cell_type": "markdown",
   "id": "9c7f4ce5",
   "metadata": {},
   "source": [
    "- Usando for para iterar sobre listas"
   ]
  },
  {
   "cell_type": "code",
   "execution_count": null,
   "id": "d4b4dd0d",
   "metadata": {},
   "outputs": [],
   "source": []
  },
  {
   "cell_type": "markdown",
   "id": "00903a13",
   "metadata": {},
   "source": [
    "**Para exercitar**: percorra a lista PETR4, identificando o maior valor de cada uma."
   ]
  },
  {
   "cell_type": "code",
   "execution_count": null,
   "id": "3e09f638",
   "metadata": {},
   "outputs": [],
   "source": []
  },
  {
   "cell_type": "markdown",
   "id": "cb71a86c",
   "metadata": {},
   "source": [
    "- Funções úteis:\n",
    "    - `max()`\n",
    "    - `min()`\n",
    "    - `sum()`\n",
    "    \n",
    "**Para exercitar:** Faça um programa que lê 4 números, mostrando na tela o maior deles."
   ]
  },
  {
   "cell_type": "code",
   "execution_count": null,
   "id": "93b8b886",
   "metadata": {},
   "outputs": [],
   "source": []
  },
  {
   "cell_type": "markdown",
   "id": "2617dd96",
   "metadata": {},
   "source": [
    "- Invertendo listas com `.reverse()`"
   ]
  },
  {
   "cell_type": "code",
   "execution_count": null,
   "id": "120ea8fd",
   "metadata": {},
   "outputs": [],
   "source": []
  },
  {
   "cell_type": "markdown",
   "id": "1df84cc1",
   "metadata": {},
   "source": [
    "- Ordenando listas com `.sort()`\n",
    "    - Parâmetro `reverse`"
   ]
  },
  {
   "cell_type": "code",
   "execution_count": null,
   "id": "dc683108",
   "metadata": {},
   "outputs": [],
   "source": []
  },
  {
   "cell_type": "markdown",
   "id": "d31f428a",
   "metadata": {},
   "source": [
    "**Para exercitar**: Qual o segundo maior elemento da lista PETR4?"
   ]
  },
  {
   "cell_type": "code",
   "execution_count": null,
   "id": "749c46b6",
   "metadata": {},
   "outputs": [],
   "source": []
  }
 ],
 "metadata": {
  "kernelspec": {
   "display_name": "Python 3",
   "language": "python",
   "name": "python3"
  },
  "language_info": {
   "codemirror_mode": {
    "name": "ipython",
    "version": 3
   },
   "file_extension": ".py",
   "mimetype": "text/x-python",
   "name": "python",
   "nbconvert_exporter": "python",
   "pygments_lexer": "ipython3",
   "version": "3.6.6"
  }
 },
 "nbformat": 4,
 "nbformat_minor": 5
}
