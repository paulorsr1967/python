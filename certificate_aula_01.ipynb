{
 "cells": [
  {
   "cell_type": "markdown",
   "metadata": {},
   "source": [
    "![](https://s3-sa-east-1.amazonaws.com/lcpi/10ad66c9-adca-4f2f-bd07-2b03e6aecdfd.png)\n",
    "\n",
    "# <center> Bem Vindos!</center>"
   ]
  },
  {
   "cell_type": "markdown",
   "metadata": {},
   "source": [
    "# Quem é Rychard?\n",
    "\n",
    "- Graduado em Engenharia Elétrica pelo IFPB\n",
    "- Especialização em Ciência de Dados pelo ITA\n",
    "- Trabalha com dados há 5 anos \n",
    "- Atua na área de crédito financeiro há 3 anos\n",
    "- Possui cerca de 5 anos transmitindo ativamente conhecimentos sobre programação e dados para as pessoas"
   ]
  },
  {
   "cell_type": "markdown",
   "metadata": {},
   "source": [
    "# Instalação\n",
    "\n",
    "- Uso de Python 3 + Jupyter\n",
    "- Tutorial para instalação em outra aula"
   ]
  },
  {
   "cell_type": "markdown",
   "metadata": {},
   "source": [
    "# Primeiro Código"
   ]
  },
  {
   "cell_type": "markdown",
   "metadata": {},
   "source": [
    "- Podemos usar a função `print` para \"imprimir\" na tela algo que a gente queira."
   ]
  },
  {
   "cell_type": "code",
   "execution_count": 12,
   "metadata": {},
   "outputs": [
    {
     "name": "stdout",
     "output_type": "stream",
     "text": [
      "Hello World!\n"
     ]
    }
   ],
   "source": [
    "print('Hello World!')"
   ]
  },
  {
   "cell_type": "code",
   "execution_count": 11,
   "metadata": {},
   "outputs": [
    {
     "name": "stdout",
     "output_type": "stream",
     "text": [
      "Rychard Guedes!\n"
     ]
    }
   ],
   "source": [
    "print('Rychard Guedes!')"
   ]
  },
  {
   "cell_type": "markdown",
   "metadata": {},
   "source": [
    "# Por que Python é minha linguagem favorita?\n",
    "\n",
    "- Interpretabilidade\n",
    "- Versatilidade\n",
    "- Comunidade "
   ]
  },
  {
   "cell_type": "markdown",
   "metadata": {},
   "source": [
    "# Alguns pontos sobre o Jupyter"
   ]
  },
  {
   "cell_type": "markdown",
   "metadata": {},
   "source": [
    "## Células de markdown\n",
    "\n",
    "O Jupyter funciona como um caderno que pode executar códigos em Python. Então, para descrever testes, propósitos, ou qualquer outro tipo de conteúdo, podemos usar as células de markdown."
   ]
  },
  {
   "cell_type": "code",
   "execution_count": 13,
   "metadata": {},
   "outputs": [
    {
     "name": "stdout",
     "output_type": "stream",
     "text": [
      "Hello World!\n"
     ]
    }
   ],
   "source": [
    "## Células de código\n",
    "\n",
    "print('Hello World!')"
   ]
  },
  {
   "cell_type": "raw",
   "metadata": {},
   "source": [
    "## Células de texto puro (raw)\n",
    "\n",
    "Esse é um texto puro, não será convertido em markdown, tampouco pode ser executado."
   ]
  },
  {
   "cell_type": "markdown",
   "metadata": {},
   "source": [
    "# Título 1\n",
    "## Título 2\n",
    "### Título 3\n",
    "\n",
    "Para escrever em **negrito**, basta usar dois asteriscos ao redor da palavra.\n",
    "\n",
    "Para escrever em *itálico*, basta usar dois asteriscos ao redor da palavra.\n",
    "\n",
    "- Para escrever itens, basta adicionar hífens\n",
    "- Mais um item\n",
    "    - Para sub-itens, basta dar um tab antes do hífen\n",
    "    - Mais um sub-item\n",
    "    \n",
    "1. Para itens enumerados, colocamos números + ponto ao invés de hífen\n",
    "1. E os números não precisam estar em ordem, o Jupyter escolhe a sequência correta"
   ]
  },
  {
   "cell_type": "markdown",
   "metadata": {},
   "source": [
    "# Variáveis\n",
    "\n",
    "- Na matemática, o que é uma variável?"
   ]
  },
  {
   "cell_type": "code",
   "execution_count": 15,
   "metadata": {},
   "outputs": [
    {
     "name": "stdout",
     "output_type": "stream",
     "text": [
      "89\n"
     ]
    }
   ],
   "source": [
    "qtd_funcionarios = 89\n",
    "print(qtd_funcionarios)"
   ]
  },
  {
   "cell_type": "code",
   "execution_count": 16,
   "metadata": {},
   "outputs": [
    {
     "name": "stdout",
     "output_type": "stream",
     "text": [
      "21.8\n"
     ]
    }
   ],
   "source": [
    "receita = 21.8\n",
    "print(receita)"
   ]
  },
  {
   "cell_type": "code",
   "execution_count": 17,
   "metadata": {},
   "outputs": [
    {
     "name": "stdout",
     "output_type": "stream",
     "text": [
      "Dinero\n"
     ]
    }
   ],
   "source": [
    "nome = 'Dinero'\n",
    "print(nome)"
   ]
  },
  {
   "cell_type": "markdown",
   "metadata": {},
   "source": [
    "- Função `type`: recebe uma variável como parâmetro e nos retorna o tipo dessa variável"
   ]
  },
  {
   "cell_type": "code",
   "execution_count": 18,
   "metadata": {},
   "outputs": [
    {
     "name": "stdout",
     "output_type": "stream",
     "text": [
      "<class 'int'>\n"
     ]
    }
   ],
   "source": [
    "tipo = type(qtd_funcionarios)\n",
    "print(tipo)"
   ]
  },
  {
   "cell_type": "code",
   "execution_count": 19,
   "metadata": {},
   "outputs": [
    {
     "name": "stdout",
     "output_type": "stream",
     "text": [
      "<class 'float'>\n"
     ]
    }
   ],
   "source": [
    "tipo = type(receita)\n",
    "print(tipo)"
   ]
  },
  {
   "cell_type": "code",
   "execution_count": 20,
   "metadata": {},
   "outputs": [
    {
     "name": "stdout",
     "output_type": "stream",
     "text": [
      "<class 'str'>\n"
     ]
    }
   ],
   "source": [
    "tipo = type(nome)\n",
    "print(tipo)"
   ]
  },
  {
   "cell_type": "markdown",
   "metadata": {},
   "source": [
    "- Existem vários tipos de variáveis:\n",
    "    - `int`\n",
    "    - `float`\n",
    "    - `string`\n",
    "    - `boolean`"
   ]
  },
  {
   "cell_type": "code",
   "execution_count": 23,
   "metadata": {},
   "outputs": [
    {
     "name": "stdout",
     "output_type": "stream",
     "text": [
      "False\n"
     ]
    }
   ],
   "source": [
    "chovendo = False\n",
    "print(chovendo)"
   ]
  },
  {
   "cell_type": "code",
   "execution_count": 24,
   "metadata": {},
   "outputs": [
    {
     "name": "stdout",
     "output_type": "stream",
     "text": [
      "<class 'bool'>\n"
     ]
    }
   ],
   "source": [
    "tipo = type(chovendo)\n",
    "print(tipo)"
   ]
  },
  {
   "cell_type": "markdown",
   "metadata": {},
   "source": [
    "**Conselho: usem nomes intuitivos para as variáveis!**"
   ]
  },
  {
   "cell_type": "code",
   "execution_count": 26,
   "metadata": {},
   "outputs": [
    {
     "name": "stdout",
     "output_type": "stream",
     "text": [
      "9\n"
     ]
    }
   ],
   "source": [
    "idade = 9\n",
    "print(idade)"
   ]
  },
  {
   "cell_type": "code",
   "execution_count": 27,
   "metadata": {},
   "outputs": [
    {
     "ename": "NameError",
     "evalue": "name 'IDADE' is not defined",
     "output_type": "error",
     "traceback": [
      "\u001b[0;31m---------------------------------------------------------------------------\u001b[0m",
      "\u001b[0;31mNameError\u001b[0m                                 Traceback (most recent call last)",
      "\u001b[0;32m<ipython-input-27-0622c6848cbd>\u001b[0m in \u001b[0;36m<module>\u001b[0;34m\u001b[0m\n\u001b[0;32m----> 1\u001b[0;31m \u001b[0mprint\u001b[0m\u001b[0;34m(\u001b[0m\u001b[0mIDADE\u001b[0m\u001b[0;34m)\u001b[0m\u001b[0;34m\u001b[0m\u001b[0;34m\u001b[0m\u001b[0m\n\u001b[0m",
      "\u001b[0;31mNameError\u001b[0m: name 'IDADE' is not defined"
     ]
    }
   ],
   "source": [
    "print(IDADE)"
   ]
  },
  {
   "cell_type": "code",
   "execution_count": 29,
   "metadata": {},
   "outputs": [
    {
     "ename": "NameError",
     "evalue": "name 'Idade' is not defined",
     "output_type": "error",
     "traceback": [
      "\u001b[0;31m---------------------------------------------------------------------------\u001b[0m",
      "\u001b[0;31mNameError\u001b[0m                                 Traceback (most recent call last)",
      "\u001b[0;32m<ipython-input-29-dc9793695eba>\u001b[0m in \u001b[0;36m<module>\u001b[0;34m\u001b[0m\n\u001b[0;32m----> 1\u001b[0;31m \u001b[0mprint\u001b[0m\u001b[0;34m(\u001b[0m\u001b[0mIdade\u001b[0m\u001b[0;34m)\u001b[0m\u001b[0;34m\u001b[0m\u001b[0;34m\u001b[0m\u001b[0m\n\u001b[0m",
      "\u001b[0;31mNameError\u001b[0m: name 'Idade' is not defined"
     ]
    }
   ],
   "source": [
    "print(Idade)"
   ]
  },
  {
   "cell_type": "markdown",
   "metadata": {},
   "source": [
    "# Operadores\n",
    "\n",
    "- Para somar (duas depesas): `+`\n",
    "- Para subtrair (receitas e despesas): `-`\n",
    "- Para dividir (faturamento anual para médio mensal): `\\`\n",
    "- Para multiplicar (faturamento médio mensal para anual): `*`\n",
    "- Para dividir inteiro: `\\\\`\n",
    "- Para resto: `%`\n",
    "- Para potência: `**`"
   ]
  },
  {
   "cell_type": "code",
   "execution_count": 32,
   "metadata": {},
   "outputs": [
    {
     "name": "stdout",
     "output_type": "stream",
     "text": [
      "21\n",
      "34\n",
      "78\n"
     ]
    }
   ],
   "source": [
    "receita_fonte_a = 21\n",
    "receita_fonte_b = 34\n",
    "receita_fonte_c = 78\n",
    "\n",
    "print(receita_fonte_a)\n",
    "print(receita_fonte_b)\n",
    "print(receita_fonte_c)"
   ]
  },
  {
   "cell_type": "code",
   "execution_count": 33,
   "metadata": {},
   "outputs": [
    {
     "name": "stdout",
     "output_type": "stream",
     "text": [
      "133\n"
     ]
    }
   ],
   "source": [
    "receita_total = receita_fonte_a + receita_fonte_b + receita_fonte_c\n",
    "print(receita_total)"
   ]
  },
  {
   "cell_type": "code",
   "execution_count": 34,
   "metadata": {},
   "outputs": [
    {
     "name": "stdout",
     "output_type": "stream",
     "text": [
      "133\n"
     ]
    }
   ],
   "source": [
    "print(receita_total)"
   ]
  },
  {
   "cell_type": "code",
   "execution_count": 35,
   "metadata": {},
   "outputs": [
    {
     "name": "stdout",
     "output_type": "stream",
     "text": [
      "66\n"
     ]
    }
   ],
   "source": [
    "despesa_total = 67\n",
    "\n",
    "lucro = receita_total - despesa_total\n",
    "\n",
    "print(lucro)"
   ]
  },
  {
   "cell_type": "code",
   "execution_count": 36,
   "metadata": {},
   "outputs": [
    {
     "name": "stdout",
     "output_type": "stream",
     "text": [
      "11.083333333333334\n"
     ]
    }
   ],
   "source": [
    "receita_media = receita_total/12\n",
    "print(receita_media)"
   ]
  },
  {
   "cell_type": "code",
   "execution_count": 37,
   "metadata": {},
   "outputs": [
    {
     "name": "stdout",
     "output_type": "stream",
     "text": [
      "133.0\n"
     ]
    }
   ],
   "source": [
    "receita_total_2 = receita_media*12\n",
    "print(receita_total_2)"
   ]
  },
  {
   "cell_type": "code",
   "execution_count": 38,
   "metadata": {},
   "outputs": [
    {
     "name": "stdout",
     "output_type": "stream",
     "text": [
      "11\n"
     ]
    }
   ],
   "source": [
    "receita_media = receita_total//12\n",
    "print(receita_media)"
   ]
  },
  {
   "cell_type": "code",
   "execution_count": 39,
   "metadata": {},
   "outputs": [
    {
     "name": "stdout",
     "output_type": "stream",
     "text": [
      "1\n"
     ]
    }
   ],
   "source": [
    "resto = receita_total%12\n",
    "print(resto)"
   ]
  },
  {
   "cell_type": "code",
   "execution_count": 45,
   "metadata": {},
   "outputs": [
    {
     "name": "stdout",
     "output_type": "stream",
     "text": [
      "2.0\n"
     ]
    }
   ],
   "source": [
    "numero = 4\n",
    "ao_quadrado = numero**(1/2)\n",
    "print(ao_quadrado)"
   ]
  },
  {
   "cell_type": "markdown",
   "metadata": {},
   "source": [
    "# Exercício!\n",
    "\n",
    "- Nossa calculadora agora é o Python. Faça um código que calcule a diferença entre o valor de fechamento da ação da Petrobrás no dia 04/jan/2021 e o valor de fechamento dessa mesma ação no dia 04/mar/2021, mostrando o resultado na tela.\n",
    "    - 04 de jan. de 2021: 28.91\n",
    "    - 04 de mar. de 2021: 22.22   \n",
    "\n",
    "\n"
   ]
  },
  {
   "cell_type": "code",
   "execution_count": 46,
   "metadata": {},
   "outputs": [
    {
     "name": "stdout",
     "output_type": "stream",
     "text": [
      "6.690000000000001\n"
     ]
    }
   ],
   "source": [
    "acao_jan = 28.91\n",
    "acao_mar = 22.22\n",
    "\n",
    "dif = acao_jan - acao_mar\n",
    "\n",
    "print(dif)"
   ]
  },
  {
   "cell_type": "markdown",
   "metadata": {},
   "source": [
    "- Dados os seguintes valores de fechamento da ação da Petrobrás nos 5 primeiros dias de março de 2021, calcule o valor médio no período.\n",
    "    - 05 de mar. de 2021: 22,39\n",
    "    - 04 de mar. de 2021: 22,22\n",
    "    - 03 de mar. de 2021: 21,19\n",
    "    - 02 de mar. de 2021: 21,99\n",
    "    - 01 de mar. de 2021: 22,00\n",
    "\n",
    "\n"
   ]
  },
  {
   "cell_type": "code",
   "execution_count": 50,
   "metadata": {},
   "outputs": [
    {
     "name": "stdout",
     "output_type": "stream",
     "text": [
      "21.958\n"
     ]
    }
   ],
   "source": [
    "valor_fechamento_1 = 22.39\n",
    "valor_fechamento_2 = 22.22\n",
    "valor_fechamento_3 = 21.19\n",
    "valor_fechamento_4 = 21.99\n",
    "valor_fechamento_5 = 22.00\n",
    "\n",
    "media = (valor_fechamento_1 + valor_fechamento_2 + valor_fechamento_3 + valor_fechamento_4 + valor_fechamento_5)/5\n",
    "print(media)"
   ]
  },
  {
   "cell_type": "markdown",
   "metadata": {},
   "source": [
    "- Calcule, usando o Python, a raiz quadrada de 5776."
   ]
  },
  {
   "cell_type": "code",
   "execution_count": 51,
   "metadata": {},
   "outputs": [
    {
     "name": "stdout",
     "output_type": "stream",
     "text": [
      "76.0\n"
     ]
    }
   ],
   "source": [
    "numero = 5776\n",
    "\n",
    "raiz_quadrada = numero**(1/2)\n",
    "\n",
    "print(raiz_quadrada)"
   ]
  },
  {
   "cell_type": "code",
   "execution_count": 52,
   "metadata": {},
   "outputs": [
    {
     "name": "stdout",
     "output_type": "stream",
     "text": [
      "5776\n"
     ]
    }
   ],
   "source": [
    "numero_2 = 76**2\n",
    "print(numero_2)"
   ]
  },
  {
   "cell_type": "markdown",
   "metadata": {},
   "source": [
    "# Saídas"
   ]
  },
  {
   "cell_type": "markdown",
   "metadata": {},
   "source": [
    "- Função `print` pode receber diversos parâmetros"
   ]
  },
  {
   "cell_type": "code",
   "execution_count": 56,
   "metadata": {},
   "outputs": [
    {
     "name": "stdout",
     "output_type": "stream",
     "text": [
      "A raiz quadrada do número é 76.0 !\n"
     ]
    }
   ],
   "source": [
    "numero = 5776\n",
    "\n",
    "raiz_quadrada = numero**(1/2)\n",
    "\n",
    "mensagem = 'A raiz quadrada do número é'\n",
    "final_mensagem = '!'\n",
    "\n",
    "print(mensagem, raiz_quadrada, final_mensagem)"
   ]
  },
  {
   "cell_type": "markdown",
   "metadata": {},
   "source": [
    "# Entradas"
   ]
  },
  {
   "cell_type": "markdown",
   "metadata": {},
   "source": [
    "- Função `input`: captura o que o usuário digitar no teclado até que a tecla enter seja apertada"
   ]
  },
  {
   "cell_type": "code",
   "execution_count": 57,
   "metadata": {},
   "outputs": [
    {
     "name": "stdout",
     "output_type": "stream",
     "text": [
      "essa é a minha mensagem para o computador\n",
      "essa é a minha mensagem para o computador\n"
     ]
    }
   ],
   "source": [
    "mensagem_usuario = input()\n",
    "\n",
    "print(mensagem_usuario)"
   ]
  },
  {
   "cell_type": "markdown",
   "metadata": {},
   "source": [
    "- Função `input`: pode receber como parâmetro uma `string` que será exibida antes de aguardar que o texto seja digitado."
   ]
  },
  {
   "cell_type": "code",
   "execution_count": 58,
   "metadata": {},
   "outputs": [
    {
     "name": "stdout",
     "output_type": "stream",
     "text": [
      "Digite uma mensagem para a máquina: oi máquina\n",
      "oi máquina\n"
     ]
    }
   ],
   "source": [
    "mensagem_usuario = input('Digite uma mensagem para a máquina: ')\n",
    "\n",
    "print(mensagem_usuario)"
   ]
  },
  {
   "cell_type": "code",
   "execution_count": 59,
   "metadata": {},
   "outputs": [
    {
     "name": "stdout",
     "output_type": "stream",
     "text": [
      "Digite o valor da ação da petrobrás: 22.39\n",
      "22.39\n"
     ]
    }
   ],
   "source": [
    "valor_acao_petrobras = input('Digite o valor da ação da petrobrás: ')\n",
    "print(valor_acao_petrobras)"
   ]
  },
  {
   "cell_type": "markdown",
   "metadata": {},
   "source": [
    "# Exercício!\n",
    "- Faça um código que pergunta a receita e a despesa de uma determinada empresa, mostrando na tela qual foi o lucro obtido.\n",
    "\n"
   ]
  },
  {
   "cell_type": "code",
   "execution_count": 61,
   "metadata": {},
   "outputs": [
    {
     "name": "stdout",
     "output_type": "stream",
     "text": [
      "digite a receita da empresa: 21\n",
      "digite a despesa da empresa: 15\n"
     ]
    },
    {
     "ename": "TypeError",
     "evalue": "unsupported operand type(s) for -: 'str' and 'str'",
     "output_type": "error",
     "traceback": [
      "\u001b[0;31m---------------------------------------------------------------------------\u001b[0m",
      "\u001b[0;31mTypeError\u001b[0m                                 Traceback (most recent call last)",
      "\u001b[0;32m<ipython-input-61-be4c3bccdbc7>\u001b[0m in \u001b[0;36m<module>\u001b[0;34m\u001b[0m\n\u001b[1;32m      2\u001b[0m \u001b[0mdespesa\u001b[0m \u001b[0;34m=\u001b[0m \u001b[0minput\u001b[0m\u001b[0;34m(\u001b[0m\u001b[0;34m'digite a despesa da empresa: '\u001b[0m\u001b[0;34m)\u001b[0m\u001b[0;34m\u001b[0m\u001b[0;34m\u001b[0m\u001b[0m\n\u001b[1;32m      3\u001b[0m \u001b[0;34m\u001b[0m\u001b[0m\n\u001b[0;32m----> 4\u001b[0;31m \u001b[0mlucro\u001b[0m \u001b[0;34m=\u001b[0m \u001b[0mreceita\u001b[0m \u001b[0;34m-\u001b[0m \u001b[0mdespesa\u001b[0m\u001b[0;34m\u001b[0m\u001b[0;34m\u001b[0m\u001b[0m\n\u001b[0m\u001b[1;32m      5\u001b[0m \u001b[0;34m\u001b[0m\u001b[0m\n\u001b[1;32m      6\u001b[0m \u001b[0mprint\u001b[0m\u001b[0;34m(\u001b[0m\u001b[0mlucro\u001b[0m\u001b[0;34m)\u001b[0m\u001b[0;34m\u001b[0m\u001b[0;34m\u001b[0m\u001b[0m\n",
      "\u001b[0;31mTypeError\u001b[0m: unsupported operand type(s) for -: 'str' and 'str'"
     ]
    }
   ],
   "source": [
    "receita = input('digite a receita da empresa: ')\n",
    "despesa = input('digite a despesa da empresa: ')\n",
    "\n",
    "lucro = receita - despesa\n",
    "\n",
    "print(lucro)"
   ]
  },
  {
   "cell_type": "markdown",
   "metadata": {},
   "source": [
    "- Entendendo o erro: qual o tipo da variável que está armazenando o valor das receitas? E das despesas?"
   ]
  },
  {
   "cell_type": "code",
   "execution_count": 62,
   "metadata": {},
   "outputs": [
    {
     "name": "stdout",
     "output_type": "stream",
     "text": [
      "<class 'str'>\n",
      "<class 'str'>\n"
     ]
    }
   ],
   "source": [
    "tipo_receita = type(receita)\n",
    "tipo_despesa = type(despesa)\n",
    "\n",
    "print(tipo_receita)\n",
    "print(tipo_despesa)"
   ]
  },
  {
   "cell_type": "markdown",
   "metadata": {},
   "source": [
    "- Podemos transformar uma variável de um tipo em outro usando as seguintes funções:\n",
    "    - `int`: para inteiro\n",
    "    - `float`: para float/real\n",
    "    - `str`: para string/texto\n",
    "    - `bool`: para booleano"
   ]
  },
  {
   "cell_type": "code",
   "execution_count": 89,
   "metadata": {},
   "outputs": [
    {
     "name": "stdout",
     "output_type": "stream",
     "text": [
      "<class 'int'>\n",
      "57\n"
     ]
    }
   ],
   "source": [
    "variavel_x = '56'\n",
    "\n",
    "variavel_x = int(variavel_x)\n",
    "\n",
    "tipo = type(variavel_x)\n",
    "\n",
    "print(tipo)\n",
    "print(variavel_x + 1)"
   ]
  },
  {
   "cell_type": "code",
   "execution_count": 74,
   "metadata": {},
   "outputs": [
    {
     "name": "stdout",
     "output_type": "stream",
     "text": [
      "<class 'float'>\n",
      "56.5\n"
     ]
    }
   ],
   "source": [
    "variavel_x = '56.5'\n",
    "\n",
    "variavel_x = float(variavel_x)\n",
    "\n",
    "tipo = type(variavel_x)\n",
    "\n",
    "print(tipo)\n",
    "print(variavel_x)"
   ]
  },
  {
   "cell_type": "code",
   "execution_count": 78,
   "metadata": {},
   "outputs": [
    {
     "name": "stdout",
     "output_type": "stream",
     "text": [
      "<class 'str'>\n",
      "56.5\n"
     ]
    }
   ],
   "source": [
    "variavel_x = 56.5\n",
    "\n",
    "variavel_x = str(variavel_x)\n",
    "\n",
    "tipo = type(variavel_x)\n",
    "\n",
    "print(tipo)\n",
    "print(variavel_x)"
   ]
  },
  {
   "cell_type": "code",
   "execution_count": 87,
   "metadata": {},
   "outputs": [
    {
     "name": "stdout",
     "output_type": "stream",
     "text": [
      "<class 'bool'>\n",
      "False\n"
     ]
    }
   ],
   "source": [
    "variavel_x = 0.0\n",
    "\n",
    "variavel_x = bool(variavel_x)\n",
    "\n",
    "tipo = type(variavel_x)\n",
    "\n",
    "print(tipo)\n",
    "print(variavel_x)"
   ]
  },
  {
   "cell_type": "code",
   "execution_count": null,
   "metadata": {},
   "outputs": [],
   "source": []
  },
  {
   "cell_type": "markdown",
   "metadata": {},
   "source": [
    "- Corrigindo o exercício..."
   ]
  },
  {
   "cell_type": "code",
   "execution_count": 93,
   "metadata": {},
   "outputs": [
    {
     "name": "stdout",
     "output_type": "stream",
     "text": [
      "digite a receita da empresa: 21.0\n",
      "digite a despesa da empresa: 15\n",
      "6.0\n"
     ]
    }
   ],
   "source": [
    "receita = input('digite a receita da empresa: ')\n",
    "despesa = input('digite a despesa da empresa: ')\n",
    "\n",
    "receita = float(receita)\n",
    "despesa = float(despesa)\n",
    "\n",
    "lucro = receita - despesa\n",
    "\n",
    "print(lucro)"
   ]
  },
  {
   "cell_type": "markdown",
   "metadata": {},
   "source": [
    "# Comparadores"
   ]
  },
  {
   "cell_type": "markdown",
   "metadata": {},
   "source": [
    "- Maior que: `>`\n",
    "- Maior ou igual: `>=`\n",
    "- Menor que: `<`\n",
    "- Menor ou igual: `<=`\n",
    "- Igual: `==`\n",
    "- Diferente: `!=`"
   ]
  },
  {
   "cell_type": "code",
   "execution_count": 102,
   "metadata": {},
   "outputs": [
    {
     "name": "stdout",
     "output_type": "stream",
     "text": [
      "True\n"
     ]
    }
   ],
   "source": [
    "variavel_x = 56\n",
    "variavel_y = 56.01\n",
    "\n",
    "comparacao = variavel_x != variavel_y\n",
    "\n",
    "print(comparacao)"
   ]
  },
  {
   "cell_type": "markdown",
   "metadata": {},
   "source": [
    "- Observar que `=` é diferente de `==`."
   ]
  },
  {
   "cell_type": "code",
   "execution_count": null,
   "metadata": {},
   "outputs": [],
   "source": []
  },
  {
   "cell_type": "markdown",
   "metadata": {},
   "source": [
    "# Condicionais"
   ]
  },
  {
   "cell_type": "markdown",
   "metadata": {},
   "source": [
    "- O Python é executado de maneira sequencial, uma linha após a outra\n",
    "- E se não quisermos que uma determinada linha seja executada?\n",
    "\n",
    "```\n",
    "se condicao-verdadeira:\n",
    "    executa esse\n",
    "    bloco de\n",
    "    código\n",
    "    \n",
    "já esse bloco de \n",
    "código é executado \n",
    "independente da condicao \n",
    "ser verdadeira ou não\n",
    "```\n",
    "\n",
    "- O que é uma condição ser verdadeira?\n",
    "- Exemplo: se o atual preço de venda de uma ação que eu tenho é maior que o preço que eu comprei, vou vender minha ação"
   ]
  },
  {
   "cell_type": "code",
   "execution_count": 104,
   "metadata": {},
   "outputs": [
    {
     "name": "stdout",
     "output_type": "stream",
     "text": [
      "Qual o preço atual? 24\n"
     ]
    }
   ],
   "source": [
    "preco_compra = 25\n",
    "\n",
    "preco_atual = input('Qual o preço atual? ')\n",
    "preco_atual = float(preco_atual)\n",
    "\n",
    "comparacao = preco_compra < preco_atual\n",
    "\n",
    "if comparacao:\n",
    "    print('vender')"
   ]
  },
  {
   "cell_type": "markdown",
   "metadata": {},
   "source": [
    "- Também podemos construir operações de fluxo mais complexas com o \"se não\":\n",
    "\n",
    "```\n",
    "se condicao-verdadeira:\n",
    "    executa esse\n",
    "    bloco de código\n",
    "se não\n",
    "    executa esse último\n",
    "    bloco de código\n",
    "    \n",
    "já esse\n",
    "bloco de código é \n",
    "executado independente\n",
    "da condicao ser \n",
    "verdadeira ou não\n",
    "```\n",
    "\n",
    "- Exemplo: se não for maior, irei segurar minha ação."
   ]
  },
  {
   "cell_type": "code",
   "execution_count": 110,
   "metadata": {},
   "outputs": [
    {
     "name": "stdout",
     "output_type": "stream",
     "text": [
      "Qual o preço atual? 27\n",
      "vender\n",
      "fim do programa\n"
     ]
    }
   ],
   "source": [
    "preco_compra = 25\n",
    "\n",
    "preco_atual = input('Qual o preço atual? ')\n",
    "preco_atual = float(preco_atual)\n",
    "\n",
    "comparacao = preco_atual > preco_compra\n",
    "\n",
    "if comparacao:\n",
    "    print('vender')\n",
    "else:\n",
    "    print('manter')\n",
    "    \n",
    "print('fim do programa')"
   ]
  },
  {
   "cell_type": "markdown",
   "metadata": {},
   "source": [
    "- E mais ainda com o \"se não, se\":\n",
    "    \n",
    "```\n",
    "se condicao-verdadeira:\n",
    "    executa esse\n",
    "    bloco de código\n",
    "se não se condicao-verdadeira\n",
    "    executa esse outro\n",
    "    bloco de código\n",
    "se não\n",
    "    executa esse último\n",
    "    bloco de código\n",
    "    \n",
    "já esse\n",
    "bloco de código é \n",
    "executado independente\n",
    "da condicao ser \n",
    "verdadeira ou não\n",
    "```\n",
    "- Exemplo:\n",
    "    - Vender se: preço de venda for maior que o dobro do preço de compra\n",
    "    - Comprar mais se: preço de venda for maior que o preço de compra em até 2 x\n",
    "    - Segurar: preço de venda for menor que o preço de compra"
   ]
  },
  {
   "cell_type": "code",
   "execution_count": 115,
   "metadata": {},
   "outputs": [
    {
     "name": "stdout",
     "output_type": "stream",
     "text": [
      "Qual o preço atual? 11\n",
      "manter\n",
      "fim do programa\n"
     ]
    }
   ],
   "source": [
    "preco_compra = 25\n",
    "\n",
    "preco_atual = input('Qual o preço atual? ')\n",
    "preco_atual = float(preco_atual)\n",
    "\n",
    "comparacao_1 = preco_atual > 2*preco_compra\n",
    "comparacao_2 = preco_atual > preco_compra\n",
    "\n",
    "if comparacao_1:\n",
    "    print('vender')\n",
    "elif comparacao_2:\n",
    "    print('comprar mais')\n",
    "else:\n",
    "    print('manter')\n",
    "    \n",
    "print('fim do programa')"
   ]
  },
  {
   "cell_type": "markdown",
   "metadata": {},
   "source": [
    "# Exercício!"
   ]
  },
  {
   "cell_type": "markdown",
   "metadata": {},
   "source": [
    "- Crie um programa que pede o preço de duas ações e mostre a mais valiosa entre elas.\n",
    "\n"
   ]
  },
  {
   "cell_type": "code",
   "execution_count": 124,
   "metadata": {},
   "outputs": [
    {
     "name": "stdout",
     "output_type": "stream",
     "text": [
      "Digite o valor da primeira ação: 50\n",
      "Digite o valor da segunda ação: 50\n",
      "as duas ações tem o mesmo valor\n"
     ]
    }
   ],
   "source": [
    "acao_1 = input('Digite o valor da primeira ação: ')\n",
    "acao_2 = input('Digite o valor da segunda ação: ')\n",
    "\n",
    "acao_1 = float(acao_1)\n",
    "acao_2 = float(acao_2)\n",
    "\n",
    "if acao_1 > acao_2:\n",
    "    print('ação 1 é mais valiosa')\n",
    "elif acao_1 == acao_2:\n",
    "    print('as duas ações tem o mesmo valor')\n",
    "else:\n",
    "    print('ação 2 é mais valiosa')"
   ]
  },
  {
   "cell_type": "markdown",
   "metadata": {},
   "source": [
    "- Crie um programa que pede os valores anuais de despesas e receitas de uma determinada empresa, mostrando na tela se essa empresa fechou o ano com lucro ou prejuízo.\n",
    "\n"
   ]
  },
  {
   "cell_type": "code",
   "execution_count": 131,
   "metadata": {},
   "outputs": [
    {
     "name": "stdout",
     "output_type": "stream",
     "text": [
      "digite a receita: 25\n",
      "digite a despesa: 30\n",
      "prejuízo\n"
     ]
    }
   ],
   "source": [
    "receita = input('digite a receita: ')\n",
    "despesa = input('digite a despesa: ')\n",
    "\n",
    "receita = float(receita)\n",
    "despesa = float(despesa)\n",
    "\n",
    "if receita > despesa:\n",
    "    print('lucro')\n",
    "else:\n",
    "    print('prejuízo')"
   ]
  },
  {
   "cell_type": "markdown",
   "metadata": {},
   "source": [
    "- Crie um programa que pede os valores anuais de despesas e receitas de uma determinada empresa, mostrando uma das seguintes mensagens na tela:\n",
    "    - Caso o lucro seja referente a 50% ou mais das receitas: `superior ao esperado`;\n",
    "    - Caso o lucro seja menor que 50% das receitas, sem dar prejuízo: `dentro do esperado`;\n",
    "    - Caso não haja lucro: `inferior ao esperado`"
   ]
  },
  {
   "cell_type": "code",
   "execution_count": 134,
   "metadata": {},
   "outputs": [
    {
     "name": "stdout",
     "output_type": "stream",
     "text": [
      "digite a receita: 50\n",
      "digite a despesa: 55\n",
      "inferior ao esperado\n"
     ]
    }
   ],
   "source": [
    "receita = input('digite a receita: ')\n",
    "despesa = input('digite a despesa: ')\n",
    "\n",
    "receita = float(receita)\n",
    "despesa = float(despesa)\n",
    "\n",
    "lucro = receita - despesa\n",
    "\n",
    "if lucro > 0.5*receita:\n",
    "    print('superior ao esperado')\n",
    "elif lucro > 0:\n",
    "    print('dentro do esperado')\n",
    "else:\n",
    "    print('inferior ao esperado')"
   ]
  },
  {
   "cell_type": "markdown",
   "metadata": {},
   "source": [
    "- Escreva um programa que pede a nota de 3 provas de um determinado aluno, mostrando na tela umas das seguintes mensagens:\n",
    "    - `você está aprovado`, caso sua nota seja igual ou superior a 7;\n",
    "    - `você precisará fazer uma nova avaliação`, caso sua nota seja igual ou superior a 5 e inferior a 7;\n",
    "    - `você está reprovado`, caso sua nota seja inferior a 5;"
   ]
  },
  {
   "cell_type": "code",
   "execution_count": 139,
   "metadata": {},
   "outputs": [
    {
     "name": "stdout",
     "output_type": "stream",
     "text": [
      "digite a primeira nota: 5\n",
      "digite a segunda nota: 5\n",
      "digite a terceira nota: 5\n",
      "você precisará fazer uma nova avaliação\n"
     ]
    }
   ],
   "source": [
    "nota_1 = input('digite a primeira nota: ')\n",
    "nota_2 = input('digite a segunda nota: ')\n",
    "nota_3 = input('digite a terceira nota: ')\n",
    "\n",
    "nota_1 = float(nota_1)\n",
    "nota_2 = float(nota_2)\n",
    "nota_3 = float(nota_3)\n",
    "\n",
    "media = (nota_1 + nota_2 + nota_3)/3\n",
    "\n",
    "if media >= 7:\n",
    "    print('aprovado')\n",
    "elif media >= 5:\n",
    "    print('você precisará fazer uma nova avaliação')\n",
    "else:\n",
    "    print('você está reprovado')"
   ]
  },
  {
   "cell_type": "markdown",
   "metadata": {},
   "source": [
    "# Operadores Lógicos"
   ]
  },
  {
   "cell_type": "markdown",
   "metadata": {},
   "source": [
    "## and\n",
    "- Preciso de um bom computador. Mas não posso gastar muito dinheiro. Então vou:\n",
    "> Comprar um computador que seja bom E seja barato.\n",
    "\n",
    "*****\n",
    "\n",
    "| Bom | Barato | Compro? |\n",
    "| --- | ------ | ------- |\n",
    "| Não | Não    | Não     |\n",
    "| Não | Sim    | Não     |\n",
    "| Sim | Não    | Não     |\n",
    "| Sim | Sim    | Sim     |\n",
    "\n",
    "*****\n",
    "\n",
    "| X1 | X2 | Y |\n",
    "| -- | -- | - |\n",
    "| 0  | 0  | 0 |\n",
    "| 0  | 1  | 0 |\n",
    "| 1  | 0  | 0 |\n",
    "| 1  | 1  | 1 |"
   ]
  },
  {
   "cell_type": "code",
   "execution_count": 144,
   "metadata": {},
   "outputs": [
    {
     "name": "stdout",
     "output_type": "stream",
     "text": [
      "True\n"
     ]
    }
   ],
   "source": [
    "bom = True\n",
    "barato = True\n",
    "\n",
    "resultado = bom and barato\n",
    "\n",
    "print(resultado)"
   ]
  },
  {
   "cell_type": "markdown",
   "metadata": {},
   "source": [
    "## or\n",
    "\n",
    "- Gosto de comer. Sempre janto quando estou com fome. Mas também janto quando mainha preparar aquela macaxeira com carne de sol. \n",
    "\n",
    "> Janto quando estou com fome OU mainha preparou comida gostosa. \n",
    "\n",
    "---\n",
    "\n",
    "| Fome | Macaxeira com carne de sol | Janto? |\n",
    "| ---  | -------------------------- | ------ |\n",
    "| Não  | Não                        | Não    |\n",
    "| Não  | Sim                        | Sim    |\n",
    "| Sim  | Não                        | Sim    |\n",
    "| Sim  | Sim                        | Sim    |\n",
    "\n",
    "---\n",
    "\n",
    "| X1 | X2 | Y |\n",
    "| -- | -- | - |\n",
    "| 0  | 0  | 0 |\n",
    "| 0  | 1  | 1 |\n",
    "| 1  | 0  | 1 |\n",
    "| 1  | 1  | 1 |\n",
    "\n",
    "---"
   ]
  },
  {
   "cell_type": "code",
   "execution_count": 149,
   "metadata": {},
   "outputs": [
    {
     "name": "stdout",
     "output_type": "stream",
     "text": [
      "False\n"
     ]
    }
   ],
   "source": [
    "fome = False\n",
    "macaxeira = False\n",
    "\n",
    "resultado = fome or macaxeira\n",
    "\n",
    "print(resultado)"
   ]
  },
  {
   "cell_type": "markdown",
   "metadata": {},
   "source": [
    "## not\n",
    "\n",
    "- Do contra, inverte a saída.\n",
    "\n",
    "---\n",
    "\n",
    "| X | Y |\n",
    "| - | - |\n",
    "| 0 | 1 |\n",
    "| 1 | 0 |\n"
   ]
  },
  {
   "cell_type": "code",
   "execution_count": 151,
   "metadata": {},
   "outputs": [
    {
     "name": "stdout",
     "output_type": "stream",
     "text": [
      "True\n"
     ]
    }
   ],
   "source": [
    "variavel = False\n",
    "\n",
    "resultado = not variavel\n",
    "\n",
    "print(resultado)"
   ]
  },
  {
   "cell_type": "markdown",
   "metadata": {},
   "source": [
    "# Exercício!"
   ]
  },
  {
   "cell_type": "markdown",
   "metadata": {},
   "source": [
    "- Crie um programa que pede informações sobre funcionários (salário, há quantos anos trabalha na empresa e sexo), validando-as de acordo com as seguintes regras:\n",
    "    - Salário: maior que 0;\n",
    "    - Anos de empresa: entre 0 e 10;\n",
    "    - Sexo: M, F ou OUTRO;"
   ]
  },
  {
   "cell_type": "code",
   "execution_count": 166,
   "metadata": {},
   "outputs": [
    {
     "name": "stdout",
     "output_type": "stream",
     "text": [
      "Digite o salário: 500\n",
      "Digite há quantos anos o funcionário trabalha na empresa: 5\n",
      "Digite o sexo: Outro\n",
      "salário válido\n",
      "anos válido\n",
      "sexo inválido\n"
     ]
    }
   ],
   "source": [
    "salario = input('Digite o salário: ')\n",
    "anos = input('Digite há quantos anos o funcionário trabalha na empresa: ')\n",
    "sexo = input('Digite o sexo: ')\n",
    "\n",
    "salario = float(salario)\n",
    "anos = int(anos)\n",
    "\n",
    "if salario > 0:\n",
    "    print('salário válido')\n",
    "else:\n",
    "    print('salário inválido')\n",
    "    \n",
    "    \n",
    "if anos >= 0 and anos <= 10:\n",
    "    print('anos válido')\n",
    "else:\n",
    "    print('anos inválido')\n",
    "    \n",
    "if sexo == 'M' or sexo == 'F' or sexo == 'OUTRO' or sexo == 'm' or sexo == 'f' or sexo == 'outro':\n",
    "    print('sexo válido')\n",
    "else:\n",
    "    print('sexo inválido')\n",
    "    \n",
    "    \n"
   ]
  }
 ],
 "metadata": {
  "kernelspec": {
   "display_name": "Python 3",
   "language": "python",
   "name": "python3"
  },
  "language_info": {
   "codemirror_mode": {
    "name": "ipython",
    "version": 3
   },
   "file_extension": ".py",
   "mimetype": "text/x-python",
   "name": "python",
   "nbconvert_exporter": "python",
   "pygments_lexer": "ipython3",
   "version": "3.6.6"
  }
 },
 "nbformat": 4,
 "nbformat_minor": 4
}
