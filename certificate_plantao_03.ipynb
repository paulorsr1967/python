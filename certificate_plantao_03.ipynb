{
 "cells": [
  {
   "cell_type": "markdown",
   "id": "8b2805f1",
   "metadata": {},
   "source": [
    "# Plantão de Dúvidas "
   ]
  },
  {
   "cell_type": "markdown",
   "id": "ff2097b9",
   "metadata": {},
   "source": [
    "Link do Discord: `https://discord.gg/fCV6VDNK`"
   ]
  },
  {
   "cell_type": "markdown",
   "id": "0cfe6030",
   "metadata": {},
   "source": [
    "Faça um programa que fique pedindo uma resposta do usuário, entre 1, 2 e 3. Se o usuário digitar 1, \n",
    "o programa deve cadastrar um novo usuário nos moldes do exercício 10 e guardar esse cadastro num \n",
    "dicionário cuja chave será o CPF da pessoa. Quando o usuário digitar 2, o programa deve imprimir os \n",
    "usuários cadastrados; e se o usuário digitar 3, o programa deve fechar.\n",
    "\n",
    "Exemplo do dicionário:\n",
    "```\n",
    "‘987.654.321-00’: {\n",
    "    'nome': 'Maria', \n",
    "    'idade': 20, \n",
    "    'email': 'maria@mail.com'\n",
    "}\n",
    "```"
   ]
  },
  {
   "cell_type": "code",
   "execution_count": 13,
   "id": "534b142e",
   "metadata": {},
   "outputs": [
    {
     "name": "stdout",
     "output_type": "stream",
     "text": [
      "digite sua opcao: 1\n",
      "bem vindo\n",
      "digite nome: rychard\n",
      "digite idade: 27\n",
      "digite email: rychard@letscode\n",
      "digite cpf: 123123\n",
      "digite sua opcao: 1\n",
      "bem vindo\n",
      "digite nome: andre\n",
      "digite idade: 40\n",
      "digite email: andre@letscode\n",
      "digite cpf: 9090\n",
      "digite sua opcao: 2\n",
      "bem vindo\n",
      "{'123123': {'nome': 'rychard', 'idade': 27, 'email': 'rychard@letscode'}, '9090': {'nome': 'andre', 'idade': 40, 'email': 'andre@letscode'}}\n",
      "digite sua opcao: 1\n",
      "bem vindo\n",
      "digite nome: joao\n",
      "digite idade: 35\n",
      "digite email: joao@letscode\n",
      "digite cpf: 9090\n",
      "digite sua opcao: 2\n",
      "bem vindo\n",
      "{'123123': {'nome': 'rychard', 'idade': 27, 'email': 'rychard@letscode'}, '9090': {'nome': 'joao', 'idade': 35, 'email': 'joao@letscode'}}\n",
      "digite sua opcao: 3\n"
     ]
    }
   ],
   "source": [
    "opcao = int(input('digite sua opcao: '))\n",
    "\n",
    "cadastro_total = {}\n",
    "\n",
    "while opcao != 3:\n",
    "\n",
    "    print('bem vindo')\n",
    "    \n",
    "    if opcao == 1:\n",
    "        nome = input('digite nome: ')\n",
    "        idade = int(input('digite idade: '))\n",
    "        email = input('digite email: ')\n",
    "        cpf = input('digite cpf: ')\n",
    "\n",
    "        cadastro_temp = {\n",
    "            'nome': nome,\n",
    "            'idade': idade,\n",
    "            'email': email\n",
    "        }\n",
    "\n",
    "        cadastro_total[cpf] = cadastro_temp\n",
    "        \n",
    "    elif opcao == 2:\n",
    "        print(cadastro_total)\n",
    "\n",
    "    else:\n",
    "        print('opção inválida')\n",
    "        \n",
    "    opcao = int(input('digite sua opcao: '))"
   ]
  },
  {
   "cell_type": "code",
   "execution_count": 9,
   "id": "41247a67",
   "metadata": {},
   "outputs": [
    {
     "data": {
      "text/plain": [
       "'rychard@letscode'"
      ]
     },
     "execution_count": 9,
     "metadata": {},
     "output_type": "execute_result"
    }
   ],
   "source": [
    "cadastro_total['123123']['email']"
   ]
  },
  {
   "cell_type": "code",
   "execution_count": null,
   "id": "4a410635",
   "metadata": {},
   "outputs": [],
   "source": []
  },
  {
   "cell_type": "markdown",
   "id": "6c9b61b5",
   "metadata": {},
   "source": [
    "Faça uma função que receba uma string e uma letra e:\n",
    "\n",
    "- imprima quantas vezes a letra aparece na string;\n",
    "- imprima todas as posições em que a letra aparece na string;\n",
    "- retorne a distância entre a primeira e a última aparição dessa letra na string."
   ]
  },
  {
   "cell_type": "code",
   "execution_count": 28,
   "id": "a55f4a7e",
   "metadata": {},
   "outputs": [
    {
     "name": "stdout",
     "output_type": "stream",
     "text": [
      "1\n",
      "3\n",
      "6\n",
      "8\n",
      "quantidade de vezes que a aparece: 4\n",
      "distancia entre primeira e ultima aparicao de a: 7\n"
     ]
    }
   ],
   "source": [
    "def manipulacao_string(texto, letra_procurada):\n",
    "    \n",
    "    qtd = 0\n",
    "    lista_posicoes = []\n",
    "    \n",
    "    for posicao, letra in enumerate(texto):\n",
    "        \n",
    "        if letra == letra_procurada:\n",
    "            qtd += 1\n",
    "            lista_posicoes.append(posicao)\n",
    "            print(posicao)\n",
    "                   \n",
    "    print(f'quantidade de vezes que {letra_procurada} aparece: {qtd}')\n",
    "    \n",
    "    if len(lista_posicoes) > 0:\n",
    "        primeira_aparicao = lista_posicoes[0]\n",
    "        ultima_aparicao = lista_posicoes[-1]\n",
    "        distancia = ultima_aparicao - primeira_aparicao\n",
    "        \n",
    "    else:\n",
    "        distancia = -1\n",
    "        \n",
    "    print(f'distancia entre primeira e ultima aparicao de {letra_procurada}: {distancia}')\n",
    "    \n",
    "manipulacao_string('jabaquara', 'a')"
   ]
  },
  {
   "cell_type": "markdown",
   "id": "95cc8aa2",
   "metadata": {},
   "source": [
    "Faça um programa que, dadas duas listas de mesmo tamanho, crie uma nova lista com cada elemento igual a soma dos elementos da lista 1 com a lista 2, na mesma posição."
   ]
  },
  {
   "cell_type": "code",
   "execution_count": null,
   "id": "c2643353",
   "metadata": {},
   "outputs": [],
   "source": []
  },
  {
   "cell_type": "markdown",
   "id": "432c687e",
   "metadata": {},
   "source": [
    "Uma empresa de 500 funcionários está tendo problemas de espaço em disco no seu servidor de arquivos. Para tentar resolver este problema, o Administrador de Rede precisa saber qual o espaço ocupado pelos usuários, e identificar os usuários com maior espaço ocupado. Através de um programa, baixado da Internet, ele conseguiu gerar o seguinte arquivo, chamado \"usuarios.txt\":\n",
    "\n",
    "```\n",
    "alexandre      456123789\n",
    "anderson       1245698456\n",
    "antonio        123456456\n",
    "carlos         91257581\n",
    "cesar          987458\n",
    "rosemary       789456125\n",
    "```\n",
    "\n",
    "Neste arquivo, o nome do usuário possui 15 caracteres. A partir deste arquivo, você deve criar um programa que gere um relatório, chamado \"relatório.txt\", no seguinte formato:\n",
    "\n",
    "\n",
    "```\n",
    "Uso do espaço em disco pelos usuários\n",
    "-------------------------------------------------\n",
    "Nr.  Usuário        Espaço utilizado    % do uso\n",
    "\n",
    "1    alexandre      434,99 MB           16,85%\n",
    "2    anderson       1187,99 MB          46,02%\n",
    "3    antonio        117,73 MB           4,56%\n",
    "4    carlos         87,03 MB            3,37%\n",
    "5    cesar          0,94 MB             0,04%\n",
    "6    rosemary       752,88 MB           29,16%\n",
    "\n",
    "Espaço total ocupado: 2581,57 MB\n",
    "Espaço médio ocupado: 430,26 MB\n",
    "```\n",
    "\n",
    "O arquivo de entrada deve ser lido uma única vez, e os dados armazenados em memória, caso sejam necessários, de forma a agilizar a execução do programa. A conversão da espaço ocupado em disco, de bytes para megabytes deverá ser feita através de uma função separada, que será chamada pelo programa principal. O cálculo do percentual de uso também deverá ser feito através de uma função, que será chamada pelo programa principal."
   ]
  },
  {
   "cell_type": "code",
   "execution_count": null,
   "id": "8d77cb52",
   "metadata": {},
   "outputs": [],
   "source": []
  },
  {
   "cell_type": "markdown",
   "id": "9cc37ad1",
   "metadata": {},
   "source": [
    "Faça um programa que leia um arquivo texto contendo uma lista de endereços IP e gere um outro arquivo, contendo um relatório dos endereços IP válidos e inválidos.\n",
    "O arquivo de entrada possui o seguinte formato:\n",
    "\n",
    "```\n",
    "200.135.80.9\n",
    "192.168.1.1\n",
    "8.35.67.74\n",
    "257.32.4.5\n",
    "85.345.1.2\n",
    "1.2.3.4\n",
    "9.8.234.5\n",
    "192.168.0.256\n",
    "```\n",
    "\n",
    "O arquivo de saída possui o seguinte formato:\n",
    "\n",
    "```\n",
    "[Endereços válidos:]\n",
    "200.135.80.9\n",
    "192.168.1.1\n",
    "8.35.67.74\n",
    "9.8.234.5\n",
    "1.2.3.4\n",
    "\n",
    "[Endereços inválidos:]\n",
    "257.32.4.5\n",
    "85.345.1.2\n",
    "192.168.0.256\n",
    "```"
   ]
  },
  {
   "cell_type": "code",
   "execution_count": null,
   "id": "7999f5b5",
   "metadata": {},
   "outputs": [],
   "source": []
  },
  {
   "cell_type": "markdown",
   "id": "1b11d873",
   "metadata": {},
   "source": [
    "Faça uma função que receba uma lista e conte quantas vezes cada elemento apareceu nessa lista. Essa função deverá guardar os dados em um dicionário no qual as chaves são os elementos da lista e os valores são a contagem de quantas vezes esse elemento aparece."
   ]
  },
  {
   "cell_type": "code",
   "execution_count": null,
   "id": "12636a1b",
   "metadata": {},
   "outputs": [],
   "source": []
  }
 ],
 "metadata": {
  "kernelspec": {
   "display_name": "Python 3",
   "language": "python",
   "name": "python3"
  },
  "language_info": {
   "codemirror_mode": {
    "name": "ipython",
    "version": 3
   },
   "file_extension": ".py",
   "mimetype": "text/x-python",
   "name": "python",
   "nbconvert_exporter": "python",
   "pygments_lexer": "ipython3",
   "version": "3.9.5"
  }
 },
 "nbformat": 4,
 "nbformat_minor": 5
}
