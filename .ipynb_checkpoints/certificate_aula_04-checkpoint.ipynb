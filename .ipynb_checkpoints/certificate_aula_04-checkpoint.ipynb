{
 "cells": [
  {
   "cell_type": "markdown",
   "id": "4956e1b4",
   "metadata": {},
   "source": [
    "# Na aula anterior..."
   ]
  },
  {
   "cell_type": "markdown",
   "id": "d82be940",
   "metadata": {},
   "source": [
    "- **Listas**: faça um programa que peça para o usuário digitar o nome e a idade de um aluno e o número de provas que esse aluno fez. Depois, o programa deve pedir para o usuário digitar as notas de cada prova do aluno. Ao final o programa deve imprimir uma lista contendo:\n",
    "    - Nome do aluno na posição 0;\n",
    "    - Idade do aluno na posição 1;\n",
    "    - Uma lista com todas as notas na posição 2;\n",
    "    - A média do aluno na posição 3;\n",
    "    - True ou False, caso a média seja maior que 5 ou não, na posição 4."
   ]
  },
  {
   "cell_type": "code",
   "execution_count": 5,
   "id": "6e379ee4",
   "metadata": {},
   "outputs": [
    {
     "name": "stdout",
     "output_type": "stream",
     "text": [
      "Digite o nome do aluno: rychard\n",
      "Digite a idade do aluno: 27\n",
      "Digite a quantidade de provas realizadas: 3\n",
      "Digite a nota do aluno7\n",
      "Digite a nota do aluno8\n",
      "Digite a nota do aluno8\n",
      "['rychard', 27, [7.0, 8.0, 8.0], 7.666666666666667, True]\n"
     ]
    }
   ],
   "source": [
    "lista_informacoes = []\n",
    "\n",
    "nome = input('Digite o nome do aluno: ')\n",
    "idade = int(input('Digite a idade do aluno: '))\n",
    "qtd_provas = int(input('Digite a quantidade de provas realizadas: '))\n",
    "\n",
    "lista_notas = []\n",
    "\n",
    "for i in range(qtd_provas):\n",
    "    nota = float(input('Digite a nota do aluno'))\n",
    "    lista_notas.append(nota)\n",
    "    \n",
    "media = sum(lista_notas)/len(lista_notas)    \n",
    "maior_que_5 = media >= 5\n",
    "\n",
    "lista_informacoes.append(nome)\n",
    "lista_informacoes.append(idade)\n",
    "lista_informacoes.append(lista_notas)\n",
    "lista_informacoes.append(media)\n",
    "lista_informacoes.append(maior_que_5)\n",
    "\n",
    "print(lista_informacoes)"
   ]
  },
  {
   "cell_type": "markdown",
   "id": "ec5d38f1",
   "metadata": {},
   "source": [
    "- **Strings**: faça uma função que criptografa uma mensagem substituindo cada letra pela letra oposta do dicionário:\n",
    "    - 'a' por 'z'\n",
    "    - 'b' por 'y'\n",
    "    - 'c' por 'x'"
   ]
  },
  {
   "cell_type": "code",
   "execution_count": 19,
   "id": "8e13fd53",
   "metadata": {},
   "outputs": [],
   "source": [
    "alfabeto_ordenado = ['a', 'b', 'c', 'd', 'e', 'f', 'g', 'h', 'i', 'j', \n",
    "                     'k', 'l', 'm', 'n', 'o', 'p', 'q', 'r', 's', 't', \n",
    "                     'u', 'v', 'w', 'x', 'y', 'z']\n",
    "\n",
    "alfabeto_invertido = ['a', 'b', 'c', 'd', 'e', 'f', 'g', 'h', 'i', 'j', \n",
    "                      'k', 'l', 'm', 'n', 'o', 'p', 'q', 'r', 's', 't', \n",
    "                      'u', 'v', 'w', 'x', 'y', 'z']\n",
    "\n",
    "alfabeto_invertido.reverse()"
   ]
  },
  {
   "cell_type": "code",
   "execution_count": 34,
   "id": "8c54535e",
   "metadata": {},
   "outputs": [],
   "source": [
    "alfabeto_ordenado = ''.join(alfabeto_ordenado)\n",
    "alfabeto_invertido = ''.join(alfabeto_invertido)"
   ]
  },
  {
   "cell_type": "code",
   "execution_count": 37,
   "id": "c6a81107",
   "metadata": {},
   "outputs": [
    {
     "name": "stdout",
     "output_type": "stream",
     "text": [
      "zyxwv\n"
     ]
    }
   ],
   "source": [
    "texto_original = 'abcde'\n",
    "texto_invertido = []\n",
    "\n",
    "for letra in texto_original:\n",
    "    posicao = alfabeto_ordenado.find(letra)\n",
    "    letra_invertida = alfabeto_invertido[posicao]\n",
    "    texto_invertido.append(letra_invertida)\n",
    "    \n",
    "print(''.join(texto_invertido))"
   ]
  },
  {
   "cell_type": "markdown",
   "id": "40435d83",
   "metadata": {},
   "source": [
    "# Hoje!"
   ]
  },
  {
   "cell_type": "markdown",
   "id": "bbcc9f10",
   "metadata": {},
   "source": [
    "## Funções"
   ]
  },
  {
   "cell_type": "markdown",
   "id": "66550832",
   "metadata": {},
   "source": [
    "- O que é n%2 == 0 mesmo? Tem alguma forma mais bonita de escrever isso?\n",
    "    - numero_par(n) -> True se n for par\n",
    "    - numero_par(n) -> False se n for ímpar"
   ]
  },
  {
   "cell_type": "raw",
   "id": "3872518c",
   "metadata": {},
   "source": [
    "n = 5\n",
    "\n",
    "print(n%2 == 0) => print(numero_par(n))"
   ]
  },
  {
   "cell_type": "code",
   "execution_count": 39,
   "id": "660afed9",
   "metadata": {},
   "outputs": [],
   "source": [
    "def numero_par(n):\n",
    "    if n%2 == 0:\n",
    "        print('par')\n",
    "    else:\n",
    "        print('ímpar')"
   ]
  },
  {
   "cell_type": "code",
   "execution_count": 40,
   "id": "75623df8",
   "metadata": {},
   "outputs": [
    {
     "name": "stdout",
     "output_type": "stream",
     "text": [
      "ímpar\n"
     ]
    }
   ],
   "source": [
    "numero_par(5)"
   ]
  },
  {
   "cell_type": "code",
   "execution_count": 41,
   "id": "7862c506",
   "metadata": {},
   "outputs": [
    {
     "name": "stdout",
     "output_type": "stream",
     "text": [
      "par\n"
     ]
    }
   ],
   "source": [
    "numero_par(6)"
   ]
  },
  {
   "cell_type": "markdown",
   "id": "3bc9fbeb",
   "metadata": {},
   "source": [
    "**Para exercitar:** Podemos fazer uma função que calcule o fatorial de um número?"
   ]
  },
  {
   "cell_type": "raw",
   "id": "b68bc237",
   "metadata": {},
   "source": [
    "5! = 5*4*3*2*1\n",
    "9! = 9*8*7*6*5*4*3*2*1"
   ]
  },
  {
   "cell_type": "code",
   "execution_count": 43,
   "id": "0f70db61",
   "metadata": {},
   "outputs": [
    {
     "name": "stdout",
     "output_type": "stream",
     "text": [
      "120\n"
     ]
    }
   ],
   "source": [
    "n = 5\n",
    "\n",
    "resultado = 1\n",
    "\n",
    "while n >= 1:\n",
    "    \n",
    "    resultado = resultado*n\n",
    "    \n",
    "    n = n - 1\n",
    "    \n",
    "print(resultado)\n",
    "    "
   ]
  },
  {
   "cell_type": "code",
   "execution_count": 44,
   "id": "114bc16f",
   "metadata": {},
   "outputs": [
    {
     "name": "stdout",
     "output_type": "stream",
     "text": [
      "362880\n"
     ]
    }
   ],
   "source": [
    "n = 9\n",
    "\n",
    "resultado = 1\n",
    "\n",
    "while n >= 1:\n",
    "    \n",
    "    resultado = resultado*n\n",
    "    \n",
    "    n = n - 1\n",
    "    \n",
    "print(resultado)"
   ]
  },
  {
   "cell_type": "code",
   "execution_count": 49,
   "id": "518aa10a",
   "metadata": {},
   "outputs": [],
   "source": [
    "def fatorial(numero):\n",
    "    \n",
    "    resultado = 1\n",
    "\n",
    "    while numero >= 1:\n",
    "\n",
    "        resultado = resultado*numero\n",
    "\n",
    "        numero = numero - 1\n",
    "\n",
    "    print(resultado)"
   ]
  },
  {
   "cell_type": "code",
   "execution_count": 52,
   "id": "9c9e0f25",
   "metadata": {},
   "outputs": [
    {
     "name": "stdout",
     "output_type": "stream",
     "text": [
      "6\n"
     ]
    }
   ],
   "source": [
    "fatorial(3)"
   ]
  },
  {
   "cell_type": "code",
   "execution_count": 53,
   "id": "1617b767",
   "metadata": {},
   "outputs": [
    {
     "name": "stdout",
     "output_type": "stream",
     "text": [
      "720\n"
     ]
    }
   ],
   "source": [
    "fatorial(6)"
   ]
  },
  {
   "cell_type": "code",
   "execution_count": 54,
   "id": "db21b8e1",
   "metadata": {},
   "outputs": [
    {
     "name": "stdout",
     "output_type": "stream",
     "text": [
      "362880\n"
     ]
    }
   ],
   "source": [
    "fatorial(9)"
   ]
  },
  {
   "cell_type": "markdown",
   "id": "1c5f5443",
   "metadata": {},
   "source": [
    "- Se ao invés de eu simplesmente ver se o número é par (ou seja, se um número x é divisível por 2), eu queira ver se um número x é divisível por um número y?"
   ]
  },
  {
   "cell_type": "code",
   "execution_count": 67,
   "id": "2ba1644b",
   "metadata": {},
   "outputs": [],
   "source": [
    "def divisivel(x, y):\n",
    "    if x % y == 0:\n",
    "        print('divisível')\n",
    "    else:\n",
    "        print('não divisível')"
   ]
  },
  {
   "cell_type": "code",
   "execution_count": 68,
   "id": "47bcaf77",
   "metadata": {},
   "outputs": [
    {
     "name": "stdout",
     "output_type": "stream",
     "text": [
      "divisível\n"
     ]
    }
   ],
   "source": [
    "divisivel(6, 3)"
   ]
  },
  {
   "cell_type": "code",
   "execution_count": 69,
   "id": "429ed55f",
   "metadata": {},
   "outputs": [
    {
     "name": "stdout",
     "output_type": "stream",
     "text": [
      "não divisível\n"
     ]
    }
   ],
   "source": [
    "divisivel(3, 6)"
   ]
  },
  {
   "cell_type": "code",
   "execution_count": 63,
   "id": "13f14cfd",
   "metadata": {},
   "outputs": [],
   "source": [
    "def saudacao():\n",
    "    print('bom dia')"
   ]
  },
  {
   "cell_type": "code",
   "execution_count": 64,
   "id": "90d8ae3b",
   "metadata": {},
   "outputs": [
    {
     "name": "stdout",
     "output_type": "stream",
     "text": [
      "bom dia\n"
     ]
    }
   ],
   "source": [
    "saudacao()"
   ]
  },
  {
   "cell_type": "code",
   "execution_count": 65,
   "id": "20e55221",
   "metadata": {},
   "outputs": [],
   "source": [
    "def saudacao_nomeada(nome):\n",
    "    print('bom dia', nome)"
   ]
  },
  {
   "cell_type": "code",
   "execution_count": 66,
   "id": "963ba008",
   "metadata": {},
   "outputs": [
    {
     "name": "stdout",
     "output_type": "stream",
     "text": [
      "bom dia rychard\n"
     ]
    }
   ],
   "source": [
    "saudacao_nomeada('rychard')"
   ]
  },
  {
   "cell_type": "markdown",
   "id": "29c83fbd",
   "metadata": {},
   "source": [
    "**Para exercitar:** Faça uma função que imita o Flasheldon e recebe dois parâmetros, sendo o primeiro uma palavra p e o segundo um número n. Sua função deve mostrar na tela a palavra p n vezes. Teste sua função chamando:\n",
    "\n",
    "```\n",
    "flasheldon('penny!', 3)\n",
    "```\n",
    "\n",
    "<img src=\"https://i.pinimg.com/originals/82/c3/30/82c330ac6fd7ebe793f2444595be600b.gif\" width = 25% />"
   ]
  },
  {
   "cell_type": "code",
   "execution_count": 70,
   "id": "a5321903",
   "metadata": {},
   "outputs": [],
   "source": [
    "def flasheldon(p, n):\n",
    "    for i in range(n):\n",
    "        print(p)"
   ]
  },
  {
   "cell_type": "code",
   "execution_count": 72,
   "id": "24fd09f3",
   "metadata": {},
   "outputs": [
    {
     "name": "stdout",
     "output_type": "stream",
     "text": [
      "penny!\n",
      "penny!\n",
      "penny!\n",
      "penny!\n",
      "penny!\n",
      "penny!\n",
      "penny!\n",
      "penny!\n"
     ]
    }
   ],
   "source": [
    "flasheldon('penny!', 8)"
   ]
  },
  {
   "cell_type": "markdown",
   "id": "6e926034",
   "metadata": {},
   "source": [
    "- E se eu quiser que meu programa use a informação de alguma maneira, não apenas exibir? Como fazer?"
   ]
  },
  {
   "cell_type": "code",
   "execution_count": 85,
   "id": "0d8db037",
   "metadata": {},
   "outputs": [],
   "source": [
    "def divisivel(x, y):\n",
    "    \n",
    "    if x % y == 0:\n",
    "        div = True\n",
    "    else:\n",
    "        div = False\n",
    "        \n",
    "    return div"
   ]
  },
  {
   "cell_type": "code",
   "execution_count": 86,
   "id": "6a332e74",
   "metadata": {},
   "outputs": [
    {
     "name": "stdout",
     "output_type": "stream",
     "text": [
      "True\n"
     ]
    }
   ],
   "source": [
    "variavel = divisivel(4, 2)\n",
    "print(variavel)"
   ]
  },
  {
   "cell_type": "markdown",
   "id": "59af6c41",
   "metadata": {},
   "source": [
    "**Para exercitar:** Crie um código que verifica se um determinado passageiro de um ônibus estará sentado no corredor ou não. A numeração das cadeiras segue o seguinte esquema: \n",
    "\n",
    "```\n",
    "1 2    7  8\n",
    "3 4    9 10\n",
    "5 6   11 12\n",
    "```\n",
    "Ou seja, se o número da cadeira for menor que 7 e for par, então a pessoa está no corredor; caso seja maior ou igual a 7 e seja ímpar, a pessoas está no corredor; outra situação, a pessoas está na janela. Para isso, crie uma funçãi que determina se a cadeira é par ou não e use essa função criada nas suas condições."
   ]
  },
  {
   "cell_type": "code",
   "execution_count": 87,
   "id": "47db4288",
   "metadata": {},
   "outputs": [],
   "source": [
    "def numero_par(x):\n",
    "    if x % 2 == 0:\n",
    "        return 'par'\n",
    "    else:\n",
    "        return 'impar'"
   ]
  },
  {
   "cell_type": "code",
   "execution_count": 95,
   "id": "150273a3",
   "metadata": {},
   "outputs": [
    {
     "name": "stdout",
     "output_type": "stream",
     "text": [
      "digite a cadeira12\n",
      "pessoa na janela\n"
     ]
    }
   ],
   "source": [
    "cadeira = int(input('digite a cadeira'))\n",
    "\n",
    "if cadeira < 7 and numero_par(cadeira) == 'par':\n",
    "    print('pessoa no corredor')\n",
    "elif cadeira >= 7 and numero_par(cadeira) == 'impar':\n",
    "    print('pessoa no corredor')\n",
    "else:\n",
    "    print('pessoa na janela')"
   ]
  },
  {
   "cell_type": "markdown",
   "id": "1271946d",
   "metadata": {},
   "source": [
    "**Para exercitar:** Englobe toda a questão anterior em uma função apenas que recebe um número e *mostra* na tela se a pessoa está na janela ou corredor. Perceba que você pode usar função dentro de função."
   ]
  },
  {
   "cell_type": "code",
   "execution_count": 96,
   "id": "7825b016",
   "metadata": {},
   "outputs": [],
   "source": [
    "def cadeira_ou_corredor(cadeira):\n",
    "    \n",
    "    if cadeira < 7 and numero_par(cadeira) == 'par':\n",
    "        print('pessoa no corredor')\n",
    "    elif cadeira >= 7 and numero_par(cadeira) == 'impar':\n",
    "        print('pessoa no corredor')\n",
    "    else:\n",
    "        print('pessoa na janela')"
   ]
  },
  {
   "cell_type": "code",
   "execution_count": 97,
   "id": "a9ef64ad",
   "metadata": {},
   "outputs": [
    {
     "name": "stdout",
     "output_type": "stream",
     "text": [
      "pessoa no corredor\n"
     ]
    }
   ],
   "source": [
    "cadeira_ou_corredor(9)"
   ]
  },
  {
   "cell_type": "code",
   "execution_count": 98,
   "id": "38306e0f",
   "metadata": {},
   "outputs": [
    {
     "name": "stdout",
     "output_type": "stream",
     "text": [
      "pessoa na janela\n"
     ]
    }
   ],
   "source": [
    "cadeira_ou_corredor(5)"
   ]
  },
  {
   "cell_type": "code",
   "execution_count": 99,
   "id": "5eee7442",
   "metadata": {},
   "outputs": [
    {
     "name": "stdout",
     "output_type": "stream",
     "text": [
      "pessoa no corredor\n"
     ]
    }
   ],
   "source": [
    "cadeira_ou_corredor(4)"
   ]
  },
  {
   "cell_type": "markdown",
   "id": "826285d6",
   "metadata": {},
   "source": [
    "**Para exercitar**: crie uma função que implementa a fórmula de juros compostos e *retorne* quanto uma pessoa terá de retorno caso realize um investimento.\n",
    "\n",
    "$$F = I (1 + j)^t$$\n",
    "\n",
    "- F = Montante final;\n",
    "- I = Montante inicial (depositado);\n",
    "- j = Taxa de juros;\n",
    "- t = É o tempo do investimento."
   ]
  },
  {
   "cell_type": "code",
   "execution_count": 103,
   "id": "f95bc9ed",
   "metadata": {},
   "outputs": [
    {
     "name": "stdout",
     "output_type": "stream",
     "text": [
      "o montante final é de  10616.778118644983\n"
     ]
    }
   ],
   "source": [
    "def juros_compostos(i, j, t):\n",
    "    final = i*(1 + j)**t\n",
    "    return final\n",
    "    \n",
    "montante_final = juros_compostos(10000, 0.005, 12)\n",
    "print('o montante final é de ', montante_final)"
   ]
  },
  {
   "cell_type": "markdown",
   "id": "3e6e1424",
   "metadata": {},
   "source": [
    "## Bibliotecas\n",
    "\n",
    "- Se eu quiser reusar minhas funções, posso?"
   ]
  },
  {
   "cell_type": "code",
   "execution_count": 107,
   "id": "59c1122a",
   "metadata": {},
   "outputs": [],
   "source": [
    "from minhas_funcoes import *"
   ]
  },
  {
   "cell_type": "code",
   "execution_count": 108,
   "id": "8b2cbe83",
   "metadata": {},
   "outputs": [
    {
     "name": "stdout",
     "output_type": "stream",
     "text": [
      "o montante final é de  10616.778118644983\n"
     ]
    }
   ],
   "source": [
    "montante_final = juros_compostos_2(10000, 0.005, 12)\n",
    "print('o montante final é de ', montante_final)"
   ]
  },
  {
   "cell_type": "markdown",
   "id": "dfba2605",
   "metadata": {},
   "source": [
    "- Existem funções pré-prontas?"
   ]
  },
  {
   "cell_type": "code",
   "execution_count": 109,
   "id": "ff496ca8",
   "metadata": {},
   "outputs": [],
   "source": [
    "import math"
   ]
  },
  {
   "cell_type": "code",
   "execution_count": 111,
   "id": "5b3188a8",
   "metadata": {},
   "outputs": [
    {
     "name": "stdout",
     "output_type": "stream",
     "text": [
      "1.0\n"
     ]
    }
   ],
   "source": [
    "print(math.cos(0))"
   ]
  },
  {
   "cell_type": "code",
   "execution_count": 112,
   "id": "b6f568d0",
   "metadata": {},
   "outputs": [
    {
     "name": "stdout",
     "output_type": "stream",
     "text": [
      "0.0\n"
     ]
    }
   ],
   "source": [
    "print(math.sin(0))"
   ]
  },
  {
   "cell_type": "code",
   "execution_count": 114,
   "id": "d349a71a",
   "metadata": {},
   "outputs": [
    {
     "name": "stdout",
     "output_type": "stream",
     "text": [
      "122\n"
     ]
    }
   ],
   "source": [
    "print(math.ceil(121.2))"
   ]
  },
  {
   "cell_type": "code",
   "execution_count": 116,
   "id": "e650d929",
   "metadata": {},
   "outputs": [
    {
     "name": "stdout",
     "output_type": "stream",
     "text": [
      "121\n"
     ]
    }
   ],
   "source": [
    "print(math.floor(121.8))"
   ]
  },
  {
   "cell_type": "code",
   "execution_count": 117,
   "id": "0090dc19",
   "metadata": {},
   "outputs": [
    {
     "name": "stdout",
     "output_type": "stream",
     "text": [
      "Requirement already satisfied: pandas in /usr/local/lib/python3.9/site-packages (1.2.4)\n",
      "Requirement already satisfied: pytz>=2017.3 in /usr/local/lib/python3.9/site-packages (from pandas) (2021.1)\n",
      "Requirement already satisfied: python-dateutil>=2.7.3 in /usr/local/lib/python3.9/site-packages (from pandas) (2.8.1)\n",
      "Requirement already satisfied: numpy>=1.16.5 in /usr/local/lib/python3.9/site-packages (from pandas) (1.20.3)\n",
      "Requirement already satisfied: six>=1.5 in /usr/local/lib/python3.9/site-packages (from python-dateutil>=2.7.3->pandas) (1.16.0)\n",
      "\u001b[33mWARNING: You are using pip version 21.1.1; however, version 21.1.2 is available.\n",
      "You should consider upgrading via the '/usr/local/opt/python@3.9/bin/python3.9 -m pip install --upgrade pip' command.\u001b[0m\n",
      "Note: you may need to restart the kernel to use updated packages.\n"
     ]
    }
   ],
   "source": [
    "pip install pandas"
   ]
  },
  {
   "cell_type": "code",
   "execution_count": 118,
   "id": "96c4a0f9",
   "metadata": {},
   "outputs": [],
   "source": [
    "import pandas"
   ]
  },
  {
   "cell_type": "markdown",
   "id": "ab575ded",
   "metadata": {},
   "source": [
    "## Arquivos"
   ]
  },
  {
   "cell_type": "markdown",
   "id": "28d94505",
   "metadata": {},
   "source": [
    "- Forma de entrada e saída de dados\n",
    "- Abrindo arquivos para leitura\n",
    "- Precisamos do nome do arquivo para poder abri-lo\n",
    "- Podemos passar apenas o nome do arquivo, caso esteja na mesma pasta que o nosso notebook do Jupyter\n"
   ]
  },
  {
   "cell_type": "code",
   "execution_count": 127,
   "id": "28243440",
   "metadata": {},
   "outputs": [
    {
     "name": "stdout",
     "output_type": "stream",
     "text": [
      "A bolsa de valores brasileira, a B3, fechou em queda nesta terça-feira (22), em meio a um movimento de acomodação em mercados acionários no exterior e repercutindo a ata do Comitê de Política Monetária (Copom) divulgada nesta tarde.\n",
      "\n",
      "O Ibovespa recuou 0,38%, a 128.767 pontos. Veja mais cotações.\n",
      "\n",
      "O dólar, por sua vez, fechou abaixo dos R$ 5 pela primeira vez em mais de um ano.\n",
      "\n",
      "Na segunda-feira, a bolsa fechou em alta de 0,67%, a 129.265 pontos. Com o resultado de hoje, passou a acumular avanço de 2,02% no mês. No ano, a valorização é de 8,19%.\n",
      "arq foi fechado\n"
     ]
    }
   ],
   "source": [
    "with open('noticia.txt') as arq:\n",
    "    \n",
    "    texto = arq.read()\n",
    "    \n",
    "    print(texto)\n",
    "    \n",
    "print('arq foi fechado')"
   ]
  },
  {
   "cell_type": "markdown",
   "id": "6a119c65",
   "metadata": {},
   "source": [
    "- O nome do arquivo passado para abrir o arquivo precisa ser exatamente igual ao que está salvo no computador, incluindo a extensão. \n",
    "- Para configurar a exibição de extensão de arquivo no Windows: \n",
    "    - O Explorador de Arquivos (Windows Explorer), tudo o que você precisa fazer é clicar na guia “Exibir” no topo da janela e então, marcar a caixa da opção ” Extensões de nomes de arquivos”.\n",
    "    - Uma vez feito isso, as extensões dos arquivos serão exibidas no Explorador de Arquivos.\n",
    "- Para configurar a exibição de extensão de arquivo no MacOS:\n",
    "    - No Explorador de Arquivos (Finder), você clicará em *Finder* e depois em *Preferences* (ou usar o atalho `Command + , `). Em seguida, clicar em *Advanced* e marcar *Show all files extensions*."
   ]
  },
  {
   "cell_type": "code",
   "execution_count": 128,
   "id": "6ce12208",
   "metadata": {},
   "outputs": [
    {
     "name": "stdout",
     "output_type": "stream",
     "text": [
      "A bolsa de valores brasileira, a B3, fechou em queda nesta terça-feira (22), em meio a um movimento de acomodação em mercados acionários no exterior e repercutindo a ata do Comitê de Política Monetária (Copom) divulgada nesta tarde.\n",
      "\n",
      "O Ibovespa recuou 0,38%, a 128.767 pontos. Veja mais cotações.\n",
      "\n",
      "O dólar, por sua vez, fechou abaixo dos R$ 5 pela primeira vez em mais de um ano.\n",
      "\n",
      "Na segunda-feira, a bolsa fechou em alta de 0,67%, a 129.265 pontos. Com o resultado de hoje, passou a acumular avanço de 2,02% no mês. No ano, a valorização é de 8,19%.\n",
      "arq foi fechado\n"
     ]
    }
   ],
   "source": [
    "with open('/Users/rguedes/Desktop/noticia.txt') as arq:\n",
    "    \n",
    "    texto = arq.read()\n",
    "    \n",
    "    print(texto)\n",
    "    \n",
    "print('arq foi fechado')"
   ]
  },
  {
   "cell_type": "markdown",
   "id": "1887eae5",
   "metadata": {},
   "source": [
    "- Para passar arquivos em outros locais, precisamos passar o caminho inteiro\n",
    "- Para copiar o caminho inteiro no MacOS:\n",
    "    - Mostrar o *Pathname Bar* clicando em *View*. Dessa forma, você poderá copiar o caminho completo de um arquivo de forma mais simples\n",
    "- Para copiar o caminho inteiro no Windows:\n",
    "    - Copiar o caminho que aparece no Windows Explorer + nome do arquivo com extensão.\n",
    "    - Problemas comuns ao usar Windows:\n",
    "        - Ao copiar o caminho completo virá algo como:\n",
    "            - `'C:\\Users\\rguedes\\Desktop\\arquivo_desktop.txt'`\n",
    "        - Você precisará alterar para um dos seguintes formatos:    \n",
    "            - `'C:\\\\Users\\\\rguedes\\\\Desktop\\\\arquivo_desktop.txt'`\n",
    "            - `r'C:\\Users\\rguedes\\Desktop\\arquivo_desktop.txt'`"
   ]
  },
  {
   "cell_type": "markdown",
   "id": "ddb4f1c9",
   "metadata": {},
   "source": [
    "**Para exercitar**: Abrir arquivo `arquivo_texto.txt`, disponível no Class, e mostrar todo o seu conteúdo."
   ]
  },
  {
   "cell_type": "code",
   "execution_count": 129,
   "id": "46cf5f82",
   "metadata": {},
   "outputs": [
    {
     "name": "stdout",
     "output_type": "stream",
     "text": [
      "Data Science Certificate é com Let's Code + Empiricus!\n"
     ]
    }
   ],
   "source": [
    "with open('arquivo_texto.txt') as arq:\n",
    "    \n",
    "    texto = arq.read()\n",
    "    \n",
    "    print(texto)"
   ]
  },
  {
   "cell_type": "markdown",
   "id": "2e51b103",
   "metadata": {},
   "source": [
    "- Por padrão, abrimos um arquivo como leitura\n",
    "- Podemos alterar para outros tipos também"
   ]
  },
  {
   "cell_type": "raw",
   "id": "2d2513b8",
   "metadata": {},
   "source": [
    "r - read - leitura\n",
    "w - write - escrita apagando conteúdo prévio\n",
    "a - append - escrita sem apagar conteúdo prévio"
   ]
  },
  {
   "cell_type": "code",
   "execution_count": 132,
   "id": "971ed220",
   "metadata": {},
   "outputs": [],
   "source": [
    "with open('novo_arquivo.txt', 'w') as arq:\n",
    "    \n",
    "    arq.write('texto\\n')\n",
    "    arq.write('texto\\n')\n",
    "    arq.write('texto\\n')\n",
    "    arq.write('texto\\n')"
   ]
  },
  {
   "cell_type": "code",
   "execution_count": 133,
   "id": "35ec8632",
   "metadata": {},
   "outputs": [],
   "source": [
    "with open('novo_arquivo.txt', 'a') as arq:\n",
    "    \n",
    "    arq.write('lets code\\n')\n",
    "    arq.write('empiricus\\n')\n",
    "    arq.write('lets code\\n')\n",
    "    arq.write('empiricus\\n')"
   ]
  },
  {
   "cell_type": "code",
   "execution_count": 138,
   "id": "486bc8db",
   "metadata": {},
   "outputs": [
    {
     "name": "stdout",
     "output_type": "stream",
     "text": [
      "texto\n",
      "\n",
      "texto\n",
      "\n",
      "texto\n",
      "\n",
      "texto\n",
      "\n",
      "lets code\n",
      "\n"
     ]
    }
   ],
   "source": [
    "with open('novo_arquivo.txt', 'r') as arq:\n",
    "    \n",
    "    texto = arq.readline()\n",
    "    print(texto)\n",
    "    \n",
    "    texto = arq.readline()\n",
    "    print(texto)\n",
    "    \n",
    "    texto = arq.readline()\n",
    "    print(texto)\n",
    "    \n",
    "    texto = arq.readline()\n",
    "    print(texto)\n",
    "    \n",
    "    texto = arq.readline()\n",
    "    print(texto)"
   ]
  },
  {
   "cell_type": "code",
   "execution_count": 146,
   "id": "c33003c7",
   "metadata": {},
   "outputs": [
    {
     "name": "stdout",
     "output_type": "stream",
     "text": [
      "['texto', 'texto', 'texto', 'texto', 'lets code', 'empiricus', 'lets code', 'empiricus']\n"
     ]
    }
   ],
   "source": [
    "with open('novo_arquivo.txt', 'r') as arq:\n",
    "    \n",
    "    lista = []\n",
    "    \n",
    "    for i in arq.readlines():\n",
    "        lista.append(i.strip('\\n'))\n",
    "    \n",
    "print(lista)\n",
    "    "
   ]
  },
  {
   "cell_type": "markdown",
   "id": "5e18af2f",
   "metadata": {},
   "source": [
    "**Para exercitar**: Abrir arquivo `noticia.txt`, disponível no Class, e mostrar apenas a terceira linha de duas formas:\n",
    "- Usando estrutura de repetição\n",
    "- Sem usar estrutura de repetição."
   ]
  },
  {
   "cell_type": "code",
   "execution_count": 154,
   "id": "c5371633",
   "metadata": {},
   "outputs": [
    {
     "name": "stdout",
     "output_type": "stream",
     "text": [
      "2 O Ibovespa recuou 0,38%, a 128.767 pontos. Veja mais cotações.\n",
      "\n"
     ]
    }
   ],
   "source": [
    "with open('/Users/rguedes/Desktop/noticia.txt') as f:\n",
    "    \n",
    "    for i in range(3):\n",
    "        \n",
    "        texto = f.readline()\n",
    "        \n",
    "        if i == 2:\n",
    "            print(i, texto)"
   ]
  },
  {
   "cell_type": "code",
   "execution_count": 155,
   "id": "4b79db15",
   "metadata": {},
   "outputs": [
    {
     "name": "stdout",
     "output_type": "stream",
     "text": [
      "O Ibovespa recuou 0,38%, a 128.767 pontos. Veja mais cotações.\n",
      "\n"
     ]
    }
   ],
   "source": [
    "with open('/Users/rguedes/Desktop/noticia.txt') as f:\n",
    "    texto = f.readlines()\n",
    "    print(texto[2])"
   ]
  },
  {
   "cell_type": "markdown",
   "id": "5eef3138",
   "metadata": {},
   "source": [
    "**Para exercitar**: Abrir arquivo `valores.txt`, disponível no Class, e mostrar a média dos valores que estão dentro do arquivo."
   ]
  },
  {
   "cell_type": "code",
   "execution_count": 168,
   "id": "7abed9b4",
   "metadata": {},
   "outputs": [
    {
     "name": "stdout",
     "output_type": "stream",
     "text": [
      "7.9\n"
     ]
    }
   ],
   "source": [
    "with open('valores.txt') as f:\n",
    "    lista_strings = f.readlines()\n",
    "    lista_numeros = []\n",
    "    \n",
    "    for i in lista_strings:\n",
    "        numero = int(i)\n",
    "        lista_numeros.append(numero)\n",
    "        \n",
    "    print(sum(lista_numeros)/len(lista_numeros))"
   ]
  },
  {
   "cell_type": "markdown",
   "id": "d4828db8",
   "metadata": {},
   "source": [
    "### CSV"
   ]
  },
  {
   "cell_type": "markdown",
   "id": "12250031",
   "metadata": {},
   "source": [
    "- CSV nada mais são que arquivos de texto com estrutura de tabela definida\n",
    "- Colunas são separadas por vírgula `,`\n",
    "- Linhas são separadas por quebra de linha `\\n`\n",
    "- Podemos usar as manipulações que aprendemos com strings e listas para organizar os dados\n",
    "- Existe uma biblioteca chamada CSV, porém também existe o Pandas que traz MUITAS facilidades na manipulação de CSV, então vamos otimizar o nosso tempo e ver coisas mais legais nos módulos futuros"
   ]
  },
  {
   "cell_type": "code",
   "execution_count": 179,
   "id": "1a9f93db",
   "metadata": {},
   "outputs": [
    {
     "name": "stdout",
     "output_type": "stream",
     "text": [
      "RA,Nome,Frequencia,Prova_1,Prova_2,Prova_3,Prova_4\n",
      "\n",
      "Antonio Carlos 20\n",
      "Ana Beatriz 20\n",
      "Carlos Vernes 17\n",
      "Francisco Cunha 20\n",
      "Sandra Rosa 15\n",
      "Juliana Arruda 18\n",
      "Joao Galo 20\n",
      "José Valente 20\n",
      "Maria Ferreira 19\n",
      "Adriana Tavares 20\n"
     ]
    }
   ],
   "source": [
    "with open('alunos.csv') as f:\n",
    "    \n",
    "    print(f.readline())\n",
    "    \n",
    "    informacoes = f.readlines()\n",
    "    \n",
    "    for linha in informacoes:\n",
    "        linha = linha.split(',')\n",
    "        \n",
    "        nome = linha[1]\n",
    "        freq = linha[2]\n",
    "        \n",
    "        print(nome, freq)"
   ]
  },
  {
   "cell_type": "markdown",
   "id": "826e3cf4",
   "metadata": {},
   "source": [
    "**Para exercitar:** Dado o arquivo `alunos.csv`, mostre na tela o nome do aluno, a médias das 4 notas e a situação (caso média maior ou igual a 7, aluno aprovado, caso contrário, reprovado)."
   ]
  },
  {
   "cell_type": "code",
   "execution_count": 187,
   "id": "2c51a6f8",
   "metadata": {},
   "outputs": [
    {
     "name": "stdout",
     "output_type": "stream",
     "text": [
      "RA,Nome,Frequencia,Prova_1,Prova_2,Prova_3,Prova_4\n",
      "\n",
      "Antonio Carlos 7.0 aprovado\n",
      "Ana Beatriz 7.25 aprovado\n",
      "Carlos Vernes 7.0 aprovado\n",
      "Francisco Cunha 9.0 aprovado\n",
      "Sandra Rosa 7.0 aprovado\n",
      "Juliana Arruda 7.5 aprovado\n",
      "Joao Galo 5.875 reprovado\n",
      "José Valente 10.0 aprovado\n",
      "Maria Ferreira 8.625 aprovado\n",
      "Adriana Tavares 8.0 aprovado\n"
     ]
    }
   ],
   "source": [
    "with open('alunos.csv') as f:\n",
    "    \n",
    "    print(f.readline())\n",
    "    \n",
    "    informacoes = f.readlines()\n",
    "    \n",
    "    for linha in informacoes:\n",
    "        linha = linha.split(',')\n",
    "        \n",
    "        nome = linha[1]\n",
    "        notas_string = linha[3:]\n",
    "        \n",
    "        notas_numeros = []\n",
    "        \n",
    "        for n in notas_string:\n",
    "            \n",
    "            numero = float(n)\n",
    "            \n",
    "            notas_numeros.append(numero)\n",
    "        \n",
    "        media = sum(notas_numeros)/len(notas_numeros)\n",
    "        \n",
    "        if media >= 7:\n",
    "            situacao = 'aprovado'\n",
    "        else:\n",
    "            situacao = 'reprovado'\n",
    "            \n",
    "        print(nome, media, situacao)"
   ]
  },
  {
   "cell_type": "markdown",
   "id": "2a4bca0e",
   "metadata": {},
   "source": [
    "**Para exercitar:** Adicione ao exercício anterior a criação de um arquivo CSV com nome, média e situação."
   ]
  },
  {
   "cell_type": "code",
   "execution_count": 193,
   "id": "60d0f743",
   "metadata": {},
   "outputs": [
    {
     "name": "stdout",
     "output_type": "stream",
     "text": [
      "RA,Nome,Frequencia,Prova_1,Prova_2,Prova_3,Prova_4\n",
      "\n"
     ]
    }
   ],
   "source": [
    "with open('alunos.csv') as f:\n",
    "    print(f.readline())\n",
    "    informacoes = f.readlines()\n",
    "\n",
    "with open('alunos_tratado.csv', 'w') as f:\n",
    "    \n",
    "    for linha in informacoes:\n",
    "        linha = linha.split(',')\n",
    "        nome = linha[1]\n",
    "        notas_string = linha[3:]\n",
    "\n",
    "        notas_numeros = []\n",
    "\n",
    "        for n in notas_string:\n",
    "\n",
    "            numero = float(n)\n",
    "\n",
    "            notas_numeros.append(numero)\n",
    "\n",
    "        media = sum(notas_numeros)/len(notas_numeros)\n",
    "\n",
    "        if media >= 7:\n",
    "            situacao = 'aprovado'\n",
    "        else:\n",
    "            situacao = 'reprovado'\n",
    "\n",
    "        f.write(nome)\n",
    "        f.write(',')\n",
    "        f.write(str(media))\n",
    "        f.write(',')\n",
    "        f.write(situacao)\n",
    "        f.write('\\n')"
   ]
  },
  {
   "cell_type": "markdown",
   "id": "e7b8799b",
   "metadata": {},
   "source": [
    "**Para exercitar:** Abra o arquivo `ibovespa.csv` e identifique a máxima e a mínima de fechamento no ano de 2020. "
   ]
  },
  {
   "cell_type": "code",
   "execution_count": 203,
   "id": "89f7234f",
   "metadata": {},
   "outputs": [
    {
     "name": "stdout",
     "output_type": "stream",
     "text": [
      "Date,Open,High,Low,Close,Adj Close,Volume\n",
      "\n",
      "119475.0\n",
      "93580.0\n"
     ]
    }
   ],
   "source": [
    "with open('ibovespa.csv') as f:\n",
    "    \n",
    "    print(f.readline())\n",
    "    \n",
    "    lista_fechamento = []\n",
    "    \n",
    "    for linha in f.readlines():\n",
    "        ano = linha[:4]\n",
    "        if ano == '2020':\n",
    "            \n",
    "            linha = linha.split(',')\n",
    "            \n",
    "            fechamento = float(linha[4])\n",
    "            \n",
    "            lista_fechamento.append(fechamento)\n",
    "            \n",
    "print(max(lista_fechamento))\n",
    "print(min(lista_fechamento))"
   ]
  },
  {
   "cell_type": "markdown",
   "id": "342c5948",
   "metadata": {},
   "source": [
    "**Para exercitar:** Utilizando também o arquivo `petr4.csv`, identifique o valor de fechamento da Petrobrás nos dias de máxima e mínima da IBOVESPA."
   ]
  },
  {
   "cell_type": "code",
   "execution_count": null,
   "id": "4d8932a3",
   "metadata": {},
   "outputs": [],
   "source": []
  }
 ],
 "metadata": {
  "kernelspec": {
   "display_name": "Python 3",
   "language": "python",
   "name": "python3"
  },
  "language_info": {
   "codemirror_mode": {
    "name": "ipython",
    "version": 3
   },
   "file_extension": ".py",
   "mimetype": "text/x-python",
   "name": "python",
   "nbconvert_exporter": "python",
   "pygments_lexer": "ipython3",
   "version": "3.6.6"
  }
 },
 "nbformat": 4,
 "nbformat_minor": 5
}
