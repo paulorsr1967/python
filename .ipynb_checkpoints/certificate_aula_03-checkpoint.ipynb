{
 "cells": [
  {
   "cell_type": "markdown",
   "id": "5feed2e8",
   "metadata": {},
   "source": [
    "# Na aula anterior..."
   ]
  },
  {
   "cell_type": "markdown",
   "id": "f21bc5de",
   "metadata": {},
   "source": [
    "- `while`"
   ]
  },
  {
   "cell_type": "code",
   "execution_count": 8,
   "id": "88ecb753",
   "metadata": {},
   "outputs": [
    {
     "name": "stdout",
     "output_type": "stream",
     "text": [
      "0 rychard guedes\n",
      "1 rychard guedes\n",
      "2 rychard guedes\n",
      "3 rychard guedes\n",
      "4 rychard guedes\n",
      "5 rychard guedes\n",
      "6 rychard guedes\n",
      "7 rychard guedes\n",
      "8 rychard guedes\n",
      "9 rychard guedes\n",
      "fim do programa\n"
     ]
    }
   ],
   "source": [
    "cont = 0\n",
    "\n",
    "while cont < 10:\n",
    "    print(cont, 'rychard guedes')\n",
    "    cont = cont + 1\n",
    "    \n",
    "print('fim do programa')"
   ]
  },
  {
   "cell_type": "markdown",
   "id": "84814565",
   "metadata": {},
   "source": [
    "- `for`"
   ]
  },
  {
   "cell_type": "code",
   "execution_count": 20,
   "id": "8a2e4042",
   "metadata": {},
   "outputs": [
    {
     "name": "stdout",
     "output_type": "stream",
     "text": [
      "30 rychard\n",
      "34 rychard\n",
      "38 rychard\n",
      "42 rychard\n",
      "46 rychard\n",
      "fim do programa\n"
     ]
    }
   ],
   "source": [
    "for i in range(30, 50, 4):\n",
    "    print(i, 'rychard')\n",
    "    \n",
    "print('fim do programa')"
   ]
  },
  {
   "cell_type": "markdown",
   "id": "1ce12e5e",
   "metadata": {},
   "source": [
    "# Hoje!"
   ]
  },
  {
   "cell_type": "markdown",
   "id": "eae74450",
   "metadata": {},
   "source": [
    "## Listas"
   ]
  },
  {
   "cell_type": "markdown",
   "id": "2ec512b6",
   "metadata": {},
   "source": [
    "- Variável que armazena várias outras variáveis dentro dela;\n",
    "- Pode ser inicializada vazia (`list()` ou `[]`) ou já com elementos;\n",
    "- Pode conter os mais diversos tipos de variáveis dentro dela;\n",
    "- Podemos localizar os elementos na lista pela sua **posição**."
   ]
  },
  {
   "cell_type": "code",
   "execution_count": 23,
   "id": "b3900ebf",
   "metadata": {},
   "outputs": [
    {
     "name": "stdout",
     "output_type": "stream",
     "text": [
      "['Rychard', 27, 'm', 4.5]\n"
     ]
    }
   ],
   "source": [
    "lista = ['Rychard', 27, 'm', 4.5]\n",
    "\n",
    "print(lista)"
   ]
  },
  {
   "cell_type": "code",
   "execution_count": 24,
   "id": "ff9fa085",
   "metadata": {},
   "outputs": [
    {
     "name": "stdout",
     "output_type": "stream",
     "text": [
      "<class 'list'>\n"
     ]
    }
   ],
   "source": [
    "print(type(lista))"
   ]
  },
  {
   "cell_type": "code",
   "execution_count": 25,
   "id": "18cf81cb",
   "metadata": {},
   "outputs": [
    {
     "name": "stdout",
     "output_type": "stream",
     "text": [
      "Rychard\n"
     ]
    }
   ],
   "source": [
    "print(lista[0])"
   ]
  },
  {
   "cell_type": "code",
   "execution_count": 26,
   "id": "5106f589",
   "metadata": {},
   "outputs": [
    {
     "name": "stdout",
     "output_type": "stream",
     "text": [
      "27\n"
     ]
    }
   ],
   "source": [
    "print(lista[1])"
   ]
  },
  {
   "cell_type": "code",
   "execution_count": 27,
   "id": "54b8e089",
   "metadata": {},
   "outputs": [
    {
     "name": "stdout",
     "output_type": "stream",
     "text": [
      "4.5\n"
     ]
    }
   ],
   "source": [
    "print(lista[3])"
   ]
  },
  {
   "cell_type": "code",
   "execution_count": 29,
   "id": "9bc0a859",
   "metadata": {},
   "outputs": [
    {
     "name": "stdout",
     "output_type": "stream",
     "text": [
      "<class 'str'>\n"
     ]
    }
   ],
   "source": [
    "var_x = lista[0]\n",
    "print(type(var_x))"
   ]
  },
  {
   "cell_type": "code",
   "execution_count": 30,
   "id": "f9ba8ef8",
   "metadata": {},
   "outputs": [
    {
     "name": "stdout",
     "output_type": "stream",
     "text": [
      "<class 'int'>\n"
     ]
    }
   ],
   "source": [
    "var_x = lista[1]\n",
    "print(type(var_x))"
   ]
  },
  {
   "cell_type": "code",
   "execution_count": 31,
   "id": "2d2e6e71",
   "metadata": {},
   "outputs": [
    {
     "name": "stdout",
     "output_type": "stream",
     "text": [
      "<class 'float'>\n"
     ]
    }
   ],
   "source": [
    "var_x = lista[3]\n",
    "print(type(var_x))"
   ]
  },
  {
   "cell_type": "code",
   "execution_count": 32,
   "id": "719f5c3f",
   "metadata": {},
   "outputs": [
    {
     "name": "stdout",
     "output_type": "stream",
     "text": [
      "<class 'list'>\n"
     ]
    }
   ],
   "source": [
    "print(type(lista))"
   ]
  },
  {
   "cell_type": "code",
   "execution_count": 33,
   "id": "5919633b",
   "metadata": {},
   "outputs": [
    {
     "name": "stdout",
     "output_type": "stream",
     "text": [
      "4.5\n"
     ]
    }
   ],
   "source": [
    "print(lista[-1])"
   ]
  },
  {
   "cell_type": "code",
   "execution_count": 34,
   "id": "befec340",
   "metadata": {},
   "outputs": [
    {
     "name": "stdout",
     "output_type": "stream",
     "text": [
      "m\n"
     ]
    }
   ],
   "source": [
    "print(lista[-2])"
   ]
  },
  {
   "cell_type": "code",
   "execution_count": 35,
   "id": "51a7ab41",
   "metadata": {},
   "outputs": [
    {
     "name": "stdout",
     "output_type": "stream",
     "text": [
      "27\n"
     ]
    }
   ],
   "source": [
    "print(lista[-3])"
   ]
  },
  {
   "cell_type": "code",
   "execution_count": 36,
   "id": "137141c4",
   "metadata": {},
   "outputs": [
    {
     "name": "stdout",
     "output_type": "stream",
     "text": [
      "Rychard\n"
     ]
    }
   ],
   "source": [
    "print(lista[-4])"
   ]
  },
  {
   "cell_type": "code",
   "execution_count": 37,
   "id": "1d35e94a",
   "metadata": {},
   "outputs": [
    {
     "ename": "IndexError",
     "evalue": "list index out of range",
     "output_type": "error",
     "traceback": [
      "\u001b[0;31m---------------------------------------------------------------------------\u001b[0m",
      "\u001b[0;31mIndexError\u001b[0m                                Traceback (most recent call last)",
      "\u001b[0;32m<ipython-input-37-04aa123a3d60>\u001b[0m in \u001b[0;36m<module>\u001b[0;34m\u001b[0m\n\u001b[0;32m----> 1\u001b[0;31m \u001b[0mprint\u001b[0m\u001b[0;34m(\u001b[0m\u001b[0mlista\u001b[0m\u001b[0;34m[\u001b[0m\u001b[0;34m-\u001b[0m\u001b[0;36m5\u001b[0m\u001b[0;34m]\u001b[0m\u001b[0;34m)\u001b[0m\u001b[0;34m\u001b[0m\u001b[0;34m\u001b[0m\u001b[0m\n\u001b[0m",
      "\u001b[0;31mIndexError\u001b[0m: list index out of range"
     ]
    }
   ],
   "source": [
    "print(lista[-5])"
   ]
  },
  {
   "cell_type": "code",
   "execution_count": 38,
   "id": "490cf804",
   "metadata": {},
   "outputs": [
    {
     "ename": "IndexError",
     "evalue": "list index out of range",
     "output_type": "error",
     "traceback": [
      "\u001b[0;31m---------------------------------------------------------------------------\u001b[0m",
      "\u001b[0;31mIndexError\u001b[0m                                Traceback (most recent call last)",
      "\u001b[0;32m<ipython-input-38-df8f7050c1e1>\u001b[0m in \u001b[0;36m<module>\u001b[0;34m\u001b[0m\n\u001b[0;32m----> 1\u001b[0;31m \u001b[0mprint\u001b[0m\u001b[0;34m(\u001b[0m\u001b[0mlista\u001b[0m\u001b[0;34m[\u001b[0m\u001b[0;36m4\u001b[0m\u001b[0;34m]\u001b[0m\u001b[0;34m)\u001b[0m\u001b[0;34m\u001b[0m\u001b[0;34m\u001b[0m\u001b[0m\n\u001b[0m",
      "\u001b[0;31mIndexError\u001b[0m: list index out of range"
     ]
    }
   ],
   "source": [
    "print(lista[4])"
   ]
  },
  {
   "cell_type": "code",
   "execution_count": null,
   "id": "f399f0be",
   "metadata": {},
   "outputs": [],
   "source": [
    "lista = ['Rychard', 27, 'm', 4.5]\n",
    "print(lista)"
   ]
  },
  {
   "cell_type": "markdown",
   "id": "cb44167a",
   "metadata": {},
   "source": [
    "**Para exercitar:** preciso armazenar os valores de fechamento da ação PETR4 nos 5 primeiros dias de março. Como fazer de forma organizada?\n",
    "\n",
    "- Mar 05, 22.29\n",
    "- Mar 04, 21.12\n",
    "- Mar 03, 20.48\n",
    "- Mar 02, 20.67\n",
    "- Mar 01, 21.92"
   ]
  },
  {
   "cell_type": "code",
   "execution_count": 39,
   "id": "4cb8e550",
   "metadata": {},
   "outputs": [
    {
     "name": "stdout",
     "output_type": "stream",
     "text": [
      "[22.29, 21.12, 20.48, 20.67, 21.92]\n"
     ]
    }
   ],
   "source": [
    "petr4 = [22.29, 21.12, 20.48, 20.67, 21.92]\n",
    "\n",
    "print(petr4)"
   ]
  },
  {
   "cell_type": "code",
   "execution_count": 40,
   "id": "5e7d47c3",
   "metadata": {},
   "outputs": [
    {
     "name": "stdout",
     "output_type": "stream",
     "text": [
      "21.92\n"
     ]
    }
   ],
   "source": [
    "print(petr4[-1])"
   ]
  },
  {
   "cell_type": "markdown",
   "id": "64c60e58",
   "metadata": {},
   "source": [
    "- Não possui limite de tamanho (máximo ou mínimo) pré-determinado;\n",
    "- Inserção pode ser feita ao final (`.append(valor)`), início ou meio (`.insert(posicao, valor)`);\n",
    "- Podemos descobrir o tamanho atual de uma lista usando `len()`."
   ]
  },
  {
   "cell_type": "code",
   "execution_count": 42,
   "id": "a1d95542",
   "metadata": {},
   "outputs": [
    {
     "name": "stdout",
     "output_type": "stream",
     "text": [
      "['Rychard', 27, 'm', 4.5]\n"
     ]
    }
   ],
   "source": [
    "lista = ['Rychard', 27, 'm', 4.5]\n",
    "print(lista)"
   ]
  },
  {
   "cell_type": "code",
   "execution_count": 43,
   "id": "26ad2fb0",
   "metadata": {},
   "outputs": [
    {
     "name": "stdout",
     "output_type": "stream",
     "text": [
      "['Rychard', 27, 'm', 4.5, 2]\n"
     ]
    }
   ],
   "source": [
    "lista.append(2)\n",
    "print(lista)"
   ]
  },
  {
   "cell_type": "code",
   "execution_count": 44,
   "id": "fd840404",
   "metadata": {},
   "outputs": [
    {
     "name": "stdout",
     "output_type": "stream",
     "text": [
      "['Rychard', 27, 'm', 4.5]\n"
     ]
    }
   ],
   "source": [
    "lista = ['Rychard', 27, 'm', 4.5]\n",
    "print(lista)"
   ]
  },
  {
   "cell_type": "code",
   "execution_count": 45,
   "id": "0cee8d78",
   "metadata": {},
   "outputs": [],
   "source": [
    "lista.insert(0, 2)"
   ]
  },
  {
   "cell_type": "code",
   "execution_count": 46,
   "id": "ec6d4138",
   "metadata": {},
   "outputs": [
    {
     "name": "stdout",
     "output_type": "stream",
     "text": [
      "[2, 'Rychard', 27, 'm', 4.5]\n"
     ]
    }
   ],
   "source": [
    "print(lista)"
   ]
  },
  {
   "cell_type": "code",
   "execution_count": 47,
   "id": "e696671d",
   "metadata": {},
   "outputs": [
    {
     "name": "stdout",
     "output_type": "stream",
     "text": [
      "['Rychard', 27, 'm', 4.5]\n"
     ]
    }
   ],
   "source": [
    "lista = ['Rychard', 27, 'm', 4.5]\n",
    "print(lista)"
   ]
  },
  {
   "cell_type": "code",
   "execution_count": 50,
   "id": "016f2a24",
   "metadata": {},
   "outputs": [],
   "source": [
    "lista.insert(-1, 2)"
   ]
  },
  {
   "cell_type": "code",
   "execution_count": 51,
   "id": "4db892ac",
   "metadata": {},
   "outputs": [
    {
     "name": "stdout",
     "output_type": "stream",
     "text": [
      "['Rychard', 27, 2, 'm', 2, 4.5]\n"
     ]
    }
   ],
   "source": [
    "print(lista)"
   ]
  },
  {
   "cell_type": "code",
   "execution_count": 52,
   "id": "69525bcb",
   "metadata": {},
   "outputs": [
    {
     "name": "stdout",
     "output_type": "stream",
     "text": [
      "['Rychard', 27, 'm', 4.5]\n"
     ]
    }
   ],
   "source": [
    "lista = ['Rychard', 27, 'm', 4.5]\n",
    "print(lista)"
   ]
  },
  {
   "cell_type": "code",
   "execution_count": 53,
   "id": "69eb7a3c",
   "metadata": {},
   "outputs": [
    {
     "name": "stdout",
     "output_type": "stream",
     "text": [
      "4\n"
     ]
    }
   ],
   "source": [
    "print(len(lista))"
   ]
  },
  {
   "cell_type": "code",
   "execution_count": 54,
   "id": "342819ab",
   "metadata": {},
   "outputs": [],
   "source": [
    "lista.insert(-1, 2)"
   ]
  },
  {
   "cell_type": "code",
   "execution_count": 55,
   "id": "fb926e2f",
   "metadata": {},
   "outputs": [
    {
     "name": "stdout",
     "output_type": "stream",
     "text": [
      "5\n"
     ]
    }
   ],
   "source": [
    "print(len(lista))"
   ]
  },
  {
   "cell_type": "markdown",
   "id": "029e8a43",
   "metadata": {},
   "source": [
    "**Parar exercitar:** Peça para o usuário digitar 5 valores de uma determinada ação e, ao final, mostre na tela a média dessas ações (use o `for` e armazene os elementos em uma lista)."
   ]
  },
  {
   "cell_type": "code",
   "execution_count": 65,
   "id": "9df125f4",
   "metadata": {},
   "outputs": [
    {
     "name": "stdout",
     "output_type": "stream",
     "text": [
      "[]\n",
      "digite valor da ação: 5\n",
      "digite valor da ação: 4\n",
      "digite valor da ação: 7\n",
      "digite valor da ação: 8\n",
      "digite valor da ação: 12\n",
      "[5.0, 4.0, 7.0, 8.0, 12.0]\n"
     ]
    }
   ],
   "source": [
    "lista = []\n",
    "\n",
    "print(lista)\n",
    "\n",
    "for i in range(5):\n",
    "    acao = float(input('digite valor da ação: '))\n",
    "    lista.append(acao)\n",
    "    \n",
    "print(lista)"
   ]
  },
  {
   "cell_type": "code",
   "execution_count": 68,
   "id": "24cd4f7f",
   "metadata": {},
   "outputs": [
    {
     "name": "stdout",
     "output_type": "stream",
     "text": [
      "5\n",
      "7.2\n"
     ]
    }
   ],
   "source": [
    "soma = 0\n",
    "\n",
    "for i in lista:\n",
    "    soma = soma + i\n",
    "    \n",
    "    \n",
    "qtd_elementos = len(lista) \n",
    "\n",
    "print(qtd_elementos)\n",
    "\n",
    "print(soma/qtd_elementos)"
   ]
  },
  {
   "cell_type": "code",
   "execution_count": 63,
   "id": "444b2faf",
   "metadata": {},
   "outputs": [
    {
     "name": "stdout",
     "output_type": "stream",
     "text": [
      "4\n"
     ]
    }
   ],
   "source": [
    "lista = list(range(2, 5))\n",
    "print(lista[2])"
   ]
  },
  {
   "cell_type": "code",
   "execution_count": 42,
   "id": "1955b2ac",
   "metadata": {},
   "outputs": [
    {
     "name": "stdout",
     "output_type": "stream",
     "text": [
      "['Rychard', 27, 'm', 4.5]\n"
     ]
    }
   ],
   "source": [
    "lista = ['Rychard', 27, 'm', 4.5]\n",
    "print(lista)"
   ]
  },
  {
   "cell_type": "code",
   "execution_count": 43,
   "id": "5cc10f57",
   "metadata": {},
   "outputs": [
    {
     "name": "stdout",
     "output_type": "stream",
     "text": [
      "['Rychard', 27, 'm', 4.5, 2]\n"
     ]
    }
   ],
   "source": [
    "lista.append(2)\n",
    "print(lista)"
   ]
  },
  {
   "cell_type": "code",
   "execution_count": 44,
   "id": "f13b1c80",
   "metadata": {},
   "outputs": [
    {
     "name": "stdout",
     "output_type": "stream",
     "text": [
      "['Rychard', 27, 'm', 4.5]\n"
     ]
    }
   ],
   "source": [
    "lista = ['Rychard', 27, 'm', 4.5]\n",
    "print(lista)"
   ]
  },
  {
   "cell_type": "code",
   "execution_count": 45,
   "id": "9ae264ae",
   "metadata": {},
   "outputs": [],
   "source": [
    "lista.insert(0, 2)"
   ]
  },
  {
   "cell_type": "code",
   "execution_count": 46,
   "id": "f3355511",
   "metadata": {},
   "outputs": [
    {
     "name": "stdout",
     "output_type": "stream",
     "text": [
      "[2, 'Rychard', 27, 'm', 4.5]\n"
     ]
    }
   ],
   "source": [
    "print(lista)"
   ]
  },
  {
   "cell_type": "markdown",
   "id": "437f1121",
   "metadata": {},
   "source": [
    "**Para exercitar:** Adicione mais dois elementos ao final da lista de valores de fechamento da PETR4 (-9, -88). No início, insira também 2 novos valores (500 e 762)."
   ]
  },
  {
   "cell_type": "code",
   "execution_count": 1,
   "id": "e16923b0",
   "metadata": {},
   "outputs": [
    {
     "name": "stdout",
     "output_type": "stream",
     "text": [
      "[22.29, 21.12, 20.48, 20.67, 21.92]\n"
     ]
    }
   ],
   "source": [
    "petr4 = [22.29, 21.12, 20.48, 20.67, 21.92]\n",
    "\n",
    "print(petr4)"
   ]
  },
  {
   "cell_type": "code",
   "execution_count": 2,
   "id": "38e0ef2d",
   "metadata": {},
   "outputs": [
    {
     "name": "stdout",
     "output_type": "stream",
     "text": [
      "[22.29, 21.12, 20.48, 20.67, 21.92, -9, -88]\n"
     ]
    }
   ],
   "source": [
    "petr4.append(-9)\n",
    "petr4.append(-88)\n",
    "\n",
    "print(petr4)"
   ]
  },
  {
   "cell_type": "code",
   "execution_count": 3,
   "id": "ed722004",
   "metadata": {},
   "outputs": [
    {
     "name": "stdout",
     "output_type": "stream",
     "text": [
      "[762, 500, 22.29, 21.12, 20.48, 20.67, 21.92, -9, -88]\n"
     ]
    }
   ],
   "source": [
    "petr4.insert(0, 500)\n",
    "petr4.insert(0, 762)\n",
    "\n",
    "print(petr4)"
   ]
  },
  {
   "cell_type": "markdown",
   "id": "9887d4ac",
   "metadata": {},
   "source": [
    "- Podemos aplicar operações de slice para selecionar uma sublista:\n",
    "    - [início:fim]\n",
    "    - início está incluso, fim não está incluso\n",
    "    - posicionamento por negativo"
   ]
  },
  {
   "cell_type": "code",
   "execution_count": 78,
   "id": "5e1211d0",
   "metadata": {},
   "outputs": [
    {
     "name": "stdout",
     "output_type": "stream",
     "text": [
      "['Rychard', 27]\n",
      "<class 'list'>\n"
     ]
    }
   ],
   "source": [
    "lista = ['Rychard', 27, 'm', 4.5]\n",
    "\n",
    "lista_2 = lista[0:2]\n",
    "\n",
    "print(lista_2)\n",
    "print(type(lista_2))"
   ]
  },
  {
   "cell_type": "code",
   "execution_count": 79,
   "id": "60f10b77",
   "metadata": {},
   "outputs": [
    {
     "name": "stdout",
     "output_type": "stream",
     "text": [
      "['Rychard', 27, 'm']\n",
      "<class 'list'>\n"
     ]
    }
   ],
   "source": [
    "lista = ['Rychard', 27, 'm', 4.5]\n",
    "\n",
    "lista_2 = lista[0:3]\n",
    "\n",
    "print(lista_2)\n",
    "print(type(lista_2))"
   ]
  },
  {
   "cell_type": "code",
   "execution_count": 81,
   "id": "abd642cf",
   "metadata": {},
   "outputs": [
    {
     "name": "stdout",
     "output_type": "stream",
     "text": [
      "['Rychard', 27]\n",
      "<class 'list'>\n"
     ]
    }
   ],
   "source": [
    "lista = ['Rychard', 27, 'm', 4.5]\n",
    "\n",
    "lista_2 = lista[0:-2]\n",
    "\n",
    "print(lista_2)\n",
    "print(type(lista_2))"
   ]
  },
  {
   "cell_type": "code",
   "execution_count": 82,
   "id": "5ae6bd63",
   "metadata": {},
   "outputs": [
    {
     "name": "stdout",
     "output_type": "stream",
     "text": [
      "['Rychard', 27]\n",
      "<class 'list'>\n"
     ]
    }
   ],
   "source": [
    "lista = ['Rychard', 27, 'm', 4.5]\n",
    "\n",
    "lista_2 = lista[:-2]\n",
    "\n",
    "print(lista_2)\n",
    "print(type(lista_2))"
   ]
  },
  {
   "cell_type": "code",
   "execution_count": 83,
   "id": "dfbff302",
   "metadata": {},
   "outputs": [
    {
     "name": "stdout",
     "output_type": "stream",
     "text": [
      "[27, 'm', 4.5]\n",
      "<class 'list'>\n"
     ]
    }
   ],
   "source": [
    "lista = ['Rychard', 27, 'm', 4.5]\n",
    "\n",
    "lista_2 = lista[1:]\n",
    "\n",
    "print(lista_2)\n",
    "print(type(lista_2))"
   ]
  },
  {
   "cell_type": "markdown",
   "id": "46fa171e",
   "metadata": {},
   "source": [
    "**Para exercitar:** Faça uma seleção da PETR4 excluindo os dois primeiros."
   ]
  },
  {
   "cell_type": "code",
   "execution_count": 5,
   "id": "02ea4114",
   "metadata": {},
   "outputs": [
    {
     "name": "stdout",
     "output_type": "stream",
     "text": [
      "[22.29, 21.12, 20.48, 20.67, 21.92, -9, -88]\n"
     ]
    }
   ],
   "source": [
    "print(petr4[2:])"
   ]
  },
  {
   "cell_type": "markdown",
   "id": "425daf87",
   "metadata": {},
   "source": [
    "**Para exercitar:** Faça uma seleção da PETR4 excluindo os dois últimos elemento."
   ]
  },
  {
   "cell_type": "code",
   "execution_count": 6,
   "id": "6a65d65f",
   "metadata": {},
   "outputs": [
    {
     "name": "stdout",
     "output_type": "stream",
     "text": [
      "[762, 500, 22.29, 21.12, 20.48, 20.67, 21.92]\n"
     ]
    }
   ],
   "source": [
    "print(petr4[:-2])"
   ]
  },
  {
   "cell_type": "markdown",
   "id": "c8ea72f1",
   "metadata": {},
   "source": [
    "**Para exercitar:** Faça uma seleção da PETR4 excluindo os dois primeiros e os dois últimos elemento."
   ]
  },
  {
   "cell_type": "code",
   "execution_count": 7,
   "id": "03ef1d77",
   "metadata": {},
   "outputs": [
    {
     "name": "stdout",
     "output_type": "stream",
     "text": [
      "[22.29, 21.12, 20.48, 20.67, 21.92]\n"
     ]
    }
   ],
   "source": [
    "print(petr4[2:-2])"
   ]
  },
  {
   "cell_type": "markdown",
   "id": "e864f2d3",
   "metadata": {},
   "source": [
    "- Elementos podem ser removidos:\n",
    "    - Por valor (`.remove()`);\n",
    "    - Por índice (`.pop()`);"
   ]
  },
  {
   "cell_type": "code",
   "execution_count": 11,
   "id": "58c20911",
   "metadata": {},
   "outputs": [
    {
     "name": "stdout",
     "output_type": "stream",
     "text": [
      "['Rychard', 27, 'm', 4.5, 'm']\n"
     ]
    }
   ],
   "source": [
    "lista = ['Rychard', 27, 'm', 4.5, 'm']\n",
    "print(lista)"
   ]
  },
  {
   "cell_type": "code",
   "execution_count": 12,
   "id": "c5c0215a",
   "metadata": {},
   "outputs": [],
   "source": [
    "lista.remove('m')"
   ]
  },
  {
   "cell_type": "code",
   "execution_count": 13,
   "id": "1a1fb401",
   "metadata": {},
   "outputs": [
    {
     "name": "stdout",
     "output_type": "stream",
     "text": [
      "['Rychard', 27, 4.5, 'm']\n"
     ]
    }
   ],
   "source": [
    "print(lista)"
   ]
  },
  {
   "cell_type": "code",
   "execution_count": 14,
   "id": "ebe7c0b6",
   "metadata": {},
   "outputs": [
    {
     "ename": "ValueError",
     "evalue": "list.remove(x): x not in list",
     "output_type": "error",
     "traceback": [
      "\u001b[0;31m---------------------------------------------------------------------------\u001b[0m",
      "\u001b[0;31mValueError\u001b[0m                                Traceback (most recent call last)",
      "\u001b[0;32m<ipython-input-14-6ef42550a6c6>\u001b[0m in \u001b[0;36m<module>\u001b[0;34m\u001b[0m\n\u001b[0;32m----> 1\u001b[0;31m \u001b[0mlista\u001b[0m\u001b[0;34m.\u001b[0m\u001b[0mremove\u001b[0m\u001b[0;34m(\u001b[0m\u001b[0;34m'f'\u001b[0m\u001b[0;34m)\u001b[0m\u001b[0;34m\u001b[0m\u001b[0;34m\u001b[0m\u001b[0m\n\u001b[0m",
      "\u001b[0;31mValueError\u001b[0m: list.remove(x): x not in list"
     ]
    }
   ],
   "source": [
    "lista.remove('f')"
   ]
  },
  {
   "cell_type": "code",
   "execution_count": 15,
   "id": "eab9d511",
   "metadata": {},
   "outputs": [
    {
     "name": "stdout",
     "output_type": "stream",
     "text": [
      "['Rychard', 27, 'm', 4.5, 'm']\n"
     ]
    }
   ],
   "source": [
    "lista = ['Rychard', 27, 'm', 4.5, 'm']\n",
    "print(lista)"
   ]
  },
  {
   "cell_type": "code",
   "execution_count": 16,
   "id": "f8f6ac40",
   "metadata": {},
   "outputs": [
    {
     "name": "stdout",
     "output_type": "stream",
     "text": [
      "[27, 'm', 4.5, 'm']\n"
     ]
    }
   ],
   "source": [
    "lista.pop(0)\n",
    "print(lista)"
   ]
  },
  {
   "cell_type": "code",
   "execution_count": 17,
   "id": "8d1dd3e6",
   "metadata": {},
   "outputs": [
    {
     "name": "stdout",
     "output_type": "stream",
     "text": [
      "[27, 'm', 4.5]\n"
     ]
    }
   ],
   "source": [
    "lista.pop(-1)\n",
    "print(lista)"
   ]
  },
  {
   "cell_type": "code",
   "execution_count": 18,
   "id": "a595047e",
   "metadata": {},
   "outputs": [
    {
     "ename": "IndexError",
     "evalue": "pop index out of range",
     "output_type": "error",
     "traceback": [
      "\u001b[0;31m---------------------------------------------------------------------------\u001b[0m",
      "\u001b[0;31mIndexError\u001b[0m                                Traceback (most recent call last)",
      "\u001b[0;32m<ipython-input-18-27258267006c>\u001b[0m in \u001b[0;36m<module>\u001b[0;34m\u001b[0m\n\u001b[0;32m----> 1\u001b[0;31m \u001b[0mlista\u001b[0m\u001b[0;34m.\u001b[0m\u001b[0mpop\u001b[0m\u001b[0;34m(\u001b[0m\u001b[0;36m10\u001b[0m\u001b[0;34m)\u001b[0m\u001b[0;34m\u001b[0m\u001b[0;34m\u001b[0m\u001b[0m\n\u001b[0m\u001b[1;32m      2\u001b[0m \u001b[0mprint\u001b[0m\u001b[0;34m(\u001b[0m\u001b[0mlista\u001b[0m\u001b[0;34m)\u001b[0m\u001b[0;34m\u001b[0m\u001b[0;34m\u001b[0m\u001b[0m\n",
      "\u001b[0;31mIndexError\u001b[0m: pop index out of range"
     ]
    }
   ],
   "source": [
    "lista.pop(10)\n",
    "print(lista)"
   ]
  },
  {
   "cell_type": "code",
   "execution_count": 24,
   "id": "24a3b4c6",
   "metadata": {},
   "outputs": [
    {
     "name": "stdout",
     "output_type": "stream",
     "text": [
      "[27, 'm', 4.5]\n",
      "[27, 'm']\n"
     ]
    }
   ],
   "source": [
    "posicao_removida = 2\n",
    "\n",
    "print(lista)\n",
    "\n",
    "if len(lista) > posicao_removida:\n",
    "    lista.pop(posicao_removida)\n",
    "    \n",
    "print(lista)"
   ]
  },
  {
   "cell_type": "markdown",
   "id": "0344cd63",
   "metadata": {},
   "source": [
    "**Para exercitar:** Remova os valores inseridos anteriormente, por posição (dois últimos) e por valor (fictícios 500 e 762)."
   ]
  },
  {
   "cell_type": "code",
   "execution_count": 25,
   "id": "00311c35",
   "metadata": {},
   "outputs": [
    {
     "name": "stdout",
     "output_type": "stream",
     "text": [
      "[762, 500, 22.29, 21.12, 20.48, 20.67, 21.92, -9, -88]\n"
     ]
    }
   ],
   "source": [
    "print(petr4)"
   ]
  },
  {
   "cell_type": "code",
   "execution_count": 26,
   "id": "560edc2b",
   "metadata": {},
   "outputs": [
    {
     "name": "stdout",
     "output_type": "stream",
     "text": [
      "[762, 500, 22.29, 21.12, 20.48, 20.67, 21.92]\n"
     ]
    }
   ],
   "source": [
    "petr4.pop(-1)\n",
    "petr4.pop(-1)\n",
    "print(petr4)"
   ]
  },
  {
   "cell_type": "code",
   "execution_count": 27,
   "id": "a61ecc5e",
   "metadata": {},
   "outputs": [
    {
     "name": "stdout",
     "output_type": "stream",
     "text": [
      "[22.29, 21.12, 20.48, 20.67, 21.92]\n"
     ]
    }
   ],
   "source": [
    "petr4.remove(500)\n",
    "petr4.remove(762)\n",
    "print(petr4)"
   ]
  },
  {
   "cell_type": "code",
   "execution_count": 28,
   "id": "aaad420e",
   "metadata": {},
   "outputs": [
    {
     "name": "stdout",
     "output_type": "stream",
     "text": [
      "[22.29, 21.12, 20.48, 20.67, 21.92]\n"
     ]
    }
   ],
   "source": [
    "print(petr4)"
   ]
  },
  {
   "cell_type": "markdown",
   "id": "bd660e85",
   "metadata": {},
   "source": [
    "- Operadores!\n",
    "    - `in`\n",
    "    - `+`\n",
    "    - `*`"
   ]
  },
  {
   "cell_type": "code",
   "execution_count": 30,
   "id": "fe1485e0",
   "metadata": {},
   "outputs": [
    {
     "name": "stdout",
     "output_type": "stream",
     "text": [
      "[27, 'm']\n"
     ]
    }
   ],
   "source": [
    "print(lista)"
   ]
  },
  {
   "cell_type": "code",
   "execution_count": 29,
   "id": "cd2d0e09",
   "metadata": {},
   "outputs": [
    {
     "name": "stdout",
     "output_type": "stream",
     "text": [
      "False\n"
     ]
    }
   ],
   "source": [
    "print('Rychard' in lista)"
   ]
  },
  {
   "cell_type": "code",
   "execution_count": 32,
   "id": "67d35e32",
   "metadata": {},
   "outputs": [
    {
     "name": "stdout",
     "output_type": "stream",
     "text": [
      "True\n"
     ]
    }
   ],
   "source": [
    "print(27 in lista)"
   ]
  },
  {
   "cell_type": "code",
   "execution_count": 33,
   "id": "45d6ce19",
   "metadata": {},
   "outputs": [
    {
     "name": "stdout",
     "output_type": "stream",
     "text": [
      "False\n"
     ]
    }
   ],
   "source": [
    "print('M' in lista)"
   ]
  },
  {
   "cell_type": "code",
   "execution_count": 34,
   "id": "0a2642e7",
   "metadata": {},
   "outputs": [
    {
     "name": "stdout",
     "output_type": "stream",
     "text": [
      "[5, 2, 9]\n",
      "['a', 'b', 'c']\n"
     ]
    }
   ],
   "source": [
    "lista_1 = [5, 2, 9]\n",
    "lista_2 = ['a', 'b', 'c']\n",
    "\n",
    "print(lista_1)\n",
    "print(lista_2)"
   ]
  },
  {
   "cell_type": "code",
   "execution_count": 37,
   "id": "c66b033d",
   "metadata": {},
   "outputs": [
    {
     "name": "stdout",
     "output_type": "stream",
     "text": [
      "['a', 'b', 'c', 5, 2, 9]\n"
     ]
    }
   ],
   "source": [
    "lista_3 = lista_2 + lista_1\n",
    "\n",
    "print(lista_3)"
   ]
  },
  {
   "cell_type": "code",
   "execution_count": 41,
   "id": "1a6f5486",
   "metadata": {},
   "outputs": [
    {
     "name": "stdout",
     "output_type": "stream",
     "text": [
      "['a', 'b', 'c', 'a', 'b', 'c', 'a', 'b', 'c', 'a', 'b', 'c', 'a', 'b', 'c']\n"
     ]
    }
   ],
   "source": [
    "lista_3 = lista_2*5\n",
    "print(lista_3)"
   ]
  },
  {
   "cell_type": "markdown",
   "id": "bb8ac58e",
   "metadata": {},
   "source": [
    "**Para exercitar:** Crie uma segunda lista com mais 5 elementos da PETR4. Concatene essa lista com a primeira e mostre o resultado na tela.\n",
    "\n",
    "- Mar 12, 23.17\n",
    "- Mar 11, 23.29\n",
    "- Mar 10, 22.34\n",
    "- Mar 09, 21.59\n",
    "- Mar 08, 21.10"
   ]
  },
  {
   "cell_type": "code",
   "execution_count": 42,
   "id": "b75adfeb",
   "metadata": {},
   "outputs": [
    {
     "name": "stdout",
     "output_type": "stream",
     "text": [
      "[22.29, 21.12, 20.48, 20.67, 21.92]\n"
     ]
    }
   ],
   "source": [
    "print(petr4)"
   ]
  },
  {
   "cell_type": "code",
   "execution_count": 43,
   "id": "3ef22a2d",
   "metadata": {},
   "outputs": [
    {
     "name": "stdout",
     "output_type": "stream",
     "text": [
      "[22.29, 21.12, 20.48, 20.67, 21.92, 23.17, 23.29, 22.34, 21.59, 21.1]\n"
     ]
    }
   ],
   "source": [
    "petr4_2 = [23.17, 23.29, 22.34, 21.59, 21.10]\n",
    "\n",
    "petr4_final = petr4 + petr4_2\n",
    "\n",
    "print(petr4_final)"
   ]
  },
  {
   "cell_type": "markdown",
   "id": "9c7f4ce5",
   "metadata": {},
   "source": [
    "- Usando for para iterar sobre listas"
   ]
  },
  {
   "cell_type": "code",
   "execution_count": 45,
   "id": "d4b4dd0d",
   "metadata": {},
   "outputs": [
    {
     "name": "stdout",
     "output_type": "stream",
     "text": [
      "24.29\n",
      "23.12\n",
      "22.48\n",
      "22.67\n",
      "23.92\n",
      "25.17\n",
      "25.29\n",
      "24.34\n",
      "23.59\n",
      "23.1\n"
     ]
    }
   ],
   "source": [
    "for i in petr4_final:\n",
    "    print(i + 2)"
   ]
  },
  {
   "cell_type": "markdown",
   "id": "00903a13",
   "metadata": {},
   "source": [
    "**Para exercitar**: percorra a lista PETR4, identificando o maior valor de cada uma."
   ]
  },
  {
   "cell_type": "code",
   "execution_count": 49,
   "id": "3e09f638",
   "metadata": {},
   "outputs": [
    {
     "name": "stdout",
     "output_type": "stream",
     "text": [
      "23.29\n"
     ]
    }
   ],
   "source": [
    "maior = 0\n",
    "\n",
    "for i in petr4_final:\n",
    "    \n",
    "    if i > maior:\n",
    "        maior = i\n",
    "    \n",
    "print(maior)"
   ]
  },
  {
   "cell_type": "code",
   "execution_count": 50,
   "id": "e5368c16",
   "metadata": {},
   "outputs": [
    {
     "name": "stdout",
     "output_type": "stream",
     "text": [
      "[22.29, 21.12, 20.48, 20.67, 21.92, 23.17, 23.29, 22.34, 21.59, 21.1]\n"
     ]
    }
   ],
   "source": [
    "print(petr4_final)"
   ]
  },
  {
   "cell_type": "markdown",
   "id": "cb71a86c",
   "metadata": {},
   "source": [
    "- Funções úteis:\n",
    "    - `max()`\n",
    "    - `min()`\n",
    "    - `sum()`\n",
    "    \n"
   ]
  },
  {
   "cell_type": "code",
   "execution_count": 51,
   "id": "898cf12c",
   "metadata": {},
   "outputs": [
    {
     "name": "stdout",
     "output_type": "stream",
     "text": [
      "[]\n",
      "digite valor da ação: 5\n",
      "digite valor da ação: 4\n",
      "digite valor da ação: 7\n",
      "digite valor da ação: 8\n",
      "digite valor da ação: 12\n",
      "[5.0, 4.0, 7.0, 8.0, 12.0]\n"
     ]
    }
   ],
   "source": [
    "lista = []\n",
    "\n",
    "print(lista)\n",
    "\n",
    "for i in range(5):\n",
    "    acao = float(input('digite valor da ação: '))\n",
    "    lista.append(acao)\n",
    "    \n",
    "print(lista)"
   ]
  },
  {
   "cell_type": "code",
   "execution_count": 52,
   "id": "ae5ca2a6",
   "metadata": {},
   "outputs": [
    {
     "name": "stdout",
     "output_type": "stream",
     "text": [
      "[5.0, 4.0, 7.0, 8.0, 12.0]\n"
     ]
    }
   ],
   "source": [
    "print(lista)"
   ]
  },
  {
   "cell_type": "code",
   "execution_count": 53,
   "id": "486ef8c0",
   "metadata": {},
   "outputs": [
    {
     "name": "stdout",
     "output_type": "stream",
     "text": [
      "7.2\n"
     ]
    }
   ],
   "source": [
    "soma = sum(lista)\n",
    "qtd_elementos = len(lista)\n",
    "\n",
    "media = soma/qtd_elementos\n",
    "\n",
    "print(media)"
   ]
  },
  {
   "cell_type": "code",
   "execution_count": 55,
   "id": "de17cc89",
   "metadata": {},
   "outputs": [
    {
     "name": "stdout",
     "output_type": "stream",
     "text": [
      "23.29\n"
     ]
    }
   ],
   "source": [
    "print(max(petr4_final))"
   ]
  },
  {
   "cell_type": "code",
   "execution_count": 56,
   "id": "d660837c",
   "metadata": {},
   "outputs": [
    {
     "name": "stdout",
     "output_type": "stream",
     "text": [
      "20.48\n"
     ]
    }
   ],
   "source": [
    "print(min(petr4_final))"
   ]
  },
  {
   "cell_type": "markdown",
   "id": "e8fb06a7",
   "metadata": {},
   "source": [
    "**Para exercitar:** Faça um programa que lê 4 números, mostrando na tela o maior deles."
   ]
  },
  {
   "cell_type": "code",
   "execution_count": 57,
   "id": "93b8b886",
   "metadata": {},
   "outputs": [
    {
     "name": "stdout",
     "output_type": "stream",
     "text": [
      "digite um número: 4\n",
      "digite um número: 2\n",
      "digite um número: 9\n",
      "digite um número: 7\n",
      "9\n"
     ]
    }
   ],
   "source": [
    "lista = []\n",
    "\n",
    "for i in range(4):\n",
    "    \n",
    "    numero = int(input('digite um número: '))\n",
    "    \n",
    "    lista.append(numero)\n",
    "    \n",
    "\n",
    "print(max(lista))"
   ]
  },
  {
   "cell_type": "markdown",
   "id": "2617dd96",
   "metadata": {},
   "source": [
    "- Invertendo listas com `.reverse()`"
   ]
  },
  {
   "cell_type": "code",
   "execution_count": 59,
   "id": "120ea8fd",
   "metadata": {},
   "outputs": [],
   "source": [
    "petr4_final.reverse()"
   ]
  },
  {
   "cell_type": "code",
   "execution_count": 61,
   "id": "2db336af",
   "metadata": {},
   "outputs": [
    {
     "name": "stdout",
     "output_type": "stream",
     "text": [
      "[21.1, 21.59, 22.34, 23.29, 23.17, 21.92, 20.67, 20.48, 21.12, 22.29]\n"
     ]
    }
   ],
   "source": [
    "print(petr4_final)"
   ]
  },
  {
   "cell_type": "markdown",
   "id": "1df84cc1",
   "metadata": {},
   "source": [
    "- Ordenando listas com `.sort()`\n",
    "    - Parâmetro `reverse`"
   ]
  },
  {
   "cell_type": "code",
   "execution_count": 64,
   "id": "dc683108",
   "metadata": {},
   "outputs": [],
   "source": [
    "petr4_final.sort(reverse = True)"
   ]
  },
  {
   "cell_type": "code",
   "execution_count": 65,
   "id": "84c414ee",
   "metadata": {},
   "outputs": [
    {
     "name": "stdout",
     "output_type": "stream",
     "text": [
      "[23.29, 23.17, 22.34, 22.29, 21.92, 21.59, 21.12, 21.1, 20.67, 20.48]\n"
     ]
    }
   ],
   "source": [
    "print(petr4_final)"
   ]
  },
  {
   "cell_type": "markdown",
   "id": "d31f428a",
   "metadata": {},
   "source": [
    "**Para exercitar**: Qual o segundo maior elemento da lista PETR4?"
   ]
  },
  {
   "cell_type": "code",
   "execution_count": 67,
   "id": "749c46b6",
   "metadata": {},
   "outputs": [
    {
     "name": "stdout",
     "output_type": "stream",
     "text": [
      "23.17\n"
     ]
    }
   ],
   "source": [
    "petr4_final.sort(reverse = True)\n",
    "print(petr4_final[1])"
   ]
  },
  {
   "cell_type": "markdown",
   "id": "ff768e0c",
   "metadata": {},
   "source": [
    "## Strings"
   ]
  },
  {
   "cell_type": "markdown",
   "id": "9cb4d0ab",
   "metadata": {},
   "source": [
    "- Aspas simples vs Aspas duplas\n",
    "- 3 aspas\n",
    "- `\\n`\n",
    "- `\\t`"
   ]
  },
  {
   "cell_type": "code",
   "execution_count": 74,
   "id": "f2fdb2bb",
   "metadata": {},
   "outputs": [
    {
     "name": "stdout",
     "output_type": "stream",
     "text": [
      "Let's Code\n",
      "<class 'str'>\n"
     ]
    }
   ],
   "source": [
    "nome = 'Let\\'s Code'\n",
    "print(nome)\n",
    "print(type(nome))"
   ]
  },
  {
   "cell_type": "code",
   "execution_count": 79,
   "id": "82af8e24",
   "metadata": {},
   "outputs": [
    {
     "name": "stdout",
     "output_type": "stream",
     "text": [
      "\n",
      "Let's \n",
      "Code\n",
      "+\n",
      "Empiricus\n",
      "\n",
      "<class 'str'>\n"
     ]
    }
   ],
   "source": [
    "nome = '''\n",
    "Let\\'s \n",
    "Code\n",
    "+\n",
    "Empiricus\n",
    "'''\n",
    "print(nome)\n",
    "print(type(nome))"
   ]
  },
  {
   "cell_type": "code",
   "execution_count": 83,
   "id": "458259ac",
   "metadata": {},
   "outputs": [
    {
     "name": "stdout",
     "output_type": "stream",
     "text": [
      "Let's Code\n",
      "+\n",
      "Empiricus\n",
      "<class 'str'>\n"
     ]
    }
   ],
   "source": [
    "nome = 'Let\\'s Code\\n+\\nEmpiricus'\n",
    "print(nome)\n",
    "print(type(nome))"
   ]
  },
  {
   "cell_type": "code",
   "execution_count": 85,
   "id": "3ed6a5a8",
   "metadata": {},
   "outputs": [
    {
     "name": "stdout",
     "output_type": "stream",
     "text": [
      "Let's Code\t+\tEmpiricus\n",
      "<class 'str'>\n"
     ]
    }
   ],
   "source": [
    "nome = 'Let\\'s Code\\t+\\tEmpiricus'\n",
    "print(nome)\n",
    "print(type(nome))"
   ]
  },
  {
   "cell_type": "markdown",
   "id": "480a05c7",
   "metadata": {},
   "source": [
    "- Operadores `*`, `+` e `in`"
   ]
  },
  {
   "cell_type": "code",
   "execution_count": 88,
   "id": "158baca0",
   "metadata": {},
   "outputs": [
    {
     "name": "stdout",
     "output_type": "stream",
     "text": [
      "zzzzzzzzzz\n"
     ]
    }
   ],
   "source": [
    "nome = 'z'\n",
    "novo_nome = nome*10\n",
    "\n",
    "print(novo_nome)"
   ]
  },
  {
   "cell_type": "code",
   "execution_count": 91,
   "id": "04c4d9b2",
   "metadata": {},
   "outputs": [
    {
     "name": "stdout",
     "output_type": "stream",
     "text": [
      "Let's Code + Empiricus\n"
     ]
    }
   ],
   "source": [
    "nome_1 = 'Let\\'s Code'\n",
    "nome_2 = 'Empiricus'\n",
    "\n",
    "nome_final = nome_1 + ' + ' + nome_2\n",
    "\n",
    "print(nome_final)"
   ]
  },
  {
   "cell_type": "code",
   "execution_count": 99,
   "id": "0fed20b2",
   "metadata": {},
   "outputs": [
    {
     "name": "stdout",
     "output_type": "stream",
     "text": [
      "Let's Code + Empiricus\n",
      "False\n"
     ]
    }
   ],
   "source": [
    "print(nome_final)\n",
    "\n",
    "print('Lets' in nome_final)"
   ]
  },
  {
   "cell_type": "markdown",
   "id": "7d01fa3c",
   "metadata": {},
   "source": [
    "- Slicing de strings"
   ]
  },
  {
   "cell_type": "code",
   "execution_count": 100,
   "id": "f726ef9f",
   "metadata": {},
   "outputs": [
    {
     "name": "stdout",
     "output_type": "stream",
     "text": [
      "Let's Code + Empiricus\n"
     ]
    }
   ],
   "source": [
    "print(nome_final)"
   ]
  },
  {
   "cell_type": "code",
   "execution_count": 103,
   "id": "45449ac2",
   "metadata": {},
   "outputs": [
    {
     "name": "stdout",
     "output_type": "stream",
     "text": [
      "Let's Code\n"
     ]
    }
   ],
   "source": [
    "print(nome_final[:10])"
   ]
  },
  {
   "cell_type": "code",
   "execution_count": 104,
   "id": "7ec8a963",
   "metadata": {},
   "outputs": [
    {
     "name": "stdout",
     "output_type": "stream",
     "text": [
      "Empiricus\n"
     ]
    }
   ],
   "source": [
    "print(nome_final[13:])"
   ]
  },
  {
   "cell_type": "code",
   "execution_count": 105,
   "id": "6f4a1e28",
   "metadata": {},
   "outputs": [
    {
     "name": "stdout",
     "output_type": "stream",
     "text": [
      " + \n"
     ]
    }
   ],
   "source": [
    "print(nome_final[10:13])"
   ]
  },
  {
   "cell_type": "markdown",
   "id": "ca243f93",
   "metadata": {},
   "source": [
    "**Para exercitar:** Valide se o conteúdo de uma variável do tipo string é um email. Para ser válido, um email precisa:\n",
    "- Ter @"
   ]
  },
  {
   "cell_type": "code",
   "execution_count": 108,
   "id": "19b7bd19",
   "metadata": {},
   "outputs": [
    {
     "name": "stdout",
     "output_type": "stream",
     "text": [
      "válido\n"
     ]
    }
   ],
   "source": [
    "email = 'rychard@letscode.com.br'\n",
    "\n",
    "if '@' in email:\n",
    "    print('válido')\n",
    "else:\n",
    "    print('não válido')"
   ]
  },
  {
   "cell_type": "markdown",
   "id": "e15c5d36",
   "metadata": {},
   "source": [
    "- Formatando uma string com variáveis"
   ]
  },
  {
   "cell_type": "code",
   "execution_count": 116,
   "id": "1855c382",
   "metadata": {},
   "outputs": [
    {
     "name": "stdout",
     "output_type": "stream",
     "text": [
      "Bom dia, André! Como você está?\n"
     ]
    }
   ],
   "source": [
    "nome = 'André'\n",
    "\n",
    "pergunta = 'Como você está?'\n",
    "\n",
    "mensagem = f'Bom dia, {nome}! {pergunta}'\n",
    "\n",
    "print(mensagem)"
   ]
  },
  {
   "cell_type": "markdown",
   "id": "01ef14de",
   "metadata": {},
   "source": [
    "- `.upper()`\n",
    "- `.lower()`\n",
    "- `.title()`\n",
    "- `.capitalize()`"
   ]
  },
  {
   "cell_type": "code",
   "execution_count": 122,
   "id": "bfb317c1",
   "metadata": {},
   "outputs": [
    {
     "name": "stdout",
     "output_type": "stream",
     "text": [
      "Bom dia, andré! como você está?\n"
     ]
    }
   ],
   "source": [
    "mensagem = mensagem.capitalize()\n",
    "print(mensagem)"
   ]
  },
  {
   "cell_type": "markdown",
   "id": "953b9e81",
   "metadata": {},
   "source": [
    "**Para exercitar:**  Faça um programa que leia e valide as seguintes informações. Em casos de leitura inválida, seu programa deve continuar tentando ler novos valores até que leituras válidas sejam feitas. *Seu programa deve ser case insensitive.*\n",
    "\n",
    "- Sexo: M, F ou Outro;"
   ]
  },
  {
   "cell_type": "code",
   "execution_count": 128,
   "id": "9d069424",
   "metadata": {},
   "outputs": [
    {
     "name": "stdout",
     "output_type": "stream",
     "text": [
      "Digite o sexo: outras coisas\n",
      "Leitura inválida!\n",
      "Digite o sexo: outrO\n",
      "Sexo validado: outro\n"
     ]
    }
   ],
   "source": [
    "sexo = input('Digite o sexo: ')\n",
    "\n",
    "sexo = sexo.lower()\n",
    "\n",
    "while not(sexo == 'm' or sexo == 'f' or sexo == 'outro'):\n",
    "    print('Leitura inválida!')\n",
    "    sexo = input('Digite o sexo: ')\n",
    "    sexo = sexo.lower()\n",
    "    \n",
    "print(f'Sexo validado: {sexo}')"
   ]
  },
  {
   "cell_type": "markdown",
   "id": "92245e84",
   "metadata": {},
   "source": [
    "- `.split()`"
   ]
  },
  {
   "cell_type": "code",
   "execution_count": 135,
   "id": "f757a953",
   "metadata": {},
   "outputs": [
    {
     "name": "stdout",
     "output_type": "stream",
     "text": [
      "['Anderson', 'Silva']\n",
      "Nome: Anderson\n",
      "Sobrenome: Silva\n"
     ]
    }
   ],
   "source": [
    "nome = 'Anderson Silva'\n",
    "\n",
    "lista_nomes = nome.split()\n",
    "\n",
    "print(lista_nomes)\n",
    "\n",
    "nome = lista_nomes[0]\n",
    "sobrenome = lista_nomes[1]\n",
    "\n",
    "print(f'Nome: {nome}')\n",
    "print(f'Sobrenome: {sobrenome}')"
   ]
  },
  {
   "cell_type": "markdown",
   "id": "022c1be5",
   "metadata": {},
   "source": [
    "- `.join()`"
   ]
  },
  {
   "cell_type": "code",
   "execution_count": 141,
   "id": "25b97591",
   "metadata": {},
   "outputs": [
    {
     "name": "stdout",
     "output_type": "stream",
     "text": [
      "abc 123 xyz\n"
     ]
    }
   ],
   "source": [
    "lista = ['abc', '123', 'xyz']\n",
    "\n",
    "print(' '.join(lista))"
   ]
  },
  {
   "cell_type": "code",
   "execution_count": 145,
   "id": "fc2a72f2",
   "metadata": {},
   "outputs": [
    {
     "name": "stdout",
     "output_type": "stream",
     "text": [
      "['Rychard', 'Nunes', 'Coelho', 'Guedes']\n",
      "Nome: Rychard\n",
      "Sobrenome: Nunes Coelho Guedes\n"
     ]
    }
   ],
   "source": [
    "nome = 'Rychard Nunes Coelho Guedes'\n",
    "\n",
    "lista_nomes = nome.split()\n",
    "\n",
    "print(lista_nomes)\n",
    "\n",
    "nome = lista_nomes[0]\n",
    "sobrenome = ' '.join(lista_nomes[1:])\n",
    "\n",
    "print(f'Nome: {nome}')\n",
    "print(f'Sobrenome: {sobrenome}')"
   ]
  },
  {
   "cell_type": "markdown",
   "id": "2d4add1c",
   "metadata": {},
   "source": [
    "**Para exercitar:** Faça um programa que recebe uma data no formato DD/MM/AAAA e indica se a data é válida ou não. Para a data ser válida, basta que o dia do mês seja igual ou menor que o máximo para o referido mês (ignorar anos bissextos)."
   ]
  },
  {
   "cell_type": "raw",
   "id": "e611c4be",
   "metadata": {},
   "source": [
    "jan - 31\n",
    "fev - 28\n",
    "mar - 31\n",
    "abr - 30\n",
    "mai - 31\n",
    "jun - 30\n",
    "jul - 31\n",
    "ago - 31\n",
    "set - 30\n",
    "out - 31\n",
    "nov - 30\n",
    "dez - 31"
   ]
  },
  {
   "cell_type": "raw",
   "id": "e6bebfd0",
   "metadata": {},
   "source": [
    "jan - 31\n",
    "mar - 31\n",
    "mai - 31\n",
    "jul - 31\n",
    "ago - 31\n",
    "out - 31\n",
    "dez - 31"
   ]
  },
  {
   "cell_type": "raw",
   "id": "9c716e23",
   "metadata": {},
   "source": [
    "abr - 30\n",
    "jun - 30\n",
    "set - 30\n",
    "nov - 30"
   ]
  },
  {
   "cell_type": "raw",
   "id": "039643c4",
   "metadata": {},
   "source": [
    "fev - 28"
   ]
  },
  {
   "cell_type": "code",
   "execution_count": 158,
   "id": "f13b770b",
   "metadata": {},
   "outputs": [
    {
     "name": "stdout",
     "output_type": "stream",
     "text": [
      "Digite uma data no formato DD/MM/AAAA: 01/01/2021\n",
      "['01', '01', '2021']\n",
      "data válida\n"
     ]
    }
   ],
   "source": [
    "data = input('Digite uma data no formato DD/MM/AAAA: ')\n",
    "\n",
    "elementos = data.split('/')\n",
    "\n",
    "print(elementos)\n",
    "\n",
    "dia = int(elementos[0])\n",
    "mes = int(elementos[1])\n",
    "\n",
    "data_valida = True\n",
    "\n",
    "if mes in [4, 6, 9, 11]:\n",
    "    if dia > 30:\n",
    "        data_valida = False\n",
    "elif mes == 2:\n",
    "    if dia > 28:\n",
    "        data_valida = False\n",
    "elif mes in [1, 3, 5, 7, 8, 10, 12]:\n",
    "    if dia > 31:\n",
    "        data_valida = False\n",
    "else:\n",
    "    data_valida = False\n",
    "    \n",
    "if data_valida:\n",
    "    print('data válida')\n",
    "else:\n",
    "    print('data inválida')"
   ]
  },
  {
   "cell_type": "code",
   "execution_count": 149,
   "id": "67dbcb9e",
   "metadata": {},
   "outputs": [
    {
     "name": "stdout",
     "output_type": "stream",
     "text": [
      "<class 'str'>\n"
     ]
    }
   ],
   "source": [
    "print(type(dia))"
   ]
  },
  {
   "cell_type": "markdown",
   "id": "6b85b99a",
   "metadata": {},
   "source": [
    "- `.replace()`"
   ]
  },
  {
   "cell_type": "code",
   "execution_count": 160,
   "id": "588e4871",
   "metadata": {},
   "outputs": [
    {
     "name": "stdout",
     "output_type": "stream",
     "text": [
      "o rato roeu a roupa do rei de roma\n",
      "o lato loeu a loupa do lei de loma\n",
      "o rato roeu a roupa do rei de veneza\n"
     ]
    }
   ],
   "source": [
    "ditado = 'o rato roeu a roupa do rei de roma'\n",
    "ditado_veneza = ditado.replace('roma', 'veneza')\n",
    "ditado_cebolinha = ditado.replace('r', 'l')\n",
    "\n",
    "print(ditado)\n",
    "print(ditado_cebolinha)\n",
    "print(ditado_veneza)"
   ]
  },
  {
   "cell_type": "markdown",
   "id": "f920a311",
   "metadata": {},
   "source": [
    "**Para exercitar:** Faça uma função que recebe um valor monetário no formato brasileiro (separador de milhar sendo ponto e casa decimal sendo vírgula) e o converte em float."
   ]
  },
  {
   "cell_type": "code",
   "execution_count": 168,
   "id": "6b9dd79f",
   "metadata": {},
   "outputs": [
    {
     "name": "stdout",
     "output_type": "stream",
     "text": [
      "1200000.45\n",
      "<class 'float'>\n"
     ]
    }
   ],
   "source": [
    "monetario = '1.200.000,45'\n",
    "\n",
    "monetario = monetario.replace('.', '')\n",
    "monetario = monetario.replace(',', '.')\n",
    "\n",
    "monetario = float(monetario)\n",
    "\n",
    "print(monetario)\n",
    "print(type(monetario))"
   ]
  },
  {
   "cell_type": "markdown",
   "id": "52f4736b",
   "metadata": {},
   "source": [
    "- `.find()`"
   ]
  },
  {
   "cell_type": "code",
   "execution_count": 173,
   "id": "8b23b22e",
   "metadata": {},
   "outputs": [
    {
     "name": "stdout",
     "output_type": "stream",
     "text": [
      "2\n"
     ]
    }
   ],
   "source": [
    "ditado = 'o rato roeu a roupa do rei de roma'\n",
    "\n",
    "posicao = ditado.find('rato')\n",
    "\n",
    "print(posicao)"
   ]
  },
  {
   "cell_type": "markdown",
   "id": "e0643780",
   "metadata": {},
   "source": [
    "- `.strip()`\n",
    "- `.rstrip()`\n",
    "- `.lstrip()`"
   ]
  },
  {
   "cell_type": "code",
   "execution_count": 177,
   "id": "5f4db965",
   "metadata": {},
   "outputs": [
    {
     "name": "stdout",
     "output_type": "stream",
     "text": [
      ".....o rato roeu a roupa do rei de roma....\n",
      "o rato roeu a roupa do rei de roma\n"
     ]
    }
   ],
   "source": [
    "ditado = '.....o rato roeu a roupa do rei de roma....'\n",
    "\n",
    "print(ditado)\n",
    "\n",
    "ditado_limpo = ditado.strip('.')\n",
    "\n",
    "print(ditado_limpo)"
   ]
  },
  {
   "cell_type": "code",
   "execution_count": 178,
   "id": "7eb312cf",
   "metadata": {},
   "outputs": [
    {
     "name": "stdout",
     "output_type": "stream",
     "text": [
      ".....o rato roeu a roupa do rei de roma....\n",
      "o rato roeu a roupa do rei de roma....\n"
     ]
    }
   ],
   "source": [
    "ditado = '.....o rato roeu a roupa do rei de roma....'\n",
    "\n",
    "print(ditado)\n",
    "\n",
    "ditado_limpo = ditado.lstrip('.')\n",
    "\n",
    "print(ditado_limpo)"
   ]
  },
  {
   "cell_type": "code",
   "execution_count": 179,
   "id": "76028e31",
   "metadata": {},
   "outputs": [
    {
     "name": "stdout",
     "output_type": "stream",
     "text": [
      ".....o rato roeu a roupa do rei de roma....\n",
      ".....o rato roeu a roupa do rei de roma\n"
     ]
    }
   ],
   "source": [
    "ditado = '.....o rato roeu a roupa do rei de roma....'\n",
    "\n",
    "print(ditado)\n",
    "\n",
    "ditado_limpo = ditado.rstrip('.')\n",
    "\n",
    "print(ditado_limpo)"
   ]
  },
  {
   "cell_type": "markdown",
   "id": "39975df4",
   "metadata": {},
   "source": [
    "- `.isdigit()`"
   ]
  },
  {
   "cell_type": "code",
   "execution_count": 185,
   "id": "f6a1c1e4",
   "metadata": {},
   "outputs": [
    {
     "name": "stdout",
     "output_type": "stream",
     "text": [
      "True\n"
     ]
    }
   ],
   "source": [
    "numero = '1230456'\n",
    "\n",
    "print(numero.isdigit())"
   ]
  },
  {
   "cell_type": "markdown",
   "id": "7b5e6b7f",
   "metadata": {},
   "source": [
    "**Para exercitar**: Valide se o conteúdo de uma variável do tipo string é válido. Para ser válido, um telefone precisa:\n",
    "- Ter apenas números\n",
    "- Ter ou 8 ou 9 dígitos"
   ]
  },
  {
   "cell_type": "code",
   "execution_count": 198,
   "id": "b3025045",
   "metadata": {},
   "outputs": [
    {
     "name": "stdout",
     "output_type": "stream",
     "text": [
      "número inválido\n"
     ]
    }
   ],
   "source": [
    "numero = '9999999999'\n",
    "\n",
    "if len(numero) in [8, 9] and numero.isdigit():\n",
    "    print('número válido')\n",
    "else:\n",
    "    print('número inválido')"
   ]
  }
 ],
 "metadata": {
  "kernelspec": {
   "display_name": "Python 3",
   "language": "python",
   "name": "python3"
  },
  "language_info": {
   "codemirror_mode": {
    "name": "ipython",
    "version": 3
   },
   "file_extension": ".py",
   "mimetype": "text/x-python",
   "name": "python",
   "nbconvert_exporter": "python",
   "pygments_lexer": "ipython3",
   "version": "3.6.6"
  }
 },
 "nbformat": 4,
 "nbformat_minor": 5
}
