{
 "cells": [
  {
   "cell_type": "markdown",
   "id": "fb2f2bde",
   "metadata": {},
   "source": [
    "# Na aula anterior..."
   ]
  },
  {
   "cell_type": "markdown",
   "id": "cc90a54f",
   "metadata": {},
   "source": [
    "A partir da classe funcionário a seguir, crie três métodos:\n",
    "- `pedir_auxilio`: se estiver em reunião, retornar a string `'agora não posso'`, caso contrário, `'estou disponível'`\n",
    "- `entrar_reuniao`: altera o atributo `reuniao` para `True`;\n",
    "- `sair_reuniao`: altera o atributo `reuniao` para `False`\n",
    "\n",
    "Em seguida, instanciar um objeto dessa classe e testar os métodos recém criados."
   ]
  },
  {
   "cell_type": "code",
   "execution_count": 10,
   "id": "eac8aca9",
   "metadata": {},
   "outputs": [],
   "source": [
    "class Funcionario:\n",
    "    \n",
    "    def __init__(self, nome, cargo, salario):\n",
    "        self.nome = nome\n",
    "        self.cargo = cargo\n",
    "        self.salario = salario\n",
    "        self.reuniao = False\n",
    "        \n",
    "    def sair_reuniao(self):\n",
    "        self.reuniao = False\n",
    "        \n",
    "    def entrar_reuniao(self):\n",
    "        self.reuniao = True\n",
    "        \n",
    "    def pedir_auxilio(self):\n",
    "        if self.reuniao == True:\n",
    "            return 'agora não posso'\n",
    "        else:\n",
    "            return 'estou disponível'"
   ]
  },
  {
   "cell_type": "code",
   "execution_count": 11,
   "id": "6db1ca37",
   "metadata": {},
   "outputs": [
    {
     "name": "stdout",
     "output_type": "stream",
     "text": [
      "False\n",
      "True\n",
      "False\n",
      "False\n"
     ]
    }
   ],
   "source": [
    "f1 = Funcionario('rychard', 'professor', 1000)\n",
    "print(f1.reuniao)\n",
    "\n",
    "f1.entrar_reuniao()\n",
    "print(f1.reuniao)\n",
    "\n",
    "f1.sair_reuniao()\n",
    "print(f1.reuniao)\n",
    "\n",
    "f1.sair_reuniao()\n",
    "print(f1.reuniao)"
   ]
  },
  {
   "cell_type": "code",
   "execution_count": 13,
   "id": "5616b6eb",
   "metadata": {},
   "outputs": [
    {
     "name": "stdout",
     "output_type": "stream",
     "text": [
      "estou disponível\n",
      "agora não posso\n"
     ]
    }
   ],
   "source": [
    "print(f1.pedir_auxilio())\n",
    "\n",
    "f1.entrar_reuniao()\n",
    "\n",
    "print(f1.pedir_auxilio())"
   ]
  },
  {
   "cell_type": "markdown",
   "id": "df690484",
   "metadata": {},
   "source": [
    "Crie uma classe Televisor cujos atributos são:\n",
    "\n",
    "- a. fabricante;\n",
    "- b. modelo;\n",
    "- c. canal atual;\n",
    "- d. lista de canais;\n",
    "- e. volume.\n",
    "\n",
    "Faça métodos para aumentar/diminuir volume, trocar o canal e sintonizar um novo canal, que adiciona um novo canal à lista de canais (somente se esse canal não estiver nessa lista). No atributo lista de canais, devem estar armazenados todos os canais já sintonizados dessa TV.\n",
    "\n",
    "Obs.: O volume não pode ser menor que zero e maior que cem; só se pode trocar para um canal que já esteja na lista de canais."
   ]
  },
  {
   "cell_type": "code",
   "execution_count": 41,
   "id": "a531a16d",
   "metadata": {},
   "outputs": [],
   "source": [
    "class Televisor:\n",
    "    \n",
    "    def __init__(self, fabricante, modelo):\n",
    "        self.fabricante = fabricante\n",
    "        self.modelo = modelo\n",
    "        \n",
    "        self.canal_atual = None\n",
    "        self.lista_canais = []\n",
    "        self.volume = 50\n",
    "        \n",
    "    def sintonizar_canal(self, canal):\n",
    "        if canal not in self.lista_canais:\n",
    "            self.lista_canais.append(canal)\n",
    "            print('canal sintonizado com sucesso')\n",
    "            \n",
    "        else:\n",
    "            print('canal já sintonizado')\n",
    "            \n",
    "    \n",
    "    def trocar_canal(self, canal):\n",
    "        if canal in self.lista_canais:\n",
    "            self.canal_atual = canal\n",
    "            print(f'alteração para canal {canal} feita com sucesso')\n",
    "    \n",
    "    def aumentar_volume(self, quantidade):\n",
    "        \n",
    "        if quantidade < 0:\n",
    "            print('erro: não se pode usar valores negativos')\n",
    "            \n",
    "        else:\n",
    "            self.volume += quantidade\n",
    "\n",
    "            if self.volume > 100:\n",
    "                self.volume = 100\n",
    "\n",
    "    def diminuir_volume(self, quantidade):\n",
    "        \n",
    "        if quantidade < 0:\n",
    "            print('erro: não se pode usar valores negativos')\n",
    "        \n",
    "        else:\n",
    "            self.volume -= quantidade\n",
    "\n",
    "            if self.volume < 0:\n",
    "                self.volume = 0"
   ]
  },
  {
   "cell_type": "code",
   "execution_count": 42,
   "id": "0c4007b2",
   "metadata": {},
   "outputs": [
    {
     "name": "stdout",
     "output_type": "stream",
     "text": [
      "marca\n",
      "m0001\n",
      "None\n",
      "[]\n",
      "50\n"
     ]
    }
   ],
   "source": [
    "t1 = Televisor('marca', 'm0001')\n",
    "print(t1.fabricante)\n",
    "print(t1.modelo)\n",
    "print(t1.canal_atual)\n",
    "print(t1.lista_canais)\n",
    "print(t1.volume)"
   ]
  },
  {
   "cell_type": "code",
   "execution_count": 43,
   "id": "42cd2013",
   "metadata": {},
   "outputs": [
    {
     "name": "stdout",
     "output_type": "stream",
     "text": [
      "canal sintonizado com sucesso\n",
      "[7]\n"
     ]
    }
   ],
   "source": [
    "t1.sintonizar_canal(7)\n",
    "print(t1.lista_canais)"
   ]
  },
  {
   "cell_type": "code",
   "execution_count": 44,
   "id": "a5e47c8d",
   "metadata": {},
   "outputs": [
    {
     "name": "stdout",
     "output_type": "stream",
     "text": [
      "canal já sintonizado\n",
      "[7]\n"
     ]
    }
   ],
   "source": [
    "t1.sintonizar_canal(7)\n",
    "print(t1.lista_canais)"
   ]
  },
  {
   "cell_type": "code",
   "execution_count": 45,
   "id": "6a61de5e",
   "metadata": {},
   "outputs": [
    {
     "name": "stdout",
     "output_type": "stream",
     "text": [
      "canal sintonizado com sucesso\n",
      "[7, 5]\n"
     ]
    }
   ],
   "source": [
    "t1.sintonizar_canal(5)\n",
    "print(t1.lista_canais)"
   ]
  },
  {
   "cell_type": "code",
   "execution_count": 47,
   "id": "14ee6d6d",
   "metadata": {},
   "outputs": [
    {
     "name": "stdout",
     "output_type": "stream",
     "text": [
      "alteração para canal 7 feita com sucesso\n",
      "7\n"
     ]
    }
   ],
   "source": [
    "t1.trocar_canal(7)\n",
    "print(t1.canal_atual)"
   ]
  },
  {
   "cell_type": "code",
   "execution_count": 48,
   "id": "f1925e5c",
   "metadata": {},
   "outputs": [
    {
     "name": "stdout",
     "output_type": "stream",
     "text": [
      "alteração para canal 5 feita com sucesso\n",
      "5\n"
     ]
    }
   ],
   "source": [
    "t1.trocar_canal(5)\n",
    "print(t1.canal_atual)"
   ]
  },
  {
   "cell_type": "code",
   "execution_count": 49,
   "id": "c61015eb",
   "metadata": {},
   "outputs": [
    {
     "name": "stdout",
     "output_type": "stream",
     "text": [
      "5\n"
     ]
    }
   ],
   "source": [
    "t1.trocar_canal(4)\n",
    "print(t1.canal_atual)"
   ]
  },
  {
   "cell_type": "code",
   "execution_count": 29,
   "id": "73410cc6",
   "metadata": {},
   "outputs": [
    {
     "name": "stdout",
     "output_type": "stream",
     "text": [
      "80\n"
     ]
    }
   ],
   "source": [
    "t1.aumentar_volume(30)\n",
    "print(t1.volume)"
   ]
  },
  {
   "cell_type": "code",
   "execution_count": 30,
   "id": "1925c9f7",
   "metadata": {},
   "outputs": [
    {
     "name": "stdout",
     "output_type": "stream",
     "text": [
      "100\n"
     ]
    }
   ],
   "source": [
    "t1.aumentar_volume(30)\n",
    "print(t1.volume)"
   ]
  },
  {
   "cell_type": "code",
   "execution_count": 31,
   "id": "538c93e3",
   "metadata": {},
   "outputs": [
    {
     "name": "stdout",
     "output_type": "stream",
     "text": [
      "100\n"
     ]
    }
   ],
   "source": [
    "t1.aumentar_volume(50)\n",
    "print(t1.volume)"
   ]
  },
  {
   "cell_type": "code",
   "execution_count": 32,
   "id": "92572b44",
   "metadata": {},
   "outputs": [
    {
     "name": "stdout",
     "output_type": "stream",
     "text": [
      "erro: não se pode usar valores negativos\n",
      "100\n"
     ]
    }
   ],
   "source": [
    "t1.aumentar_volume(-70)\n",
    "print(t1.volume)"
   ]
  },
  {
   "cell_type": "code",
   "execution_count": 33,
   "id": "763755da",
   "metadata": {},
   "outputs": [
    {
     "name": "stdout",
     "output_type": "stream",
     "text": [
      "erro: não se pode usar valores negativos\n",
      "100\n"
     ]
    }
   ],
   "source": [
    "t1.diminuir_volume(-70)\n",
    "print(t1.volume)"
   ]
  },
  {
   "cell_type": "code",
   "execution_count": 34,
   "id": "7e5bdc54",
   "metadata": {},
   "outputs": [
    {
     "name": "stdout",
     "output_type": "stream",
     "text": [
      "30\n"
     ]
    }
   ],
   "source": [
    "t1.diminuir_volume(70)\n",
    "print(t1.volume)"
   ]
  },
  {
   "cell_type": "code",
   "execution_count": 35,
   "id": "79b8fdbb",
   "metadata": {},
   "outputs": [
    {
     "name": "stdout",
     "output_type": "stream",
     "text": [
      "0\n"
     ]
    }
   ],
   "source": [
    "t1.diminuir_volume(70)\n",
    "print(t1.volume)"
   ]
  },
  {
   "cell_type": "markdown",
   "id": "1a43a9ea",
   "metadata": {},
   "source": [
    "Crie uma classe ControleRemoto cujo atributo é Televisão. Crie métodos para aumentar/diminuir volume, trocar o canal e sintonizar um novo canal, que adiciona um novo canal à lista de canais (somente se esse canal não estiver nessa lista)."
   ]
  },
  {
   "cell_type": "code",
   "execution_count": 50,
   "id": "144ffa60",
   "metadata": {},
   "outputs": [],
   "source": [
    "class ControleRemoto:\n",
    "    \n",
    "    def __init__(self, televisor):\n",
    "        self.televisor = televisor\n",
    "        \n",
    "    def aumentar_volume(self):\n",
    "        self.televisor.aumentar_volume(1)\n",
    "        \n",
    "    def diminuir_volume(self):\n",
    "        self.televisor.diminuir_volume(1)\n",
    "        \n",
    "    def trocar_canal(self, canal):\n",
    "        self.televisor.trocar_canal(canal)\n",
    "        \n",
    "    def sintonizar_canal(self, canal):\n",
    "        self.televisor.sintonizar_canal(canal)"
   ]
  },
  {
   "cell_type": "code",
   "execution_count": 51,
   "id": "a9e7d658",
   "metadata": {},
   "outputs": [
    {
     "name": "stdout",
     "output_type": "stream",
     "text": [
      "marca\n",
      "m0001\n",
      "None\n",
      "[]\n",
      "50\n"
     ]
    }
   ],
   "source": [
    "t1 = Televisor('marca', 'm0001')\n",
    "c1 = ControleRemoto(t1)\n",
    "\n",
    "print(t1.fabricante)\n",
    "print(t1.modelo)\n",
    "print(t1.canal_atual)\n",
    "print(t1.lista_canais)\n",
    "print(t1.volume)"
   ]
  },
  {
   "cell_type": "code",
   "execution_count": 52,
   "id": "d771eb7f",
   "metadata": {},
   "outputs": [],
   "source": [
    "c1.aumentar_volume()"
   ]
  },
  {
   "cell_type": "code",
   "execution_count": 53,
   "id": "d5d5d6f1",
   "metadata": {},
   "outputs": [
    {
     "name": "stdout",
     "output_type": "stream",
     "text": [
      "51\n"
     ]
    }
   ],
   "source": [
    "print(t1.volume)"
   ]
  },
  {
   "cell_type": "code",
   "execution_count": 54,
   "id": "1c96ff72",
   "metadata": {},
   "outputs": [
    {
     "name": "stdout",
     "output_type": "stream",
     "text": [
      "54\n"
     ]
    }
   ],
   "source": [
    "c1.aumentar_volume()\n",
    "c1.aumentar_volume()\n",
    "c1.aumentar_volume()\n",
    "print(t1.volume)"
   ]
  },
  {
   "cell_type": "code",
   "execution_count": 55,
   "id": "7a701847",
   "metadata": {},
   "outputs": [
    {
     "name": "stdout",
     "output_type": "stream",
     "text": [
      "0\n"
     ]
    }
   ],
   "source": [
    "for i in range(70):\n",
    "    c1.diminuir_volume()\n",
    "\n",
    "print(t1.volume)"
   ]
  },
  {
   "cell_type": "code",
   "execution_count": 56,
   "id": "56c1d042",
   "metadata": {},
   "outputs": [
    {
     "name": "stdout",
     "output_type": "stream",
     "text": [
      "0\n"
     ]
    }
   ],
   "source": [
    "c1.diminuir_volume()\n",
    "\n",
    "print(t1.volume)"
   ]
  },
  {
   "cell_type": "code",
   "execution_count": 58,
   "id": "20c530a8",
   "metadata": {},
   "outputs": [
    {
     "name": "stdout",
     "output_type": "stream",
     "text": [
      "None\n"
     ]
    }
   ],
   "source": [
    "c1.trocar_canal(7)\n",
    "\n",
    "print(t1.canal_atual)"
   ]
  },
  {
   "cell_type": "code",
   "execution_count": 59,
   "id": "ae09e137",
   "metadata": {},
   "outputs": [
    {
     "name": "stdout",
     "output_type": "stream",
     "text": [
      "[]\n"
     ]
    }
   ],
   "source": [
    "print(t1.lista_canais)"
   ]
  },
  {
   "cell_type": "code",
   "execution_count": 60,
   "id": "fb8bbbd9",
   "metadata": {},
   "outputs": [
    {
     "name": "stdout",
     "output_type": "stream",
     "text": [
      "canal sintonizado com sucesso\n",
      "[7]\n"
     ]
    }
   ],
   "source": [
    "c1.sintonizar_canal(7)\n",
    "\n",
    "print(t1.lista_canais)"
   ]
  },
  {
   "cell_type": "code",
   "execution_count": 61,
   "id": "da41ea29",
   "metadata": {},
   "outputs": [
    {
     "name": "stdout",
     "output_type": "stream",
     "text": [
      "alteração para canal 7 feita com sucesso\n",
      "7\n"
     ]
    }
   ],
   "source": [
    "c1.trocar_canal(7)\n",
    "\n",
    "print(t1.canal_atual)"
   ]
  },
  {
   "cell_type": "markdown",
   "id": "19f5e3af",
   "metadata": {},
   "source": [
    "# Hoje!"
   ]
  },
  {
   "cell_type": "markdown",
   "id": "47ff5e76",
   "metadata": {},
   "source": [
    "## Programação Orientada a Objetos\n",
    "\n",
    "### Métodos Mágicos"
   ]
  },
  {
   "cell_type": "markdown",
   "id": "dbe79ffd",
   "metadata": {},
   "source": [
    "Como podemos alterar o *print feio* da nossa classe Funcionario?"
   ]
  },
  {
   "cell_type": "code",
   "execution_count": 65,
   "id": "54a5e02a",
   "metadata": {},
   "outputs": [
    {
     "name": "stdout",
     "output_type": "stream",
     "text": [
      "<__main__.Funcionario object at 0x112dfadf0>\n",
      "<__main__.Funcionario object at 0x112dfa910>\n"
     ]
    }
   ],
   "source": [
    "class Funcionario:\n",
    "    \n",
    "    def __init__(self, nome, cargo, salario):\n",
    "        self.nome = nome\n",
    "        self.cargo = cargo\n",
    "        self.salario = salario\n",
    "        self.reuniao = False\n",
    "        \n",
    "    def sair_reuniao(self):\n",
    "        self.reuniao = False\n",
    "        \n",
    "    def entrar_reuniao(self):\n",
    "        self.reuniao = True\n",
    "        \n",
    "    def pedir_auxilio(self):\n",
    "        if self.reuniao == True:\n",
    "            return 'agora não posso'\n",
    "        else:\n",
    "            return 'estou disponível'\n",
    "\n",
    "f1 = Funcionario('rychard', 'professor', 1000)\n",
    "f2 = Funcionario('joao', 'professor', 1500)\n",
    "print(f1)\n",
    "print(f2)"
   ]
  },
  {
   "cell_type": "markdown",
   "id": "214594ad",
   "metadata": {},
   "source": [
    "- `__repr__`"
   ]
  },
  {
   "cell_type": "code",
   "execution_count": 66,
   "id": "70abe28c",
   "metadata": {},
   "outputs": [
    {
     "name": "stdout",
     "output_type": "stream",
     "text": [
      "professor rychard\n",
      "professor joao\n"
     ]
    }
   ],
   "source": [
    "class Funcionario:\n",
    "    \n",
    "    def __init__(self, nome, cargo, salario):\n",
    "        self.nome = nome\n",
    "        self.cargo = cargo\n",
    "        self.salario = salario\n",
    "        self.reuniao = False\n",
    "        \n",
    "    def __repr__(self):\n",
    "        representacao = f'{self.cargo} {self.nome}'\n",
    "        return representacao\n",
    "    \n",
    "    def sair_reuniao(self):\n",
    "        self.reuniao = False\n",
    "        \n",
    "    def entrar_reuniao(self):\n",
    "        self.reuniao = True\n",
    "        \n",
    "    def pedir_auxilio(self):\n",
    "        if self.reuniao == True:\n",
    "            return 'agora não posso'\n",
    "        else:\n",
    "            return 'estou disponível'\n",
    "        \n",
    "\n",
    "\n",
    "f1 = Funcionario('rychard', 'professor', 1000)\n",
    "f2 = Funcionario('joao', 'professor', 1500)\n",
    "print(f1)\n",
    "print(f2)"
   ]
  },
  {
   "cell_type": "markdown",
   "id": "3f3d4873",
   "metadata": {},
   "source": [
    "É comparar dois funcionários?"
   ]
  },
  {
   "cell_type": "code",
   "execution_count": 80,
   "id": "58e3260c",
   "metadata": {},
   "outputs": [
    {
     "name": "stdout",
     "output_type": "stream",
     "text": [
      "professor rychard\n",
      "professor joao\n"
     ]
    }
   ],
   "source": [
    "class Funcionario:\n",
    "    \n",
    "    def __init__(self, nome, cargo, salario):\n",
    "        self.nome = nome\n",
    "        self.cargo = cargo\n",
    "        self.salario = salario\n",
    "        self.reuniao = False\n",
    "        \n",
    "    def __repr__(self):\n",
    "        representacao = f'{self.cargo} {self.nome}'\n",
    "        return representacao\n",
    "    \n",
    "    def __gt__(self, other):\n",
    "        return self.salario > other.salario\n",
    "    \n",
    "    def __eq__(self, other):\n",
    "        return self.salario == other.salario\n",
    "    \n",
    "    def __add__(self, other):\n",
    "        return self.salario + other.salario\n",
    "    \n",
    "    def sair_reuniao(self):\n",
    "        self.reuniao = False\n",
    "        \n",
    "    def entrar_reuniao(self):\n",
    "        self.reuniao = True\n",
    "        \n",
    "    def pedir_auxilio(self):\n",
    "        if self.reuniao == True:\n",
    "            return 'agora não posso'\n",
    "        else:\n",
    "            return 'estou disponível'\n",
    "        \n",
    "    \n",
    "        \n",
    "        \n",
    "\n",
    "f1 = Funcionario('rychard', 'professor', 1000)\n",
    "f2 = Funcionario('joao', 'professor', 1500)\n",
    "print(f1)\n",
    "print(f2)"
   ]
  },
  {
   "cell_type": "code",
   "execution_count": 81,
   "id": "8498e2d5",
   "metadata": {},
   "outputs": [
    {
     "data": {
      "text/plain": [
       "False"
      ]
     },
     "execution_count": 81,
     "metadata": {},
     "output_type": "execute_result"
    }
   ],
   "source": [
    "f1 > f2"
   ]
  },
  {
   "cell_type": "code",
   "execution_count": 82,
   "id": "a6980ce0",
   "metadata": {},
   "outputs": [
    {
     "data": {
      "text/plain": [
       "True"
      ]
     },
     "execution_count": 82,
     "metadata": {},
     "output_type": "execute_result"
    }
   ],
   "source": [
    "f2 > f1"
   ]
  },
  {
   "cell_type": "code",
   "execution_count": 83,
   "id": "784ea0e7",
   "metadata": {},
   "outputs": [
    {
     "data": {
      "text/plain": [
       "False"
      ]
     },
     "execution_count": 83,
     "metadata": {},
     "output_type": "execute_result"
    }
   ],
   "source": [
    "f2 == f1"
   ]
  },
  {
   "cell_type": "markdown",
   "id": "e3d80a04",
   "metadata": {},
   "source": [
    "- `__gt__`: >\n",
    "- `__ge__`: >=\n",
    "- `__lt__`: <\n",
    "- `__le__`: <=\n",
    "- `__eq__`: ==\n",
    "- `__ne__`: !="
   ]
  },
  {
   "cell_type": "markdown",
   "id": "8e0df7ec",
   "metadata": {},
   "source": [
    "É possível somar dois funcionários?"
   ]
  },
  {
   "cell_type": "code",
   "execution_count": 84,
   "id": "099cb8a9",
   "metadata": {},
   "outputs": [
    {
     "data": {
      "text/plain": [
       "2500"
      ]
     },
     "execution_count": 84,
     "metadata": {},
     "output_type": "execute_result"
    }
   ],
   "source": [
    "f1 + f2"
   ]
  },
  {
   "cell_type": "markdown",
   "id": "f70e71db",
   "metadata": {},
   "source": [
    "- `__add__`: +\n",
    "- `__sub__`: -\n",
    "- `__mul__`: *\n",
    "- `__truediv__`: /\n",
    "- `__floordiv__`: //\n",
    "- `__mod__`: %\n",
    "- `__pow__`: **\n"
   ]
  },
  {
   "cell_type": "code",
   "execution_count": null,
   "id": "e654edf6",
   "metadata": {},
   "outputs": [],
   "source": []
  },
  {
   "cell_type": "markdown",
   "id": "ad520954",
   "metadata": {},
   "source": [
    "### Métodos e Atributos Estáticos"
   ]
  },
  {
   "cell_type": "markdown",
   "id": "c91f14f4",
   "metadata": {},
   "source": [
    "Algumas coisas não servem para apenas um objeto, mas para a classe inteira! Eles não dependerão do self. Podemos criar um atributo chamado `quantidade`, por exemplo, que vai contando a cada vez que um novo funcionário é criado. Perceba que esse valor não diz respeito a um objeto em específico, mas diz respeito à clase inteira."
   ]
  },
  {
   "cell_type": "code",
   "execution_count": 102,
   "id": "c17ff1eb",
   "metadata": {},
   "outputs": [
    {
     "name": "stdout",
     "output_type": "stream",
     "text": [
      "professor rychard\n",
      "professor joao\n"
     ]
    }
   ],
   "source": [
    "class Funcionario:\n",
    "    \n",
    "    quantidade = 0\n",
    "    \n",
    "    def __init__(self, nome, cargo, salario):\n",
    "        self.nome = nome\n",
    "        self.cargo = cargo\n",
    "        self.salario = salario\n",
    "        self.reuniao = False\n",
    "        \n",
    "        Funcionario.quantidade += 1\n",
    "        \n",
    "        self.matricula = f'{Funcionario.quantidade:04}'\n",
    "        \n",
    "    def __repr__(self):\n",
    "        representacao = f'{self.cargo} {self.nome}'\n",
    "        return representacao\n",
    "    \n",
    "    def __gt__(self, other):\n",
    "        return self.salario > other.salario\n",
    "    \n",
    "    def __eq__(self, other):\n",
    "        return self.salario == other.salario\n",
    "    \n",
    "    def __add__(self, other):\n",
    "        return self.salario + other.salario\n",
    "    \n",
    "    def sair_reuniao(self):\n",
    "        self.reuniao = False\n",
    "        \n",
    "    def entrar_reuniao(self):\n",
    "        self.reuniao = True\n",
    "        \n",
    "    def pedir_auxilio(self):\n",
    "        if self.reuniao == True:\n",
    "            return 'agora não posso'\n",
    "        else:\n",
    "            return 'estou disponível'\n",
    "        \n",
    "    @staticmethod\n",
    "    def pegar_quantidade():\n",
    "        return Funcionario.quantidade\n",
    "        \n",
    "\n",
    "f1 = Funcionario('rychard', 'professor', 1000)\n",
    "f2 = Funcionario('joao', 'professor', 1500)\n",
    "print(f1)\n",
    "print(f2)"
   ]
  },
  {
   "cell_type": "code",
   "execution_count": 96,
   "id": "8fa22f7f",
   "metadata": {},
   "outputs": [
    {
     "data": {
      "text/plain": [
       "'0001'"
      ]
     },
     "execution_count": 96,
     "metadata": {},
     "output_type": "execute_result"
    }
   ],
   "source": [
    "f1.matricula"
   ]
  },
  {
   "cell_type": "code",
   "execution_count": 97,
   "id": "eff6d556",
   "metadata": {},
   "outputs": [
    {
     "data": {
      "text/plain": [
       "'0002'"
      ]
     },
     "execution_count": 97,
     "metadata": {},
     "output_type": "execute_result"
    }
   ],
   "source": [
    "f2.matricula"
   ]
  },
  {
   "cell_type": "code",
   "execution_count": 98,
   "id": "a0b71409",
   "metadata": {},
   "outputs": [
    {
     "data": {
      "text/plain": [
       "2"
      ]
     },
     "execution_count": 98,
     "metadata": {},
     "output_type": "execute_result"
    }
   ],
   "source": [
    "Funcionario.quantidade"
   ]
  },
  {
   "cell_type": "code",
   "execution_count": 113,
   "id": "8caccad0",
   "metadata": {},
   "outputs": [],
   "source": [
    "fx = Funcionario('renata', 'professor', 1700)"
   ]
  },
  {
   "cell_type": "code",
   "execution_count": 101,
   "id": "43f2603c",
   "metadata": {},
   "outputs": [
    {
     "data": {
      "text/plain": [
       "'0003'"
      ]
     },
     "execution_count": 101,
     "metadata": {},
     "output_type": "execute_result"
    }
   ],
   "source": [
    "fx.matricula"
   ]
  },
  {
   "cell_type": "code",
   "execution_count": 114,
   "id": "6af8757c",
   "metadata": {},
   "outputs": [
    {
     "data": {
      "text/plain": [
       "9"
      ]
     },
     "execution_count": 114,
     "metadata": {},
     "output_type": "execute_result"
    }
   ],
   "source": [
    "Funcionario.quantidade"
   ]
  },
  {
   "cell_type": "code",
   "execution_count": 115,
   "id": "21d34513",
   "metadata": {},
   "outputs": [
    {
     "data": {
      "text/plain": [
       "9"
      ]
     },
     "execution_count": 115,
     "metadata": {},
     "output_type": "execute_result"
    }
   ],
   "source": [
    "Funcionario.pegar_quantidade()"
   ]
  },
  {
   "cell_type": "markdown",
   "id": "49d12b80",
   "metadata": {},
   "source": [
    "### Herança e Polimorfismo\n",
    "\n",
    "À medida que a empresa vai crescendo, precisamos criar tipos de funcionários diferentes, que vão trabalhar de forma diferente. Podemos utilizar de herança e polimorfismo pra otimizar e melhor organizar os pontos em comum."
   ]
  },
  {
   "cell_type": "code",
   "execution_count": 165,
   "id": "d85411ea",
   "metadata": {},
   "outputs": [],
   "source": [
    "class Funcionario:\n",
    "    \n",
    "    quantidade = 0\n",
    "    \n",
    "    def __init__(self, nome, salario):\n",
    "        self.nome = nome\n",
    "        self.salario = salario\n",
    "        self.reuniao = False\n",
    "        self.cargo = 'Funcionario'\n",
    "        \n",
    "        Funcionario.quantidade += 1\n",
    "        \n",
    "        self.matricula = f'{Funcionario.quantidade:05}'\n",
    "        \n",
    "    def __repr__(self):\n",
    "        representacao = f'{self.nome} {self.salario} {self.cargo}'\n",
    "        return representacao\n",
    "    \n",
    "    def __gt__(self, other):\n",
    "        return self.salario > other.salario\n",
    "    \n",
    "    def __eq__(self, other):\n",
    "        return self.salario == other.salario\n",
    "    \n",
    "    def __add__(self, other):\n",
    "        return self.salario + other.salario\n",
    "    \n",
    "    def sair_reuniao(self):\n",
    "        self.reuniao = False\n",
    "        \n",
    "    def entrar_reuniao(self):\n",
    "        self.reuniao = True\n",
    "        \n",
    "    def pedir_auxilio(self):\n",
    "        if self.reuniao == True:\n",
    "            return 'agora não posso'\n",
    "        else:\n",
    "            return 'estou disponível'"
   ]
  },
  {
   "cell_type": "code",
   "execution_count": 166,
   "id": "77f37070",
   "metadata": {},
   "outputs": [],
   "source": [
    "class Professor(Funcionario):\n",
    "    \n",
    "    def __init__(self, nome, salario):\n",
    "        super().__init__(nome, salario)\n",
    "        self.cargo = 'Professor'\n",
    "        \n",
    "    def trabalhar(self):\n",
    "        return 'inciando aula'\n",
    "    \n",
    "    \n",
    "class RH(Funcionario):\n",
    "    \n",
    "    def __init__(self, nome, salario):\n",
    "        super().__init__(nome, salario)\n",
    "        self.cargo = 'RH'\n",
    "        \n",
    "    def trabalhar(self):\n",
    "        return 'iniciando o hunting'"
   ]
  },
  {
   "cell_type": "code",
   "execution_count": 167,
   "id": "04dead00",
   "metadata": {},
   "outputs": [
    {
     "name": "stdout",
     "output_type": "stream",
     "text": [
      "rychard 1000 Professor\n",
      "joao 1500 RH\n"
     ]
    }
   ],
   "source": [
    "f1 = Professor('rychard', 1000)\n",
    "f2 = RH('joao', 1500)\n",
    "print(f1)\n",
    "print(f2)"
   ]
  },
  {
   "cell_type": "code",
   "execution_count": 168,
   "id": "f86497c4",
   "metadata": {},
   "outputs": [
    {
     "name": "stdout",
     "output_type": "stream",
     "text": [
      "00001\n"
     ]
    }
   ],
   "source": [
    "print(f1.matricula)"
   ]
  },
  {
   "cell_type": "code",
   "execution_count": 169,
   "id": "7c3df341",
   "metadata": {},
   "outputs": [
    {
     "name": "stdout",
     "output_type": "stream",
     "text": [
      "00002\n"
     ]
    }
   ],
   "source": [
    "print(f2.matricula)"
   ]
  },
  {
   "cell_type": "code",
   "execution_count": 170,
   "id": "c4762fd3",
   "metadata": {},
   "outputs": [
    {
     "name": "stdout",
     "output_type": "stream",
     "text": [
      "inciando aula\n"
     ]
    }
   ],
   "source": [
    "print(f1.trabalhar())"
   ]
  },
  {
   "cell_type": "code",
   "execution_count": 171,
   "id": "c0a6be4d",
   "metadata": {},
   "outputs": [
    {
     "name": "stdout",
     "output_type": "stream",
     "text": [
      "iniciando o hunting\n"
     ]
    }
   ],
   "source": [
    "print(f2.trabalhar())"
   ]
  },
  {
   "cell_type": "code",
   "execution_count": 172,
   "id": "df2d6690",
   "metadata": {},
   "outputs": [
    {
     "name": "stdout",
     "output_type": "stream",
     "text": [
      "Professor\n"
     ]
    }
   ],
   "source": [
    "print(f1.cargo)"
   ]
  },
  {
   "cell_type": "code",
   "execution_count": 173,
   "id": "46ac1d7b",
   "metadata": {},
   "outputs": [
    {
     "name": "stdout",
     "output_type": "stream",
     "text": [
      "RH\n"
     ]
    }
   ],
   "source": [
    "print(f2.cargo)"
   ]
  },
  {
   "cell_type": "code",
   "execution_count": 174,
   "id": "36b8b62a",
   "metadata": {},
   "outputs": [
    {
     "name": "stdout",
     "output_type": "stream",
     "text": [
      "rychard 1000 Professor\n"
     ]
    }
   ],
   "source": [
    "print(f1)"
   ]
  },
  {
   "cell_type": "code",
   "execution_count": 175,
   "id": "9c2fdda5",
   "metadata": {},
   "outputs": [
    {
     "name": "stdout",
     "output_type": "stream",
     "text": [
      "joao 1500 RH\n"
     ]
    }
   ],
   "source": [
    "print(f2)"
   ]
  },
  {
   "cell_type": "code",
   "execution_count": 176,
   "id": "053dabd2",
   "metadata": {},
   "outputs": [
    {
     "data": {
      "text/plain": [
       "False"
      ]
     },
     "execution_count": 176,
     "metadata": {},
     "output_type": "execute_result"
    }
   ],
   "source": [
    "f1 > f2"
   ]
  },
  {
   "cell_type": "markdown",
   "id": "edaea0c7",
   "metadata": {},
   "source": [
    "**Para exercitar**: A partir da classe ContaCorrente, criada na aula passada, faça classe ContaVip que difere da ContaCorrente por ter cheque especial (novo atributo) e é filha da classe ContaCorrente. Você precisa implementar os métodos para saque, transferência ou depósito?\n",
    "\n"
   ]
  },
  {
   "cell_type": "code",
   "execution_count": 181,
   "id": "9e3780a3",
   "metadata": {},
   "outputs": [],
   "source": [
    "import datetime"
   ]
  },
  {
   "cell_type": "markdown",
   "id": "5983fb2b",
   "metadata": {},
   "source": [
    "- Criem o `__repr__()` do cliente!"
   ]
  },
  {
   "cell_type": "code",
   "execution_count": 187,
   "id": "d75bee91",
   "metadata": {},
   "outputs": [],
   "source": [
    "class Cliente:\n",
    "    \n",
    "    def __init__(self, nome, idade, email):\n",
    "        self.nome = nome\n",
    "        self.idade = idade\n",
    "        self.email = email\n",
    "        self.inicio_relacionamento = datetime.datetime.now()\n",
    "        \n",
    "    def __repr__(self):\n",
    "        return f'{self.nome} {self.inicio_relacionamento}'\n",
    "        \n",
    "    def visualizar_informacoes(self):\n",
    "        print('nome:', self.nome)\n",
    "        print('idade:', self.idade)\n",
    "        print('email:', self.email)\n",
    "        print('inicio de relacionamento:', self.inicio_relacionamento)\n",
    "        \n",
    "    def mais_antigo(self, y):\n",
    "        if self.inicio_relacionamento < y.inicio_relacionamento:\n",
    "            return True\n",
    "        else:\n",
    "            return False"
   ]
  },
  {
   "cell_type": "code",
   "execution_count": 221,
   "id": "7933701f",
   "metadata": {},
   "outputs": [],
   "source": [
    "class ContaCorrente:\n",
    "    \n",
    "    def __init__(self, cliente):\n",
    "        self.cliente = cliente\n",
    "        self.saldo = 0\n",
    "        \n",
    "    def __repr__(self):\n",
    "        return f'{self.cliente}\\n{self.saldo}'\n",
    "        \n",
    "    def deposito(self, valor):\n",
    "        if valor < 0:\n",
    "            print('impossível fazer depósitos com valores negativos')\n",
    "            return False\n",
    "        else:\n",
    "            self.saldo += valor\n",
    "            return True\n",
    "            \n",
    "    def saque(self, valor):\n",
    "        if valor < 0:\n",
    "            print('impossível fazer saques com valores negativos')\n",
    "            return False\n",
    "        elif self.saldo < valor:\n",
    "            print('saldo insuficiente, operacao não realizada')\n",
    "            return False\n",
    "        else:\n",
    "            self.saldo -= valor\n",
    "            return True\n",
    "            \n",
    "    def transferencia(self, conta_destino, valor): \n",
    "        \n",
    "        realizada = self.saque(valor)\n",
    "        \n",
    "        if realizada == True:\n",
    "            conta_destino.deposito(valor)\n",
    "            return True\n",
    "        \n",
    "        else:\n",
    "            print('operacao não realizada')\n",
    "            return False"
   ]
  },
  {
   "cell_type": "code",
   "execution_count": 222,
   "id": "b56d7f04",
   "metadata": {},
   "outputs": [],
   "source": [
    "class ContaVip(ContaCorrente):\n",
    "    \n",
    "    def __init__(self, cliente, cheque_especial = 100):\n",
    "        super().__init__(cliente)\n",
    "        self.cheque_especial = cheque_especial\n",
    "        \n",
    "    def saque(self, valor):\n",
    "        if valor < 0:\n",
    "            print('impossível fazer saques com valores negativos')\n",
    "            return False\n",
    "        elif self.saldo + self.cheque_especial < valor:\n",
    "            print('saldo insuficiente, operacao não realizada')\n",
    "            return False\n",
    "        else:\n",
    "            self.saldo -= valor\n",
    "            return True"
   ]
  },
  {
   "cell_type": "code",
   "execution_count": 223,
   "id": "36fd034d",
   "metadata": {},
   "outputs": [],
   "source": [
    "c1 = Cliente('rychard', 27, 'rychard@letscode')\n",
    "c2 = Cliente('joao', 30, 'joao@letscode')"
   ]
  },
  {
   "cell_type": "code",
   "execution_count": 224,
   "id": "6423bf9d",
   "metadata": {},
   "outputs": [
    {
     "name": "stdout",
     "output_type": "stream",
     "text": [
      "rychard 2021-07-14 18:47:41.106931\n",
      "joao 2021-07-14 18:47:41.106973\n"
     ]
    }
   ],
   "source": [
    "print(c1)\n",
    "print(c2)"
   ]
  },
  {
   "cell_type": "code",
   "execution_count": 225,
   "id": "3613a9ee",
   "metadata": {},
   "outputs": [],
   "source": [
    "cc1 = ContaCorrente(c1)\n",
    "cv1 = ContaVip(c2)"
   ]
  },
  {
   "cell_type": "code",
   "execution_count": 226,
   "id": "93bbb6d6",
   "metadata": {},
   "outputs": [
    {
     "name": "stdout",
     "output_type": "stream",
     "text": [
      "rychard 2021-07-14 18:47:41.106931\n",
      "0\n"
     ]
    }
   ],
   "source": [
    "print(cc1)"
   ]
  },
  {
   "cell_type": "code",
   "execution_count": 228,
   "id": "8fa15007",
   "metadata": {},
   "outputs": [
    {
     "name": "stdout",
     "output_type": "stream",
     "text": [
      "joao 2021-07-14 18:47:41.106973\n",
      "0\n"
     ]
    }
   ],
   "source": [
    "print(cv1)"
   ]
  },
  {
   "cell_type": "code",
   "execution_count": 229,
   "id": "392b795c",
   "metadata": {},
   "outputs": [
    {
     "data": {
      "text/plain": [
       "True"
      ]
     },
     "execution_count": 229,
     "metadata": {},
     "output_type": "execute_result"
    }
   ],
   "source": [
    "cc1.deposito(100)"
   ]
  },
  {
   "cell_type": "code",
   "execution_count": 230,
   "id": "e61a4aa2",
   "metadata": {},
   "outputs": [
    {
     "name": "stdout",
     "output_type": "stream",
     "text": [
      "rychard 2021-07-14 18:47:41.106931\n",
      "100\n"
     ]
    }
   ],
   "source": [
    "print(cc1)"
   ]
  },
  {
   "cell_type": "code",
   "execution_count": 231,
   "id": "156bd200",
   "metadata": {},
   "outputs": [
    {
     "data": {
      "text/plain": [
       "True"
      ]
     },
     "execution_count": 231,
     "metadata": {},
     "output_type": "execute_result"
    }
   ],
   "source": [
    "cv1.deposito(100)"
   ]
  },
  {
   "cell_type": "code",
   "execution_count": 232,
   "id": "9ce086a8",
   "metadata": {},
   "outputs": [
    {
     "name": "stdout",
     "output_type": "stream",
     "text": [
      "joao 2021-07-14 18:47:41.106973\n",
      "100\n"
     ]
    }
   ],
   "source": [
    "print(cv1)"
   ]
  },
  {
   "cell_type": "code",
   "execution_count": 233,
   "id": "cebf7d37",
   "metadata": {},
   "outputs": [
    {
     "name": "stdout",
     "output_type": "stream",
     "text": [
      "saldo insuficiente, operacao não realizada\n",
      "operacao não realizada\n"
     ]
    },
    {
     "data": {
      "text/plain": [
       "False"
      ]
     },
     "execution_count": 233,
     "metadata": {},
     "output_type": "execute_result"
    }
   ],
   "source": [
    "cc1.transferencia(cv1, 120)"
   ]
  },
  {
   "cell_type": "code",
   "execution_count": 234,
   "id": "7b697267",
   "metadata": {},
   "outputs": [
    {
     "name": "stdout",
     "output_type": "stream",
     "text": [
      "rychard 2021-07-14 18:47:41.106931\n",
      "100\n"
     ]
    }
   ],
   "source": [
    "print(cc1)"
   ]
  },
  {
   "cell_type": "code",
   "execution_count": 235,
   "id": "d3c083c5",
   "metadata": {},
   "outputs": [
    {
     "data": {
      "text/plain": [
       "True"
      ]
     },
     "execution_count": 235,
     "metadata": {},
     "output_type": "execute_result"
    }
   ],
   "source": [
    "cv1.transferencia(cc1, 120)"
   ]
  },
  {
   "cell_type": "code",
   "execution_count": 236,
   "id": "45539bcf",
   "metadata": {},
   "outputs": [
    {
     "name": "stdout",
     "output_type": "stream",
     "text": [
      "joao 2021-07-14 18:47:41.106973\n",
      "-20\n"
     ]
    }
   ],
   "source": [
    "print(cv1)"
   ]
  },
  {
   "cell_type": "code",
   "execution_count": 237,
   "id": "fdf13756",
   "metadata": {},
   "outputs": [
    {
     "name": "stdout",
     "output_type": "stream",
     "text": [
      "rychard 2021-07-14 18:47:41.106931\n",
      "220\n"
     ]
    }
   ],
   "source": [
    "print(cc1)"
   ]
  },
  {
   "cell_type": "code",
   "execution_count": 238,
   "id": "116215ba",
   "metadata": {},
   "outputs": [
    {
     "name": "stdout",
     "output_type": "stream",
     "text": [
      "100\n"
     ]
    }
   ],
   "source": [
    "print(cv1.cheque_especial)"
   ]
  },
  {
   "cell_type": "code",
   "execution_count": 239,
   "id": "cce06189",
   "metadata": {},
   "outputs": [
    {
     "name": "stdout",
     "output_type": "stream",
     "text": [
      "joao 2021-07-14 18:47:41.106973\n",
      "-20\n"
     ]
    }
   ],
   "source": [
    "print(cv1)"
   ]
  },
  {
   "cell_type": "code",
   "execution_count": 240,
   "id": "fc8995cb",
   "metadata": {},
   "outputs": [
    {
     "data": {
      "text/plain": [
       "True"
      ]
     },
     "execution_count": 240,
     "metadata": {},
     "output_type": "execute_result"
    }
   ],
   "source": [
    "cv1.saque(80)"
   ]
  },
  {
   "cell_type": "code",
   "execution_count": 241,
   "id": "4c552f6b",
   "metadata": {},
   "outputs": [
    {
     "name": "stdout",
     "output_type": "stream",
     "text": [
      "joao 2021-07-14 18:47:41.106973\n",
      "-100\n"
     ]
    }
   ],
   "source": [
    "print(cv1)"
   ]
  },
  {
   "cell_type": "code",
   "execution_count": 242,
   "id": "af64c7d6",
   "metadata": {},
   "outputs": [
    {
     "name": "stdout",
     "output_type": "stream",
     "text": [
      "saldo insuficiente, operacao não realizada\n"
     ]
    },
    {
     "data": {
      "text/plain": [
       "False"
      ]
     },
     "execution_count": 242,
     "metadata": {},
     "output_type": "execute_result"
    }
   ],
   "source": [
    "cv1.saque(1)"
   ]
  },
  {
   "cell_type": "markdown",
   "id": "4714acae",
   "metadata": {},
   "source": [
    "## Tópicos Avançados"
   ]
  },
  {
   "cell_type": "markdown",
   "id": "ef9c6779",
   "metadata": {},
   "source": [
    "- atribuição com `if-else`"
   ]
  },
  {
   "cell_type": "code",
   "execution_count": 245,
   "id": "9bf90637",
   "metadata": {},
   "outputs": [
    {
     "name": "stdout",
     "output_type": "stream",
     "text": [
      "valor_alto\n"
     ]
    }
   ],
   "source": [
    "# var_y = 'valor alto', se var_x > 100\n",
    "# var_y = 'valor baixo', se var_x <= 100\n",
    "\n",
    "var_x = 150\n",
    "\n",
    "if var_x > 100:\n",
    "    var_y = 'valor_alto'\n",
    "else:\n",
    "    var_y = 'valor_baixo'\n",
    "    \n",
    "print(var_y)\n"
   ]
  },
  {
   "cell_type": "code",
   "execution_count": 247,
   "id": "e15e50b8",
   "metadata": {},
   "outputs": [
    {
     "name": "stdout",
     "output_type": "stream",
     "text": [
      "valor_baixo\n"
     ]
    }
   ],
   "source": [
    "var_x = 90\n",
    "\n",
    "# var_y = 'valor alto', se var_x > 100\n",
    "# var_y = 'valor baixo', se var_x <= 100\n",
    "\n",
    "var_y = 'valor_alto' if var_x > 100 else 'valor_baixo'\n",
    "    \n",
    "print(var_y)\n"
   ]
  },
  {
   "cell_type": "code",
   "execution_count": 248,
   "id": "8a3e1c9a",
   "metadata": {},
   "outputs": [],
   "source": [
    "class Funcionario:\n",
    "    \n",
    "    def __init__(self, nome, cargo, salario):\n",
    "        self.nome = nome\n",
    "        self.cargo = cargo\n",
    "        self.salario = salario\n",
    "        self.reuniao = False\n",
    "        \n",
    "    def sair_reuniao(self):\n",
    "        self.reuniao = False\n",
    "        \n",
    "    def entrar_reuniao(self):\n",
    "        self.reuniao = True\n",
    "        \n",
    "    def pedir_auxilio(self):\n",
    "        return 'agora não posso' if self.reuniao == True else 'estou disponível'"
   ]
  },
  {
   "cell_type": "code",
   "execution_count": 249,
   "id": "2d52ce24",
   "metadata": {},
   "outputs": [
    {
     "name": "stdout",
     "output_type": "stream",
     "text": [
      "False\n",
      "True\n",
      "False\n",
      "False\n"
     ]
    }
   ],
   "source": [
    "f1 = Funcionario('rychard', 'professor', 1000)\n",
    "print(f1.reuniao)\n",
    "\n",
    "f1.entrar_reuniao()\n",
    "print(f1.reuniao)\n",
    "\n",
    "f1.sair_reuniao()\n",
    "print(f1.reuniao)\n",
    "\n",
    "f1.sair_reuniao()\n",
    "print(f1.reuniao)"
   ]
  },
  {
   "cell_type": "code",
   "execution_count": 250,
   "id": "a273ae16",
   "metadata": {},
   "outputs": [
    {
     "name": "stdout",
     "output_type": "stream",
     "text": [
      "estou disponível\n",
      "agora não posso\n"
     ]
    }
   ],
   "source": [
    "print(f1.pedir_auxilio())\n",
    "\n",
    "f1.entrar_reuniao()\n",
    "\n",
    "print(f1.pedir_auxilio())"
   ]
  },
  {
   "cell_type": "markdown",
   "id": "16722d61",
   "metadata": {},
   "source": [
    "- iterando com `enumerate`"
   ]
  },
  {
   "cell_type": "code",
   "execution_count": 252,
   "id": "fdfcc2dc",
   "metadata": {},
   "outputs": [
    {
     "name": "stdout",
     "output_type": "stream",
     "text": [
      "0 9\n",
      "1 5\n",
      "2 7\n",
      "3 1\n"
     ]
    }
   ],
   "source": [
    "lista = [9, 5, 7, 1]\n",
    "\n",
    "cont = 0\n",
    "\n",
    "while cont < len(lista):\n",
    "    print(cont, lista[cont])    \n",
    "    cont += 1"
   ]
  },
  {
   "cell_type": "code",
   "execution_count": 253,
   "id": "ec860b9b",
   "metadata": {},
   "outputs": [
    {
     "name": "stdout",
     "output_type": "stream",
     "text": [
      "0 9\n",
      "1 5\n",
      "2 7\n",
      "3 1\n"
     ]
    }
   ],
   "source": [
    "lista = [9, 5, 7, 1]\n",
    "\n",
    "for i, e in enumerate(lista):\n",
    "    print(i, e)"
   ]
  },
  {
   "cell_type": "markdown",
   "id": "521368f1",
   "metadata": {},
   "source": [
    "- iterando com `zip`"
   ]
  },
  {
   "cell_type": "code",
   "execution_count": 254,
   "id": "f8cdf783",
   "metadata": {},
   "outputs": [
    {
     "name": "stdout",
     "output_type": "stream",
     "text": [
      "abc ghi\n",
      "def xyz\n"
     ]
    }
   ],
   "source": [
    "lista_a = ['abc', 'def']\n",
    "lista_b = ['ghi', 'xyz']\n",
    "\n",
    "cont = 0\n",
    "\n",
    "while cont < len(lista_a):\n",
    "    print(lista_a[cont], lista_b[cont])    \n",
    "    cont += 1"
   ]
  },
  {
   "cell_type": "code",
   "execution_count": 255,
   "id": "5a53f9ea",
   "metadata": {},
   "outputs": [
    {
     "name": "stdout",
     "output_type": "stream",
     "text": [
      "abc ghi\n",
      "def xyz\n"
     ]
    }
   ],
   "source": [
    "lista_a = ['abc', 'def']\n",
    "lista_b = ['ghi', 'xyz']\n",
    "\n",
    "for a, b in zip(lista_a, lista_b):\n",
    "    print(a, b)"
   ]
  },
  {
   "cell_type": "markdown",
   "id": "eeeec406",
   "metadata": {},
   "source": [
    "- list comprehension"
   ]
  },
  {
   "cell_type": "code",
   "execution_count": 256,
   "id": "87d3ad37",
   "metadata": {},
   "outputs": [
    {
     "name": "stdout",
     "output_type": "stream",
     "text": [
      "[6, 7, 1]\n"
     ]
    }
   ],
   "source": [
    "# subtrair 1 de todos os lementos da lista e criar uma nova lista\n",
    "\n",
    "lista = [7, 8, 2]\n",
    "lista_2 = []\n",
    "\n",
    "for e in lista:\n",
    "    novo_elemento = e - 1\n",
    "    lista_2.append(novo_elemento)\n",
    "print(lista_2)"
   ]
  },
  {
   "cell_type": "code",
   "execution_count": 258,
   "id": "fa65eb30",
   "metadata": {},
   "outputs": [
    {
     "name": "stdout",
     "output_type": "stream",
     "text": [
      "[6, 7, 1]\n"
     ]
    }
   ],
   "source": [
    "lista = [7, 8, 2]\n",
    "lista_2 = [i - 1 for i in lista]\n",
    "\n",
    "print(lista_2)"
   ]
  },
  {
   "cell_type": "code",
   "execution_count": 259,
   "id": "e3220092",
   "metadata": {},
   "outputs": [
    {
     "name": "stdout",
     "output_type": "stream",
     "text": [
      "['GOOGLE', 'FACEBOOK', 'LETS CODE', 'EMPIRICUS']\n"
     ]
    }
   ],
   "source": [
    "lista = ['google', 'facebook', 'lets code', 'empiricus']\n",
    "lista_2 = [i.upper() for i in lista]\n",
    "\n",
    "print(lista_2)"
   ]
  },
  {
   "cell_type": "markdown",
   "id": "5d1d2094",
   "metadata": {},
   "source": [
    "- dict comprehension"
   ]
  },
  {
   "cell_type": "code",
   "execution_count": 260,
   "id": "c470972e",
   "metadata": {},
   "outputs": [
    {
     "name": "stdout",
     "output_type": "stream",
     "text": [
      "{'google': 0, 'facebook': 0, 'lets code': 0, 'empiricus': 0}\n"
     ]
    }
   ],
   "source": [
    "lista = ['google', 'facebook', 'lets code', 'empiricus']\n",
    "dicionario = {}\n",
    "\n",
    "for i in lista:\n",
    "    dicionario[i] = 0\n",
    "    \n",
    "print(dicionario)"
   ]
  },
  {
   "cell_type": "code",
   "execution_count": 261,
   "id": "8b54bbb5",
   "metadata": {},
   "outputs": [
    {
     "name": "stdout",
     "output_type": "stream",
     "text": [
      "{'google': 0, 'facebook': 0, 'lets code': 0, 'empiricus': 0}\n"
     ]
    }
   ],
   "source": [
    "lista = ['google', 'facebook', 'lets code', 'empiricus']\n",
    "dicionario = {i: 0 for i in lista}\n",
    "print(dicionario)"
   ]
  },
  {
   "cell_type": "code",
   "execution_count": 262,
   "id": "a48ca878",
   "metadata": {},
   "outputs": [
    {
     "name": "stdout",
     "output_type": "stream",
     "text": [
      "{'google': 90, 'facebook': 78, 'lets code': 87, 'empiricus': 91}\n"
     ]
    }
   ],
   "source": [
    "nomes = ['google', 'facebook', 'lets code', 'empiricus']\n",
    "valores = [90, 78, 87, 91]\n",
    "\n",
    "dicionario = {n: v for n, v in zip(nomes, valores)}\n",
    "print(dicionario)"
   ]
  },
  {
   "cell_type": "markdown",
   "id": "d2a53cd8",
   "metadata": {},
   "source": [
    "- múltiplo retorno underscore `_`"
   ]
  },
  {
   "cell_type": "code",
   "execution_count": 263,
   "id": "3b3a515e",
   "metadata": {},
   "outputs": [],
   "source": [
    "def multiplo_retorno():\n",
    "    return 'a', 'b', 1, 2"
   ]
  },
  {
   "cell_type": "code",
   "execution_count": 267,
   "id": "71c7d12b",
   "metadata": {},
   "outputs": [
    {
     "name": "stdout",
     "output_type": "stream",
     "text": [
      "a b 1 2\n"
     ]
    }
   ],
   "source": [
    "var_1, var_2, var_3, var_4 = multiplo_retorno()\n",
    "\n",
    "print(var_1, var_2, var_3, var_4)"
   ]
  },
  {
   "cell_type": "code",
   "execution_count": 270,
   "id": "b5d0f1af",
   "metadata": {},
   "outputs": [
    {
     "name": "stdout",
     "output_type": "stream",
     "text": [
      "a b\n",
      "2\n"
     ]
    }
   ],
   "source": [
    "var_1, var_2, _, _ = multiplo_retorno()\n",
    "\n",
    "print(var_1, var_2)\n",
    "print(_)"
   ]
  },
  {
   "cell_type": "markdown",
   "id": "9d486840",
   "metadata": {},
   "source": [
    "- funções `lambda`"
   ]
  },
  {
   "cell_type": "code",
   "execution_count": 272,
   "id": "69cd8f0e",
   "metadata": {},
   "outputs": [
    {
     "name": "stdout",
     "output_type": "stream",
     "text": [
      "(8, 4, 2, 5)\n",
      "5\n"
     ]
    }
   ],
   "source": [
    "def returna_ultimo_elemento(tupla):\n",
    "    return tupla[-1]\n",
    "\n",
    "tupla = (8, 4, 2, 5)\n",
    "\n",
    "print(tupla)\n",
    "print(returna_ultimo_elemento(tupla))"
   ]
  },
  {
   "cell_type": "code",
   "execution_count": 273,
   "id": "e497aa8a",
   "metadata": {},
   "outputs": [],
   "source": [
    "minha_funcao = lambda tupla: tupla[-1]"
   ]
  },
  {
   "cell_type": "code",
   "execution_count": 274,
   "id": "831aeb95",
   "metadata": {},
   "outputs": [
    {
     "data": {
      "text/plain": [
       "5"
      ]
     },
     "execution_count": 274,
     "metadata": {},
     "output_type": "execute_result"
    }
   ],
   "source": [
    "minha_funcao(tupla)"
   ]
  },
  {
   "cell_type": "markdown",
   "id": "4b98f624",
   "metadata": {},
   "source": [
    "- ordernar lista de tuplas"
   ]
  },
  {
   "cell_type": "code",
   "execution_count": 278,
   "id": "16be01cc",
   "metadata": {},
   "outputs": [],
   "source": [
    "def returna_ultimo_elemento(tupla):\n",
    "    return tupla[-1]"
   ]
  },
  {
   "cell_type": "code",
   "execution_count": 277,
   "id": "3270a050",
   "metadata": {},
   "outputs": [
    {
     "data": {
      "text/plain": [
       "[('rychard', 1000), ('joao', 1500), ('renata', 1700)]"
      ]
     },
     "execution_count": 277,
     "metadata": {},
     "output_type": "execute_result"
    }
   ],
   "source": [
    "lista = [\n",
    "    ('rychard', 1000),\n",
    "    ('joao', 1500),\n",
    "    ('renata', 1700)\n",
    "]\n",
    "\n",
    "sorted(lista, key = returna_ultimo_elemento)"
   ]
  },
  {
   "cell_type": "code",
   "execution_count": 279,
   "id": "73f8ca24",
   "metadata": {},
   "outputs": [
    {
     "data": {
      "text/plain": [
       "[('rychard', 1000), ('joao', 1500), ('renata', 1700)]"
      ]
     },
     "execution_count": 279,
     "metadata": {},
     "output_type": "execute_result"
    }
   ],
   "source": [
    "lista = [\n",
    "    ('rychard', 1000),\n",
    "    ('joao', 1500),\n",
    "    ('renata', 1700)\n",
    "]\n",
    "\n",
    "sorted(lista, key = lambda x: x[-1])"
   ]
  }
 ],
 "metadata": {
  "kernelspec": {
   "display_name": "Python 3",
   "language": "python",
   "name": "python3"
  },
  "language_info": {
   "codemirror_mode": {
    "name": "ipython",
    "version": 3
   },
   "file_extension": ".py",
   "mimetype": "text/x-python",
   "name": "python",
   "nbconvert_exporter": "python",
   "pygments_lexer": "ipython3",
   "version": "3.9.5"
  }
 },
 "nbformat": 4,
 "nbformat_minor": 5
}
