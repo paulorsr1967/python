{
 "cells": [
  {
   "cell_type": "markdown",
   "id": "55992e1b",
   "metadata": {},
   "source": [
    "# Na aula anterior..."
   ]
  },
  {
   "cell_type": "markdown",
   "id": "c83c9c23",
   "metadata": {},
   "source": [
    "- **Funções**\n",
    "\n",
    "A sequência Fibonacci é a sequência cujos dois primeiros termos são 1 e os demais são obtidos através da soma de seus dois antecessores, isso é:\n",
    "- Fibonacci(1) = 1\n",
    "- Fibonacci(2) = 1;\n",
    "- dado qualquer número n >= 3, Fibonacci(n) = Fibonacci(n-1) + Fibonacci(n-2)\n",
    "\n",
    "Assim, os 10 primeiros termos da sequência Fibonacci são:\n",
    "\n",
    "1, 1, 2, 3, 5, 8, 13, 21, 34, 55…\n",
    "Faça uma função que receba um número n e calcule o termo de número n da sequência Fibonacci."
   ]
  },
  {
   "cell_type": "raw",
   "id": "d1e368b0",
   "metadata": {},
   "source": [
    "fib(1) => 1\n",
    "fib(2) => 1\n",
    "fib(3) => 2\n",
    "fib(4) => 3\n",
    "fib(5) => 5\n",
    "fib(7) => 13"
   ]
  },
  {
   "cell_type": "code",
   "execution_count": null,
   "id": "1d94587f",
   "metadata": {},
   "outputs": [],
   "source": [
    "# Sem usar listas"
   ]
  },
  {
   "cell_type": "code",
   "execution_count": 18,
   "id": "43ff5f9c",
   "metadata": {},
   "outputs": [],
   "source": [
    "def fib(n):\n",
    "    \n",
    "    if n <= 2:\n",
    "        return 1\n",
    "    \n",
    "    t1 = 1\n",
    "    t2 = 1\n",
    "    \n",
    "    for i in range(n - 2):\n",
    "        \n",
    "        t_proximo = t1 + t2\n",
    "        \n",
    "        t2 = t1\n",
    "        t1 = t_proximo\n",
    "        \n",
    "    return t_proximo"
   ]
  },
  {
   "cell_type": "code",
   "execution_count": 12,
   "id": "4c175454",
   "metadata": {},
   "outputs": [
    {
     "name": "stdout",
     "output_type": "stream",
     "text": [
      "1 1\n",
      "2 1\n",
      "3 2\n",
      "4 3\n",
      "5 5\n",
      "6 8\n",
      "7 13\n",
      "8 21\n",
      "9 34\n",
      "10 55\n"
     ]
    }
   ],
   "source": [
    "for i in range(1, 11):\n",
    "    print(i, fib(i))"
   ]
  },
  {
   "cell_type": "code",
   "execution_count": null,
   "id": "0947db2b",
   "metadata": {},
   "outputs": [],
   "source": [
    "# Usando listas"
   ]
  },
  {
   "cell_type": "code",
   "execution_count": 26,
   "id": "b89f244e",
   "metadata": {},
   "outputs": [],
   "source": [
    "def fib(n):\n",
    "    \n",
    "    elementos = [1, 1]\n",
    "    \n",
    "    while n > len(elementos):\n",
    "        \n",
    "        elementos.append(elementos[-1] + elementos[-2])\n",
    "        \n",
    "    return elementos[n - 1]"
   ]
  },
  {
   "cell_type": "code",
   "execution_count": 32,
   "id": "aaf9e7d0",
   "metadata": {},
   "outputs": [
    {
     "name": "stdout",
     "output_type": "stream",
     "text": [
      "1 1\n",
      "2 1\n",
      "3 2\n",
      "4 3\n",
      "5 5\n",
      "6 8\n",
      "7 13\n",
      "8 21\n",
      "9 34\n",
      "10 55\n"
     ]
    }
   ],
   "source": [
    "for i in range(1, 11):\n",
    "    print(i, fib(i))"
   ]
  },
  {
   "cell_type": "markdown",
   "id": "9a598658",
   "metadata": {},
   "source": [
    "- **Arquivos** \n",
    "\n",
    "Utilizando os arquivos `petr4.csv` e `ibovespa.csv`, identifique o valor de fechamento da Petrobrás nos dias de máxima e mínima da IBOVESPA."
   ]
  },
  {
   "cell_type": "code",
   "execution_count": 62,
   "id": "ce3a2400",
   "metadata": {},
   "outputs": [
    {
     "name": "stdout",
     "output_type": "stream",
     "text": [
      "no dia 2020-09-29, mínimo da Ibovespa, a ação PETR4 estava valendo R$ 19.309999\n",
      "no dia 2021-06-07, máxima da Ibovespa, a ação PETR4 estava valendo R$ 28.290001\n"
     ]
    }
   ],
   "source": [
    "with open('ibovespa.csv') as f:\n",
    "    \n",
    "    # posição 4 -> posição de fechamento\n",
    "    \n",
    "    f.readline()\n",
    "    \n",
    "    linhas = f.readlines()\n",
    "    \n",
    "    valor_maximo = -1\n",
    "    valor_minimo = 999999999999\n",
    "    \n",
    "    data_maximo = ''\n",
    "    data_minimo = ''\n",
    "    \n",
    "    for l in linhas:\n",
    "        \n",
    "        lista = l.split(',')\n",
    "        \n",
    "        fechamento = lista[4]\n",
    "        \n",
    "        if lista[4] != 'null':\n",
    "            fechamento = float(lista[4])\n",
    "        \n",
    "            if fechamento > valor_maximo:\n",
    "                valor_maximo = fechamento\n",
    "                data_maximo = lista[0]\n",
    "\n",
    "            if fechamento < valor_minimo:\n",
    "                valor_minimo = fechamento\n",
    "                data_minimo = lista[0]\n",
    "                \n",
    "                \n",
    "with open('petr4.csv') as f:\n",
    "    \n",
    "    f.readline()\n",
    "    \n",
    "    linhas = f.readlines()\n",
    "    \n",
    "    for l in linhas:\n",
    "        lista = l.split(',')\n",
    "        \n",
    "        if lista[0] == data_maximo:\n",
    "            print(f'no dia {data_maximo}, máxima da Ibovespa, a ação PETR4 estava valendo R$ {lista[4]}')\n",
    "            \n",
    "        if lista[0] == data_minimo:\n",
    "            print(f'no dia {data_minimo}, mínimo da Ibovespa, a ação PETR4 estava valendo R$ {lista[4]}')"
   ]
  },
  {
   "cell_type": "markdown",
   "id": "0b59f168",
   "metadata": {},
   "source": [
    "# Hoje!"
   ]
  },
  {
   "cell_type": "markdown",
   "id": "83f632a0",
   "metadata": {},
   "source": [
    "## Algumas utilidades"
   ]
  },
  {
   "cell_type": "markdown",
   "id": "c017980e",
   "metadata": {},
   "source": [
    "- `os.listdir()`\n",
    "- `os.chdir()`\n",
    "- `math.sqrt()`\n",
    "- `string.ascii_letters`\n",
    "- `string.ascii_lowercase`\n",
    "- `string.ascii_uppercase`"
   ]
  },
  {
   "cell_type": "code",
   "execution_count": 82,
   "id": "7150895c",
   "metadata": {},
   "outputs": [],
   "source": [
    "import os\n",
    "import math\n",
    "import string"
   ]
  },
  {
   "cell_type": "code",
   "execution_count": 67,
   "id": "4213f482",
   "metadata": {},
   "outputs": [
    {
     "data": {
      "text/plain": [
       "['ibovespa.csv',\n",
       " 'petr4.csv',\n",
       " 'certificate_aula_05.ipynb',\n",
       " '.ipynb_checkpoints']"
      ]
     },
     "execution_count": 67,
     "metadata": {},
     "output_type": "execute_result"
    }
   ],
   "source": [
    "lista_arquivos = os.listdir()\n",
    "lista_arquivos"
   ]
  },
  {
   "cell_type": "code",
   "execution_count": 68,
   "id": "df0f8d9e",
   "metadata": {},
   "outputs": [],
   "source": [
    "os.chdir('/Users/rguedes/Certificate/certificate_aula_04')"
   ]
  },
  {
   "cell_type": "code",
   "execution_count": 69,
   "id": "6083f128",
   "metadata": {},
   "outputs": [
    {
     "data": {
      "text/plain": [
       "['arquivo_texto.txt',\n",
       " '.DS_Store',\n",
       " 'alunos_tratado.csv',\n",
       " 'novo_arquivo.txt',\n",
       " 'ibovespa.csv',\n",
       " 'alunos.csv',\n",
       " 'petr4.csv',\n",
       " 'certificate_aula_04.zip',\n",
       " '__pycache__',\n",
       " 'minhas_funcoes.py',\n",
       " 'valores.txt',\n",
       " '.ipynb_checkpoints',\n",
       " 'certificate_aula_04.ipynb']"
      ]
     },
     "execution_count": 69,
     "metadata": {},
     "output_type": "execute_result"
    }
   ],
   "source": [
    "lista_arquivos = os.listdir()\n",
    "lista_arquivos"
   ]
  },
  {
   "cell_type": "code",
   "execution_count": 71,
   "id": "1a2ba7d3",
   "metadata": {},
   "outputs": [
    {
     "data": {
      "text/plain": [
       "['arquivo_texto.txt',\n",
       " '.DS_Store',\n",
       " 'alunos_tratado.csv',\n",
       " 'novo_arquivo.txt',\n",
       " 'ibovespa.csv',\n",
       " 'alunos.csv',\n",
       " 'petr4.csv',\n",
       " 'certificate_aula_04.zip',\n",
       " '__pycache__',\n",
       " 'minhas_funcoes.py',\n",
       " 'valores.txt',\n",
       " '.ipynb_checkpoints',\n",
       " 'certificate_aula_04.ipynb']"
      ]
     },
     "execution_count": 71,
     "metadata": {},
     "output_type": "execute_result"
    }
   ],
   "source": [
    "lista_arquivos = os.listdir()\n",
    "lista_arquivos"
   ]
  },
  {
   "cell_type": "code",
   "execution_count": 76,
   "id": "544e99e4",
   "metadata": {},
   "outputs": [
    {
     "name": "stdout",
     "output_type": "stream",
     "text": [
      "2.23606797749979\n"
     ]
    }
   ],
   "source": [
    "print(math.sqrt(5))"
   ]
  },
  {
   "cell_type": "code",
   "execution_count": 86,
   "id": "ff9b29fa",
   "metadata": {},
   "outputs": [
    {
     "name": "stdout",
     "output_type": "stream",
     "text": [
      "abcdefghijklmnopqrstuvwxyzABCDEFGHIJKLMNOPQRSTUVWXYZ\n",
      "abcdefghijklmnopqrstuvwxyz\n",
      "ABCDEFGHIJKLMNOPQRSTUVWXYZ\n",
      "0123456789\n"
     ]
    }
   ],
   "source": [
    "print(string.ascii_letters)\n",
    "print(string.ascii_lowercase)\n",
    "print(string.ascii_uppercase)\n",
    "print(string.digits)"
   ]
  },
  {
   "cell_type": "markdown",
   "id": "4d418523",
   "metadata": {},
   "source": [
    "\n",
    "## Tuplas"
   ]
  },
  {
   "cell_type": "markdown",
   "id": "1b3e35bf",
   "metadata": {},
   "source": [
    "- Variável que armazena várias outras variáveis dentro dela;\n",
    "- Pode ser determinada vazia (tuple() ou ()) ou com elementos;"
   ]
  },
  {
   "cell_type": "code",
   "execution_count": 87,
   "id": "e0ce2f08",
   "metadata": {},
   "outputs": [
    {
     "name": "stdout",
     "output_type": "stream",
     "text": [
      "<class 'tuple'>\n"
     ]
    }
   ],
   "source": [
    "tupla = tuple()\n",
    "print(type(tupla))"
   ]
  },
  {
   "cell_type": "code",
   "execution_count": 88,
   "id": "e1274d2b",
   "metadata": {},
   "outputs": [
    {
     "name": "stdout",
     "output_type": "stream",
     "text": [
      "<class 'tuple'>\n"
     ]
    }
   ],
   "source": [
    "tupla = ()\n",
    "print(type(tupla))"
   ]
  },
  {
   "cell_type": "code",
   "execution_count": 89,
   "id": "9c0d53b5",
   "metadata": {},
   "outputs": [
    {
     "name": "stdout",
     "output_type": "stream",
     "text": [
      "(8, 3, 4, 1)\n",
      "<class 'tuple'>\n"
     ]
    }
   ],
   "source": [
    "tupla = (8, 3, 4, 1)\n",
    "print(tupla)\n",
    "print(type(tupla))"
   ]
  },
  {
   "cell_type": "markdown",
   "id": "87771ff9",
   "metadata": {},
   "source": [
    "- Operações slice e indexação de forma igual a listas;"
   ]
  },
  {
   "cell_type": "code",
   "execution_count": 96,
   "id": "678e5dd3",
   "metadata": {},
   "outputs": [
    {
     "data": {
      "text/plain": [
       "(4, 1)"
      ]
     },
     "execution_count": 96,
     "metadata": {},
     "output_type": "execute_result"
    }
   ],
   "source": [
    "tupla[-2:]"
   ]
  },
  {
   "cell_type": "markdown",
   "id": "97a3e8ed",
   "metadata": {},
   "source": [
    "- Imutáveis;"
   ]
  },
  {
   "cell_type": "code",
   "execution_count": 104,
   "id": "8516947c",
   "metadata": {},
   "outputs": [
    {
     "name": "stdout",
     "output_type": "stream",
     "text": [
      "(8, 3, 4, 1)\n",
      "[8, 3, 4, 1]\n",
      "[8, 3, 4, 1, -1]\n",
      "(8, 3, 4, 1, -1)\n"
     ]
    }
   ],
   "source": [
    "print(tupla)\n",
    "\n",
    "lista = list(tupla)\n",
    "\n",
    "print(lista)\n",
    "lista.append(-1)\n",
    "print(lista)\n",
    "\n",
    "tupla = tuple(lista)\n",
    "print(tupla)"
   ]
  },
  {
   "cell_type": "markdown",
   "id": "05b4d3f7",
   "metadata": {},
   "source": [
    "- Utilidade:\n",
    "    - Indica que os dados não devem ser alterados;\n",
    "    - Garantia que os elementos estarão em uma ordem específica;\n",
    "    - Velocidade\n",
    "- Packing/unpacking\n",
    "    - Como fazer a virar b e b virar a?"
   ]
  },
  {
   "cell_type": "code",
   "execution_count": 106,
   "id": "485a59df",
   "metadata": {},
   "outputs": [
    {
     "name": "stdout",
     "output_type": "stream",
     "text": [
      "9 5\n",
      "5 9\n"
     ]
    }
   ],
   "source": [
    "a = 9\n",
    "b = 5\n",
    "\n",
    "print(a, b)\n",
    "\n",
    "c = a\n",
    "a = b\n",
    "b = c\n",
    "\n",
    "print(a, b)"
   ]
  },
  {
   "cell_type": "code",
   "execution_count": 107,
   "id": "6afc5b40",
   "metadata": {},
   "outputs": [
    {
     "name": "stdout",
     "output_type": "stream",
     "text": [
      "9 5\n",
      "5 9\n"
     ]
    }
   ],
   "source": [
    "a = 9\n",
    "b = 5\n",
    "\n",
    "print(a, b)\n",
    "\n",
    "a, b = b, a\n",
    "\n",
    "print(a, b)"
   ]
  },
  {
   "cell_type": "markdown",
   "id": "41061df3",
   "metadata": {},
   "source": [
    "## Funções - Advanced I"
   ]
  },
  {
   "cell_type": "markdown",
   "id": "c910ed2f",
   "metadata": {},
   "source": [
    "- Funções com mais de um retorno.\n",
    "- `amplitude()` de uma lista\n",
    "- `maxmin()` de uma lista"
   ]
  },
  {
   "cell_type": "code",
   "execution_count": 113,
   "id": "e25b9455",
   "metadata": {},
   "outputs": [],
   "source": [
    "def minmax(lista):\n",
    "\n",
    "    minimo = min(lista)\n",
    "    maximo = max(lista)\n",
    "    \n",
    "    return minimo, maximo\n",
    "\n",
    "\n",
    "def amplitude(lista):\n",
    "    \n",
    "    minimo, maximo = minmax(lista)\n",
    "    \n",
    "    dif = maximo - minimo\n",
    "    \n",
    "    return dif, maximo, minimo    "
   ]
  },
  {
   "cell_type": "code",
   "execution_count": 114,
   "id": "45918309",
   "metadata": {},
   "outputs": [
    {
     "name": "stdout",
     "output_type": "stream",
     "text": [
      "(1, 9)\n"
     ]
    }
   ],
   "source": [
    "print(minmax([5, 3, 1, 7, 9, 4]))"
   ]
  },
  {
   "cell_type": "code",
   "execution_count": 115,
   "id": "acd3bdd6",
   "metadata": {},
   "outputs": [
    {
     "name": "stdout",
     "output_type": "stream",
     "text": [
      "(8, 9, 1)\n"
     ]
    }
   ],
   "source": [
    "print(amplitude([5, 3, 1, 7, 9, 4]))"
   ]
  },
  {
   "cell_type": "markdown",
   "id": "dcc603df",
   "metadata": {},
   "source": [
    "**Crie uma função que resolve a equação de 2o grau usando a Fórmula de Bháskara.**"
   ]
  },
  {
   "cell_type": "raw",
   "id": "af7f8bd3",
   "metadata": {},
   "source": [
    "ax**2 + bx + c = 0\n",
    "\n",
    "delta = b**2 - 4ac\n",
    "\n",
    "raiz_1 = (-b + raiz(delta))/2a\n",
    "raiz_2 = (-b - raiz(delta))/2a"
   ]
  },
  {
   "cell_type": "code",
   "execution_count": 117,
   "id": "3e4148ee",
   "metadata": {},
   "outputs": [],
   "source": [
    "def bhaskara(a, b, c):\n",
    "    \n",
    "    delta = b**2 - 4*a*c\n",
    "    \n",
    "    print()\n",
    "    \n",
    "    if delta < 0:\n",
    "        \n",
    "        return None, None\n",
    "    \n",
    "    raiz_1 = (-b + math.sqrt(delta))/(2*a)\n",
    "    raiz_2 = (-b - math.sqrt(delta))/(2*a)\n",
    "    \n",
    "    return raiz_1, raiz_2"
   ]
  },
  {
   "cell_type": "code",
   "execution_count": 131,
   "id": "77c7995b",
   "metadata": {},
   "outputs": [
    {
     "data": {
      "text/plain": [
       "(1.0, -7.0)"
      ]
     },
     "execution_count": 131,
     "metadata": {},
     "output_type": "execute_result"
    }
   ],
   "source": [
    "bhaskara(2, 12, -14)"
   ]
  },
  {
   "cell_type": "markdown",
   "id": "54980881",
   "metadata": {},
   "source": [
    "- Funções com quantidade variável de parâmetros: args\n",
    "- `print('oi', 'rychard')`\n",
    "- `soma()`"
   ]
  },
  {
   "cell_type": "code",
   "execution_count": 134,
   "id": "a83a642a",
   "metadata": {},
   "outputs": [
    {
     "name": "stdout",
     "output_type": "stream",
     "text": [
      "oi rychard tudo bem?\n"
     ]
    }
   ],
   "source": [
    "print('oi', 'rychard', 'tudo bem?')"
   ]
  },
  {
   "cell_type": "code",
   "execution_count": 145,
   "id": "74308b0e",
   "metadata": {},
   "outputs": [],
   "source": [
    "def soma(*args):\n",
    "    resultado = 0\n",
    "    \n",
    "    for i in args:\n",
    "        resultado += i\n",
    "        \n",
    "    return resultado"
   ]
  },
  {
   "cell_type": "code",
   "execution_count": 150,
   "id": "ae503b35",
   "metadata": {},
   "outputs": [
    {
     "data": {
      "text/plain": [
       "55"
      ]
     },
     "execution_count": 150,
     "metadata": {},
     "output_type": "execute_result"
    }
   ],
   "source": [
    "soma(1, 2, 3, 4, 5, 6, 7, 8, 9, 10)"
   ]
  },
  {
   "cell_type": "markdown",
   "id": "9eb27d3a",
   "metadata": {},
   "source": [
    "**Para exercitar:** Fazer uma função que retorna o produtório de vários elementos."
   ]
  },
  {
   "cell_type": "code",
   "execution_count": 153,
   "id": "b8618af2",
   "metadata": {},
   "outputs": [],
   "source": [
    "def produtorio(*args):\n",
    "    resultado = 1\n",
    "    \n",
    "    for i in args:\n",
    "        resultado *= i\n",
    "        \n",
    "    return resultado"
   ]
  },
  {
   "cell_type": "code",
   "execution_count": 156,
   "id": "50030004",
   "metadata": {},
   "outputs": [
    {
     "data": {
      "text/plain": [
       "6"
      ]
     },
     "execution_count": 156,
     "metadata": {},
     "output_type": "execute_result"
    }
   ],
   "source": [
    "produtorio(2, 3)"
   ]
  },
  {
   "cell_type": "markdown",
   "id": "dcb002a7",
   "metadata": {},
   "source": [
    "## Dicionários"
   ]
  },
  {
   "cell_type": "markdown",
   "id": "40c887d2",
   "metadata": {},
   "source": [
    "- Quando procuramos uma palavra em um dicionário da língua portuguesa, procuramos pela `posição da palavra` ou pela `palavra em si`?"
   ]
  },
  {
   "cell_type": "code",
   "execution_count": null,
   "id": "71889ac5",
   "metadata": {},
   "outputs": [],
   "source": []
  },
  {
   "cell_type": "markdown",
   "id": "b73c4f0b",
   "metadata": {},
   "source": [
    "- Variável que armazena várias outras variáveis dentro dela;\n",
    "- Mapeamento por pelo conjunto chave-valor;\n",
    "- Pode ser inicializada vazia (dict() ou {}) ou já com elementos;\n",
    "- Podemos criar uma lista de compras."
   ]
  },
  {
   "cell_type": "code",
   "execution_count": 157,
   "id": "624b91cd",
   "metadata": {},
   "outputs": [
    {
     "name": "stdout",
     "output_type": "stream",
     "text": [
      "{}\n",
      "<class 'dict'>\n"
     ]
    }
   ],
   "source": [
    "dicionario = dict()\n",
    "print(dicionario)\n",
    "print(type(dicionario))"
   ]
  },
  {
   "cell_type": "code",
   "execution_count": 158,
   "id": "29111cd0",
   "metadata": {},
   "outputs": [
    {
     "name": "stdout",
     "output_type": "stream",
     "text": [
      "{}\n",
      "<class 'dict'>\n"
     ]
    }
   ],
   "source": [
    "dicionario = {}\n",
    "print(dicionario)\n",
    "print(type(dicionario))"
   ]
  },
  {
   "cell_type": "code",
   "execution_count": 159,
   "id": "33dca5b2",
   "metadata": {},
   "outputs": [
    {
     "name": "stdout",
     "output_type": "stream",
     "text": [
      "2021-06-23,128769.171875,129900.843750,128182.367188,128617.000000,128617.000000,0\n",
      "2021-06-23,29.250000,29.520000,29.000000,29.290001,29.290001,50723100\n"
     ]
    }
   ],
   "source": [
    "with open('ibovespa.csv') as f:\n",
    "    linhas = f.readlines()\n",
    "    print(linhas[-1])\n",
    "    \n",
    "with open('petr4.csv') as f:\n",
    "    linhas = f.readlines()\n",
    "    print(linhas[-1])"
   ]
  },
  {
   "cell_type": "code",
   "execution_count": 161,
   "id": "aa6717f1",
   "metadata": {},
   "outputs": [
    {
     "name": "stdout",
     "output_type": "stream",
     "text": [
      "{'ibovespa': 128617.0, 'petr4': 29.290001}\n",
      "<class 'dict'>\n"
     ]
    }
   ],
   "source": [
    "dicionario_valores_recentes = {\n",
    "    'ibovespa': 128617.000000,\n",
    "    'petr4':  29.290001\n",
    "    \n",
    "}\n",
    "print(dicionario_valores_recentes)\n",
    "print(type(dicionario_valores_recentes))"
   ]
  },
  {
   "cell_type": "code",
   "execution_count": 162,
   "id": "366f6826",
   "metadata": {},
   "outputs": [
    {
     "data": {
      "text/plain": [
       "128617.0"
      ]
     },
     "execution_count": 162,
     "metadata": {},
     "output_type": "execute_result"
    }
   ],
   "source": [
    "dicionario_valores_recentes['ibovespa']"
   ]
  },
  {
   "cell_type": "code",
   "execution_count": 163,
   "id": "b00723ba",
   "metadata": {},
   "outputs": [
    {
     "data": {
      "text/plain": [
       "29.290001"
      ]
     },
     "execution_count": 163,
     "metadata": {},
     "output_type": "execute_result"
    }
   ],
   "source": [
    "dicionario_valores_recentes['petr4']"
   ]
  },
  {
   "cell_type": "markdown",
   "id": "fc6e4436",
   "metadata": {},
   "source": [
    "**Crie um dicionário com três elementos, onde um deles armazenará seu nome, outro a sua idade e outro o seu email. Use chaves intuitivas.**"
   ]
  },
  {
   "cell_type": "code",
   "execution_count": 164,
   "id": "804b44b3",
   "metadata": {},
   "outputs": [
    {
     "name": "stdout",
     "output_type": "stream",
     "text": [
      "rychard\n",
      "27\n",
      "rychard.guedes@letscode.com.br\n"
     ]
    }
   ],
   "source": [
    "meus_dados = {\n",
    "    'nome': 'rychard',\n",
    "    'idade': 27,\n",
    "    'email': 'rychard.guedes@letscode.com.br'\n",
    "}\n",
    "\n",
    "print(meus_dados['nome'])\n",
    "print(meus_dados['idade'])\n",
    "print(meus_dados['email'])"
   ]
  },
  {
   "cell_type": "markdown",
   "id": "01212d8c",
   "metadata": {},
   "source": [
    "- Tentando usar uma chave que não existe no dicionário"
   ]
  },
  {
   "cell_type": "code",
   "execution_count": 165,
   "id": "0c1e4c61",
   "metadata": {},
   "outputs": [
    {
     "ename": "KeyError",
     "evalue": "'sexo'",
     "output_type": "error",
     "traceback": [
      "\u001b[0;31m---------------------------------------------------------------------------\u001b[0m",
      "\u001b[0;31mKeyError\u001b[0m                                  Traceback (most recent call last)",
      "\u001b[0;32m<ipython-input-165-b9bc6549fca1>\u001b[0m in \u001b[0;36m<module>\u001b[0;34m\u001b[0m\n\u001b[0;32m----> 1\u001b[0;31m \u001b[0mmeus_dados\u001b[0m\u001b[0;34m[\u001b[0m\u001b[0;34m'sexo'\u001b[0m\u001b[0;34m]\u001b[0m\u001b[0;34m\u001b[0m\u001b[0;34m\u001b[0m\u001b[0m\n\u001b[0m",
      "\u001b[0;31mKeyError\u001b[0m: 'sexo'"
     ]
    }
   ],
   "source": [
    "meus_dados['sexo']"
   ]
  },
  {
   "cell_type": "markdown",
   "id": "cb6310bf",
   "metadata": {},
   "source": [
    "- Testando a existência de uma chave"
   ]
  },
  {
   "cell_type": "code",
   "execution_count": 166,
   "id": "f5cb3b54",
   "metadata": {},
   "outputs": [
    {
     "data": {
      "text/plain": [
       "False"
      ]
     },
     "execution_count": 166,
     "metadata": {},
     "output_type": "execute_result"
    }
   ],
   "source": [
    "'sexo' in meus_dados"
   ]
  },
  {
   "cell_type": "code",
   "execution_count": 167,
   "id": "965d7302",
   "metadata": {},
   "outputs": [
    {
     "data": {
      "text/plain": [
       "True"
      ]
     },
     "execution_count": 167,
     "metadata": {},
     "output_type": "execute_result"
    }
   ],
   "source": [
    "'idade' in meus_dados"
   ]
  },
  {
   "cell_type": "code",
   "execution_count": 168,
   "id": "40f64c26",
   "metadata": {},
   "outputs": [
    {
     "data": {
      "text/plain": [
       "True"
      ]
     },
     "execution_count": 168,
     "metadata": {},
     "output_type": "execute_result"
    }
   ],
   "source": [
    "'email' in meus_dados"
   ]
  },
  {
   "cell_type": "code",
   "execution_count": 169,
   "id": "2960fd9d",
   "metadata": {},
   "outputs": [
    {
     "data": {
      "text/plain": [
       "False"
      ]
     },
     "execution_count": 169,
     "metadata": {},
     "output_type": "execute_result"
    }
   ],
   "source": [
    "'Email' in meus_dados"
   ]
  },
  {
   "cell_type": "markdown",
   "id": "450ded70",
   "metadata": {},
   "source": [
    "- Adicionando um elemento em um dicionário"
   ]
  },
  {
   "cell_type": "code",
   "execution_count": 171,
   "id": "56a5aa84",
   "metadata": {},
   "outputs": [
    {
     "name": "stdout",
     "output_type": "stream",
     "text": [
      "{'nome': 'rychard', 'idade': 27, 'email': 'rychard.guedes@letscode.com.br', 'sexo': 'm'}\n"
     ]
    }
   ],
   "source": [
    "meus_dados['sexo'] = 'm'\n",
    "print(meus_dados)"
   ]
  },
  {
   "cell_type": "markdown",
   "id": "a7ecf4ad",
   "metadata": {},
   "source": [
    "**Para exercitar** No dicionário já criado, adicione a chave sexo."
   ]
  },
  {
   "cell_type": "code",
   "execution_count": null,
   "id": "6aa6f728",
   "metadata": {},
   "outputs": [],
   "source": [
    "meus_dados['sexo'] = 'm'\n",
    "print(meus_dados)"
   ]
  },
  {
   "cell_type": "code",
   "execution_count": 173,
   "id": "acaf5320",
   "metadata": {},
   "outputs": [
    {
     "data": {
      "text/plain": [
       "True"
      ]
     },
     "execution_count": 173,
     "metadata": {},
     "output_type": "execute_result"
    }
   ],
   "source": [
    "'sexo' in meus_dados"
   ]
  },
  {
   "cell_type": "markdown",
   "id": "f97c4561",
   "metadata": {},
   "source": [
    "- Iterando em um dicionário"
   ]
  },
  {
   "cell_type": "code",
   "execution_count": 175,
   "id": "0fcb8013",
   "metadata": {},
   "outputs": [
    {
     "name": "stdout",
     "output_type": "stream",
     "text": [
      "nome rychard\n",
      "idade 27\n",
      "email rychard.guedes@letscode.com.br\n",
      "sexo m\n"
     ]
    }
   ],
   "source": [
    "for i in meus_dados:\n",
    "    print(i, meus_dados[i])"
   ]
  },
  {
   "cell_type": "code",
   "execution_count": 177,
   "id": "134ae034",
   "metadata": {},
   "outputs": [
    {
     "name": "stdout",
     "output_type": "stream",
     "text": [
      "nome rychard\n",
      "idade 27\n",
      "email rychard.guedes@letscode.com.br\n",
      "sexo m\n"
     ]
    }
   ],
   "source": [
    "for key, value in meus_dados.items():\n",
    "    print(key, value)"
   ]
  },
  {
   "cell_type": "markdown",
   "id": "7748cbac",
   "metadata": {},
   "source": [
    "- As chaves podem ser de \"qualquer\" tipo"
   ]
  },
  {
   "cell_type": "code",
   "execution_count": 181,
   "id": "57cce42c",
   "metadata": {},
   "outputs": [
    {
     "name": "stdout",
     "output_type": "stream",
     "text": [
      "rychard\n",
      "27\n",
      "rychard.guedes@letscode.com.br\n",
      "valor_do_numero_oito\n",
      "valor_da_lista\n"
     ]
    }
   ],
   "source": [
    "meus_dados = {\n",
    "    'nome': 'rychard',\n",
    "    'idade': 27,\n",
    "    'email': 'rychard.guedes@letscode.com.br',\n",
    "    8: 'valor_do_numero_oito',\n",
    "    (4): 'valor_da_lista',\n",
    "}\n",
    "\n",
    "print(meus_dados['nome'])\n",
    "print(meus_dados['idade'])\n",
    "print(meus_dados['email'])\n",
    "print(meus_dados[8])\n",
    "print(meus_dados[(4)])"
   ]
  },
  {
   "cell_type": "code",
   "execution_count": 183,
   "id": "11f2e2e8",
   "metadata": {},
   "outputs": [
    {
     "name": "stdout",
     "output_type": "stream",
     "text": [
      "nome e sobrenome\n"
     ]
    }
   ],
   "source": [
    "var_x = 'nome'\n",
    "var_x = var_x + ' e sobrenome'\n",
    "print(var_x)"
   ]
  },
  {
   "cell_type": "markdown",
   "id": "791b83c6",
   "metadata": {},
   "source": [
    "**Para exercitar**: Itere em cima do dicionário criado mostrando apenas nome e email."
   ]
  },
  {
   "cell_type": "code",
   "execution_count": 184,
   "id": "042ecd9d",
   "metadata": {},
   "outputs": [
    {
     "name": "stdout",
     "output_type": "stream",
     "text": [
      "rychard\n",
      "rychard.guedes@letscode.com.br\n"
     ]
    }
   ],
   "source": [
    "for key, value in meus_dados.items():\n",
    "    if key == 'nome':\n",
    "        print(value)\n",
    "    if key == 'email':\n",
    "        print(value)"
   ]
  },
  {
   "cell_type": "markdown",
   "id": "dacc77ec",
   "metadata": {},
   "source": [
    "- Dicionário para substituir elementos\n",
    "- R por L em uma string, por exemplo"
   ]
  },
  {
   "cell_type": "code",
   "execution_count": 187,
   "id": "76358a6b",
   "metadata": {},
   "outputs": [
    {
     "name": "stdout",
     "output_type": "stream",
     "text": [
      "o lato loeu a loupa do lei de Loma\n"
     ]
    }
   ],
   "source": [
    "string = 'o rato roeu a roupa do rei de Roma'\n",
    "\n",
    "substituicao = {\n",
    "    'r': 'l',\n",
    "    'R': 'L',\n",
    "}\n",
    "\n",
    "nova_string = ''\n",
    "\n",
    "for letra in string:\n",
    "    \n",
    "    if letra in substituicao:\n",
    "        nova_string += substituicao[letra]\n",
    "    else:\n",
    "        nova_string += letra\n",
    "    \n",
    "print(nova_string)"
   ]
  },
  {
   "cell_type": "markdown",
   "id": "8b6c22cd",
   "metadata": {},
   "source": [
    "- Dicionário para contagem"
   ]
  },
  {
   "cell_type": "code",
   "execution_count": 188,
   "id": "61cb3427",
   "metadata": {},
   "outputs": [
    {
     "name": "stdout",
     "output_type": "stream",
     "text": [
      "{'Google': 3, 'Facebook': 2, 'WhatsApp': 1}\n"
     ]
    }
   ],
   "source": [
    "noticias = [\n",
    "    'Armazenamento ilimitado e gratuito do Google Fotos termina em junho', \n",
    "    'Play Store: Google vai mostrar dados que apps coletam de usuários', \n",
    "    'Google encerra Drive ilimitado e universidades buscam alternativas',\n",
    "    'TikTok, Facebook e Instagram estão entre apps mais baixados de abril',\n",
    "    'Reguladores no Brasil pedem que WhatsApp e Facebook adiem regras de privacidade'\n",
    "]\n",
    "\n",
    "contagem = {\n",
    "    'Google': 0,\n",
    "    'Facebook': 0,\n",
    "    'WhatsApp': 0\n",
    "}\n",
    "\n",
    "for n in noticias:\n",
    "    \n",
    "    for chave in contagem:\n",
    "        \n",
    "        if chave in n:\n",
    "            \n",
    "            contagem[chave] += 1\n",
    "            \n",
    "print(contagem)"
   ]
  },
  {
   "cell_type": "code",
   "execution_count": 189,
   "id": "b31b2e0b",
   "metadata": {},
   "outputs": [
    {
     "name": "stdout",
     "output_type": "stream",
     "text": [
      "{'Google': 2, 'Facebook': 4, 'WhatsApp': 3}\n"
     ]
    }
   ],
   "source": [
    "termos = ['Google', 'Facebook', 'WhatsApp', 'Facebook', 'WhatsApp', 'Facebook', 'WhatsApp', 'Google', 'Facebook']\n",
    "\n",
    "contagem = {}\n",
    "\n",
    "for t in termos:\n",
    "    \n",
    "    if t not in contagem:\n",
    "        contagem[t] = 1\n",
    "    else:\n",
    "        contagem[t] = contagem[t] + 1\n",
    "        \n",
    "print(contagem)\n"
   ]
  },
  {
   "cell_type": "markdown",
   "id": "0521f617",
   "metadata": {},
   "source": [
    "## Funções Advanced - Parte 2"
   ]
  },
  {
   "cell_type": "markdown",
   "id": "a867e79f",
   "metadata": {},
   "source": [
    "- Funções com quantidade variável de parâmetros: kwargs\n",
    "- `cadastro(nome = 'Rychard', idade = 27)`"
   ]
  },
  {
   "cell_type": "code",
   "execution_count": 194,
   "id": "32546908",
   "metadata": {},
   "outputs": [
    {
     "name": "stdout",
     "output_type": "stream",
     "text": [
      "1\n",
      "1\n"
     ]
    }
   ],
   "source": [
    "def diferenca(valor_maior, valor_menor):\n",
    "    \n",
    "    resultado = valor_maior - valor_menor\n",
    "    \n",
    "    return resultado\n",
    "\n",
    "print(diferenca(9, 8))\n",
    "print(diferenca(valor_menor = 8, valor_maior = 9))"
   ]
  },
  {
   "cell_type": "code",
   "execution_count": 195,
   "id": "212e36bf",
   "metadata": {},
   "outputs": [],
   "source": [
    "def cadastro(**kwargs):\n",
    "    print(kwargs)\n",
    "    print(type(kwargs))"
   ]
  },
  {
   "cell_type": "code",
   "execution_count": 196,
   "id": "0128ba5c",
   "metadata": {},
   "outputs": [
    {
     "name": "stdout",
     "output_type": "stream",
     "text": [
      "{'nome': 'rychard', 'idade': 27}\n",
      "<class 'dict'>\n"
     ]
    }
   ],
   "source": [
    "cadastro(nome = 'rychard', idade = 27)"
   ]
  },
  {
   "cell_type": "markdown",
   "id": "b5a3a407",
   "metadata": {},
   "source": [
    "**Para exercitar**: Crie uma função que recebe uma quantidade indefinida de parâmetros e cria um arquivo chamado cadastro.txt com todas essas informações, uma por linha."
   ]
  },
  {
   "cell_type": "code",
   "execution_count": 199,
   "id": "6fcc6bda",
   "metadata": {},
   "outputs": [],
   "source": [
    "os.chdir('/Users/rguedes/Certificate/certificate_aula_05')"
   ]
  },
  {
   "cell_type": "code",
   "execution_count": 202,
   "id": "c3aa1070",
   "metadata": {},
   "outputs": [],
   "source": [
    "def cadastro(**kwargs):\n",
    "    \n",
    "    with open('cadastro.txt', 'w') as f:\n",
    "        \n",
    "        for chave, valor in kwargs.items():\n",
    "            \n",
    "            f.write(f'{chave},{valor}\\n')"
   ]
  },
  {
   "cell_type": "code",
   "execution_count": 206,
   "id": "61ab1abf",
   "metadata": {},
   "outputs": [],
   "source": [
    "cadastro()"
   ]
  },
  {
   "cell_type": "markdown",
   "id": "23bb4240",
   "metadata": {},
   "source": [
    "**Para exercitar**: Crie uma função que recebe uma quantidade indefinida de parâmetros e cria um arquivo chamado cadastro_xx.txt, onde xx é o próximo número da sequência de arquivos já existente (se não existir nenhum arquivo, cria o cadastro_00.txt; se já existir o cadastro_00.txt, cria o cadastro_01.txt; e assim por diante). Nesse arquivo deverá ser armazenado um parâmetro por linha, chave e valor, separados por vírgula."
   ]
  },
  {
   "cell_type": "code",
   "execution_count": 207,
   "id": "ab111c5c",
   "metadata": {},
   "outputs": [
    {
     "data": {
      "text/plain": [
       "['ibovespa.csv',\n",
       " 'petr4.csv',\n",
       " 'cadastro.txt',\n",
       " 'certificate_aula_05.ipynb',\n",
       " '.ipynb_checkpoints']"
      ]
     },
     "execution_count": 207,
     "metadata": {},
     "output_type": "execute_result"
    }
   ],
   "source": [
    "os.listdir()"
   ]
  }
 ],
 "metadata": {
  "kernelspec": {
   "display_name": "Python 3",
   "language": "python",
   "name": "python3"
  },
  "language_info": {
   "codemirror_mode": {
    "name": "ipython",
    "version": 3
   },
   "file_extension": ".py",
   "mimetype": "text/x-python",
   "name": "python",
   "nbconvert_exporter": "python",
   "pygments_lexer": "ipython3",
   "version": "3.9.5"
  }
 },
 "nbformat": 4,
 "nbformat_minor": 5
}
