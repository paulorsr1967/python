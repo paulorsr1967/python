{
 "cells": [
  {
   "cell_type": "markdown",
   "id": "8b2805f1",
   "metadata": {},
   "source": [
    "# Plantão de Dúvidas "
   ]
  },
  {
   "cell_type": "markdown",
   "id": "f67f1cef",
   "metadata": {},
   "source": [
    "Faça um programa que peça um valor monetário e diminua-o em 15%. Seu programa deve imprimir a mensagem “O novo valor é [valor]”."
   ]
  },
  {
   "cell_type": "raw",
   "id": "b923f57c",
   "metadata": {},
   "source": [
    "# monetário -> real\n",
    "# 3.15"
   ]
  },
  {
   "cell_type": "code",
   "execution_count": 6,
   "id": "0934dd11",
   "metadata": {},
   "outputs": [
    {
     "name": "stdout",
     "output_type": "stream",
     "text": [
      "Digite o valor monetário: 100\n",
      "O novo valor é  85.0\n"
     ]
    }
   ],
   "source": [
    "valor = input('Digite o valor monetário: ')\n",
    "valor = float(valor)\n",
    "\n",
    "diminuir = valor*0.15\n",
    "\n",
    "valor_atualizado = valor - diminuir\n",
    "\n",
    "print('O novo valor é ', valor_atualizado)"
   ]
  },
  {
   "cell_type": "code",
   "execution_count": 7,
   "id": "d9ab9220",
   "metadata": {},
   "outputs": [
    {
     "name": "stdout",
     "output_type": "stream",
     "text": [
      "Digite o valor monetário: 100\n",
      "O novo valor é  85.0\n"
     ]
    }
   ],
   "source": [
    "valor = input('Digite o valor monetário: ')\n",
    "valor = float(valor)\n",
    "\n",
    "valor_atualizado = valor*0.85\n",
    "\n",
    "print('O novo valor é ', valor_atualizado)"
   ]
  },
  {
   "cell_type": "code",
   "execution_count": 8,
   "id": "97d2d0d0",
   "metadata": {},
   "outputs": [
    {
     "name": "stdout",
     "output_type": "stream",
     "text": [
      "Forneça um valor:100\n",
      "O novo valor é 85.0\n"
     ]
    }
   ],
   "source": [
    "valor = float(input(\"Forneça um valor:\"))\n",
    "\n",
    "resultado = valor - (valor/100*15)\n",
    "print(\"O novo valor é\", resultado)"
   ]
  },
  {
   "cell_type": "code",
   "execution_count": 9,
   "id": "ba4631ac",
   "metadata": {},
   "outputs": [
    {
     "name": "stdout",
     "output_type": "stream",
     "text": [
      "Digite o valor monetário: 100\n",
      "O novo valor é : 85.0\n"
     ]
    }
   ],
   "source": [
    "valor = float(input('Digite o valor monetário: '))\n",
    "\n",
    "desconto = valor*(15/100)\n",
    "valor_resultado = valor - desconto\n",
    "\n",
    "print('O novo valor é :', valor_resultado)"
   ]
  },
  {
   "cell_type": "markdown",
   "id": "29afcf0c",
   "metadata": {},
   "source": [
    "Peça para o usuário digitar uma velocidade inicial (em m/s), uma posição inicial (em m) e um instante de tempo (em s) e imprima a posição de um projétil nesse instante de tempo.\n",
    "\n",
    "Use a fórmula matemática:\n",
    "\n",
    "y(t) = y(0) + v(0)\\*t + (g\\*(t\\*\\*2)/2)\n",
    "\n",
    "Onde, g é a aceleração da gravidade (-10m/s²), y(t) é a posição final, y(0) é a posição inicial, v(0) é a velocidade inicial e t é o instante de tempo."
   ]
  },
  {
   "cell_type": "code",
   "execution_count": 10,
   "id": "e2b90a48",
   "metadata": {},
   "outputs": [
    {
     "name": "stdout",
     "output_type": "stream",
     "text": [
      "Digite velocidade inicial: 10\n",
      "Digite posição inicial: 2\n",
      "Digite tempo: 5\n",
      "-73.0\n"
     ]
    }
   ],
   "source": [
    "v_0 = float(input('Digite velocidade inicial: '))\n",
    "\n",
    "y_0 = float(input('Digite posição inicial: '))\n",
    "\n",
    "t = float(input('Digite tempo: '))\n",
    "\n",
    "g = -10\n",
    "\n",
    "y_t = y_0 + v_0*t + (g*(t**2)/2)\n",
    "\n",
    "print(y_t)"
   ]
  },
  {
   "cell_type": "markdown",
   "id": "4f4a71b4",
   "metadata": {},
   "source": [
    "Faça um programa que sorteia um número N e peça para o usuário adivinhar o número sorteado. A cada resposta errada, o seu programa deve imprimir um aviso dizendo que a resposta está errada e pedir novamente uma resposta ao usuário.\n",
    "\n",
    "Para a realização desse exercício, utilize alguma função da biblioteca random (e.g. randint())."
   ]
  },
  {
   "cell_type": "code",
   "execution_count": 30,
   "id": "4ffe1bef",
   "metadata": {},
   "outputs": [
    {
     "name": "stdout",
     "output_type": "stream",
     "text": [
      "4\n",
      "Digite um número:5\n",
      "o número digitado está errado, tente novamente\n",
      "Digite um novo número:6\n",
      "o número digitado está errado, tente novamente\n",
      "Digite um novo número:7\n",
      "o número digitado está errado, tente novamente\n",
      "Digite um novo número:4\n",
      "você acertou o número\n"
     ]
    }
   ],
   "source": [
    "import random\n",
    "\n",
    "valor_correto = random.randint(0, 9)\n",
    "\n",
    "print(valor_correto)\n",
    "\n",
    "valor_tentativa = int(input('Digite um número:'))\n",
    "\n",
    "while valor_tentativa != valor_correto:\n",
    "    \n",
    "    print('o número digitado está errado, tente novamente')\n",
    "    \n",
    "    valor_tentativa = int(input('Digite um novo número:'))\n",
    "    \n",
    "print('você acertou o número')"
   ]
  },
  {
   "cell_type": "code",
   "execution_count": 31,
   "id": "ffc4a149",
   "metadata": {},
   "outputs": [
    {
     "name": "stdout",
     "output_type": "stream",
     "text": [
      "4\n"
     ]
    }
   ],
   "source": [
    "print(valor_correto)"
   ]
  },
  {
   "cell_type": "markdown",
   "id": "6d354ec6",
   "metadata": {},
   "source": [
    "Calcule a soma de até mil termos da série 1 + 1/2 + 1/4 + 1/8 + 1/16 + ...\n",
    "\n",
    "Dica: Use três variáveis:\n",
    "\n",
    "- um contador, que começa em zero;\n",
    "- uma variável para a soma de todos os termos, que também começa em zero;\n",
    "- uma variável para cada termo, que começa em 1 e a cada loop é dividida por 2.\n",
    "\n",
    "A repetição da soma de mil termos pode ser feita com a função while contador < 1000."
   ]
  },
  {
   "cell_type": "code",
   "execution_count": 37,
   "id": "0725c017",
   "metadata": {},
   "outputs": [
    {
     "name": "stdout",
     "output_type": "stream",
     "text": [
      "2.0\n"
     ]
    }
   ],
   "source": [
    "contador = 0\n",
    "\n",
    "soma = 0\n",
    "\n",
    "termo = 1\n",
    "\n",
    "while contador < 1000:\n",
    "    \n",
    "    soma = soma + termo\n",
    "    \n",
    "    termo = termo/2\n",
    "    \n",
    "    contador = contador + 1\n",
    "    \n",
    "print(soma)"
   ]
  },
  {
   "cell_type": "code",
   "execution_count": 39,
   "id": "69013bac",
   "metadata": {},
   "outputs": [
    {
     "name": "stdout",
     "output_type": "stream",
     "text": [
      "2.0\n"
     ]
    }
   ],
   "source": [
    "contador = 0\n",
    "\n",
    "soma = 0\n",
    "\n",
    "termo = 1\n",
    "\n",
    "while contador < 1000:\n",
    "    \n",
    "    soma += termo\n",
    "    \n",
    "    termo /= 2\n",
    "    \n",
    "    contador += 1\n",
    "    \n",
    "print(soma)"
   ]
  },
  {
   "cell_type": "markdown",
   "id": "08b3f966",
   "metadata": {},
   "source": [
    "Calcule a soma de mil termos dos inversos dos fatoriais: 1/(1!) + 1/(2!) + 1/(3!) + 1/(4!) + ...\n",
    "\n",
    "Dica: Assim como no exercício anterior use três variáveis: um contador; uma variável para a soma; e uma variável para os termos. Lembre-se de que 4! = 4\\*3\\*2\\*1 que também é igual a 4\\*3!."
   ]
  },
  {
   "cell_type": "code",
   "execution_count": 46,
   "id": "5d6c3773",
   "metadata": {},
   "outputs": [
    {
     "name": "stdout",
     "output_type": "stream",
     "text": [
      "1.691030206757254\n"
     ]
    }
   ],
   "source": [
    "contador = 0\n",
    "\n",
    "soma = 0\n",
    "\n",
    "fatorial = 1\n",
    "\n",
    "while contador < 20:\n",
    "    \n",
    "    soma += 1/fatorial\n",
    "    \n",
    "    fatorial = fatorial*(fatorial + 1)\n",
    "    \n",
    "    contador = contador + 1\n",
    "    \n",
    "print(soma)"
   ]
  },
  {
   "cell_type": "markdown",
   "id": "9de0a8a3",
   "metadata": {},
   "source": [
    "Sorteie uma lista de 10 números e imprima:\n",
    "\n",
    "- ~uma lista com os 4 primeiros números;~\n",
    "- ~uma lista com os 5 últimos números;~\n",
    "- ~uma lista contendo apenas os elementos das posições pares;~\n",
    "- ~uma lista contendo apenas os elementos das posições ímpares;~\n",
    "- ~a lista inversa da lista sorteada (isto é, uma lista que começa com o último elemento da lista sorteada e termina com o primeiro);~\n",
    "- ~uma lista inversa dos 5 primeiros números;~\n",
    "- ~uma lista inversa dos 5 últimos números.~"
   ]
  },
  {
   "cell_type": "code",
   "execution_count": 64,
   "id": "c26febbf",
   "metadata": {},
   "outputs": [
    {
     "name": "stdout",
     "output_type": "stream",
     "text": [
      "[5, 0, 1, 4, 2, 6, 5, 6, 6, 2]\n",
      "[5, 0, 1, 4]\n",
      "[6, 5, 6, 6, 2]\n",
      "[5, 1, 2, 5, 6]\n",
      "[0, 4, 6, 6, 2]\n",
      "[2, 6, 6, 5, 6, 2, 4, 1, 0, 5]\n",
      "[2, 6, 6, 5, 6]\n",
      "[2, 4, 1, 0, 5]\n"
     ]
    }
   ],
   "source": [
    "import random\n",
    "\n",
    "lista = []\n",
    "\n",
    "for i in range(10):\n",
    "    \n",
    "    sorteio = random.randint(0, 9)\n",
    "    \n",
    "    lista.append(sorteio)\n",
    "    \n",
    "print(lista)\n",
    "\n",
    "print(lista[:4])\n",
    "print(lista[-5:])\n",
    "\n",
    "lista_par = []\n",
    "lista_impar = []\n",
    "posicao = 0\n",
    "tamanho = len(lista)\n",
    "\n",
    "while posicao < tamanho:\n",
    "    \n",
    "    if posicao % 2 == 0:\n",
    "        \n",
    "        elemento = lista[posicao]\n",
    "        \n",
    "        lista_par.append(elemento)\n",
    "        \n",
    "    else:\n",
    "        \n",
    "        elemento = lista[posicao]\n",
    "        \n",
    "        lista_impar.append(elemento)\n",
    "    \n",
    "    posicao += 1\n",
    "    \n",
    "print(lista_par)\n",
    "print(lista_impar)\n",
    "\n",
    "lista.reverse()\n",
    "\n",
    "print(lista)\n",
    "\n",
    "print(lista[:5])\n",
    "print(lista[-5:])"
   ]
  },
  {
   "cell_type": "code",
   "execution_count": 72,
   "id": "bbd5f824",
   "metadata": {},
   "outputs": [
    {
     "name": "stdout",
     "output_type": "stream",
     "text": [
      "[2, 6, 6, 5, 6, 2, 4, 1, 0, 5]\n"
     ]
    }
   ],
   "source": [
    "print(lista)"
   ]
  },
  {
   "cell_type": "code",
   "execution_count": 73,
   "id": "482dba1e",
   "metadata": {},
   "outputs": [
    {
     "name": "stdout",
     "output_type": "stream",
     "text": [
      "[2, 6, 6, 4, 0]\n"
     ]
    }
   ],
   "source": [
    "posicaoPar = lista[::2]\n",
    "print(posicaoPar)"
   ]
  },
  {
   "cell_type": "code",
   "execution_count": 74,
   "id": "77544266",
   "metadata": {},
   "outputs": [
    {
     "name": "stdout",
     "output_type": "stream",
     "text": [
      "[6, 5, 2, 1, 5]\n"
     ]
    }
   ],
   "source": [
    "posicaoImpar = lista[1::2]\n",
    "print(posicaoImpar)"
   ]
  },
  {
   "cell_type": "markdown",
   "id": "32e8e9eb",
   "metadata": {},
   "source": [
    "Faça um programa que pede 4 notas de um aluno e os pesos para cada uma dessas notas. Em seguida, mostre a média podenrada delas, usando listas."
   ]
  },
  {
   "cell_type": "code",
   "execution_count": 70,
   "id": "eabc9aa7",
   "metadata": {},
   "outputs": [
    {
     "name": "stdout",
     "output_type": "stream",
     "text": [
      "Digite nota: 5\n",
      "Digite o peso dessa nota: 1\n",
      "Digite nota: 6\n",
      "Digite o peso dessa nota: 1\n",
      "Digite nota: 7\n",
      "Digite o peso dessa nota: 1\n",
      "Digite nota: 8\n",
      "Digite o peso dessa nota: 4\n",
      "7.142857142857143\n"
     ]
    }
   ],
   "source": [
    "notas = []\n",
    "\n",
    "pesos = []\n",
    "\n",
    "for i in range(4):\n",
    "    \n",
    "    n = float(input('Digite nota: '))\n",
    "    \n",
    "    notas.append(n)\n",
    "    \n",
    "    p = float(input('Digite o peso dessa nota: '))\n",
    "    \n",
    "    pesos.append(p)\n",
    "    \n",
    "posicao = 0\n",
    "\n",
    "soma_ponderada = 0\n",
    "\n",
    "while posicao < 4:\n",
    "    \n",
    "    soma_ponderada += notas[posicao] * pesos[posicao]\n",
    "    \n",
    "    posicao += 1\n",
    "    \n",
    "media_ponderada = soma_ponderada/sum(pesos)\n",
    "\n",
    "print(media_ponderada)"
   ]
  },
  {
   "cell_type": "code",
   "execution_count": 71,
   "id": "5697f4fe",
   "metadata": {},
   "outputs": [
    {
     "name": "stdout",
     "output_type": "stream",
     "text": [
      "Digite nota: 5\n",
      "Digite o peso dessa nota: 1\n",
      "Digite nota: 6\n",
      "Digite o peso dessa nota: 1\n",
      "Digite nota: 7\n",
      "Digite o peso dessa nota: 1\n",
      "Digite nota: 8\n",
      "Digite o peso dessa nota: 4\n",
      "7.142857142857143\n"
     ]
    }
   ],
   "source": [
    "notas = []\n",
    "\n",
    "pesos = []\n",
    "\n",
    "for i in range(4):\n",
    "    \n",
    "    n = float(input('Digite nota: '))\n",
    "    \n",
    "    notas.append(n)\n",
    "    \n",
    "    p = float(input('Digite o peso dessa nota: '))\n",
    "    \n",
    "    pesos.append(p)\n",
    "\n",
    "soma_ponderada = 0\n",
    "\n",
    "for n, p in zip(notas, pesos):\n",
    "    \n",
    "    soma_ponderada += n * p\n",
    "    \n",
    "media_ponderada = soma_ponderada/sum(pesos)\n",
    "\n",
    "print(media_ponderada)"
   ]
  },
  {
   "cell_type": "code",
   "execution_count": 77,
   "id": "dd12ec6b",
   "metadata": {},
   "outputs": [
    {
     "name": "stdout",
     "output_type": "stream",
     "text": [
      "[1.0, 1.0, 1.0, 4.0]\n",
      "['1.0', '1.0', '1.0', '4.0']\n"
     ]
    }
   ],
   "source": [
    "pesos_string = list(map(str, pesos))\n",
    "\n",
    "print(pesos)\n",
    "print(pesos_string)"
   ]
  },
  {
   "cell_type": "markdown",
   "id": "5c799e53",
   "metadata": {},
   "source": [
    "Faça um programa que informe a data e a hora para o usuário. Para isso use a função datetime.now() do módulo datetime."
   ]
  },
  {
   "cell_type": "code",
   "execution_count": 83,
   "id": "aa02a7a9",
   "metadata": {},
   "outputs": [
    {
     "name": "stdout",
     "output_type": "stream",
     "text": [
      "2021-06-24\n",
      "20:18:27.955027\n"
     ]
    }
   ],
   "source": [
    "import datetime\n",
    "\n",
    "data = datetime.datetime.now()\n",
    "\n",
    "print(data.date())\n",
    "print(data.time())"
   ]
  },
  {
   "cell_type": "code",
   "execution_count": 80,
   "id": "7ef13968",
   "metadata": {},
   "outputs": [
    {
     "name": "stdout",
     "output_type": "stream",
     "text": [
      "<class 'datetime.datetime'>\n"
     ]
    }
   ],
   "source": [
    "print(type(data))"
   ]
  },
  {
   "cell_type": "code",
   "execution_count": 86,
   "id": "17a82639",
   "metadata": {},
   "outputs": [
    {
     "name": "stdout",
     "output_type": "stream",
     "text": [
      "Dia: 20\n",
      "Mês: 11\n",
      "Ano: 2021\n",
      "20/11/2021\n"
     ]
    }
   ],
   "source": [
    "dia = input('Dia: ')\n",
    "mes = input('Mês: ')\n",
    "ano = input('Ano: ')\n",
    "\n",
    "print(dia+\"/\"+mes+\"/\"+ano)"
   ]
  },
  {
   "cell_type": "markdown",
   "id": "86f8ea0d",
   "metadata": {},
   "source": [
    "Um produto vai sofrer aumento de acordo com a Tabela 1 abaixo. Faça um programa que peça para o usuário digitar o valor do produto de acordo com o preço antigo e escreva uma das mensagens da Tabela 2, de acordo com o preço reajustado:"
   ]
  },
  {
   "cell_type": "raw",
   "id": "4f6f5ced",
   "metadata": {},
   "source": [
    "Tabela 1\n",
    "\n",
    "Preço Antigo\t        % de aumento\n",
    "Até 50 reais\t        5%\n",
    "Entre 50 e 100 reais\t10%\n",
    "De 100 a 150 reais\t    13%\n",
    "Acima de 150 reais\t    15%\n",
    "\n",
    "\n",
    "------------------------------------------------------------\n",
    "\n",
    "Tabela 2\n",
    "\n",
    "Preço Novo\t            Mensagem\n",
    "Até 80 reais\t        Barato\n",
    "Entre 80 e 115 reais\tRazoável\n",
    "Entre 115 e 150 reais\tNormal\n",
    "Entre 150 e 170 reais\tCaro\n",
    "Acima de 170 reais\t    Muito Caro\n"
   ]
  },
  {
   "cell_type": "code",
   "execution_count": 90,
   "id": "26e8de07",
   "metadata": {},
   "outputs": [
    {
     "name": "stdout",
     "output_type": "stream",
     "text": [
      "digite o valor do produto: 200\n",
      "muito caro\n"
     ]
    }
   ],
   "source": [
    "valor_antigo = float(input('digite o valor do produto: '))\n",
    "\n",
    "if valor <= 50:\n",
    "    aumento = 0.05*valor_antigo\n",
    "elif valor <= 100:\n",
    "    aumento = 0.1*valor_antigo\n",
    "elif valor <= 150:\n",
    "    aumento = 0.13*valor_antigo\n",
    "else:\n",
    "    aumento = 0.15*valor_antigo\n",
    "    \n",
    "valor_novo = valor_antigo + aumento\n",
    "\n",
    "if valor_novo <= 80:\n",
    "    print('barato')\n",
    "elif valor_novo <= 115:\n",
    "    print('razoável')\n",
    "elif valor_novo <= 150:\n",
    "    print('normal')\n",
    "elif valor_novo <= 170:\n",
    "    print('caro')\n",
    "else:\n",
    "    print('muito caro')"
   ]
  }
 ],
 "metadata": {
  "kernelspec": {
   "display_name": "Python 3",
   "language": "python",
   "name": "python3"
  },
  "language_info": {
   "codemirror_mode": {
    "name": "ipython",
    "version": 3
   },
   "file_extension": ".py",
   "mimetype": "text/x-python",
   "name": "python",
   "nbconvert_exporter": "python",
   "pygments_lexer": "ipython3",
   "version": "3.6.6"
  }
 },
 "nbformat": 4,
 "nbformat_minor": 5
}
